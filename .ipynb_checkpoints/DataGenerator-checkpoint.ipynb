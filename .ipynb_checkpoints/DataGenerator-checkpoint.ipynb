{
 "cells": [
  {
   "cell_type": "code",
   "execution_count": 1,
   "id": "562be2a5",
   "metadata": {},
   "outputs": [],
   "source": [
    "import numpy as np\n",
    "import tensorflow as tf\n",
    "import matplotlib.pyplot as plt"
   ]
  },
  {
   "cell_type": "code",
   "execution_count": 2,
   "id": "e263ef59",
   "metadata": {},
   "outputs": [],
   "source": [
    "from PIL import Image\n",
    "import cv2"
   ]
  },
  {
   "cell_type": "code",
   "execution_count": 3,
   "id": "cd232396",
   "metadata": {},
   "outputs": [],
   "source": [
    "import os\n",
    "import sys"
   ]
  },
  {
   "cell_type": "code",
   "execution_count": 4,
   "id": "18656214",
   "metadata": {},
   "outputs": [],
   "source": [
    "from math import floor, ceil"
   ]
  },
  {
   "cell_type": "code",
   "execution_count": 5,
   "id": "4798a5a6",
   "metadata": {},
   "outputs": [],
   "source": [
    "from tensorflow import convert_to_tensor, Tensor, constant"
   ]
  },
  {
   "cell_type": "code",
   "execution_count": 6,
   "id": "4ecfc460",
   "metadata": {},
   "outputs": [
    {
     "data": {
      "text/plain": [
       "True"
      ]
     },
     "execution_count": 6,
     "metadata": {},
     "output_type": "execute_result"
    }
   ],
   "source": [
    "os.path.isdir('./dataset')"
   ]
  },
  {
   "cell_type": "code",
   "execution_count": 7,
   "id": "9d720a35",
   "metadata": {},
   "outputs": [],
   "source": [
    "imgpaths = {}"
   ]
  },
  {
   "cell_type": "code",
   "execution_count": 8,
   "id": "b35c58d4",
   "metadata": {},
   "outputs": [],
   "source": [
    "pth = './dataset/png'\n",
    "for d in os.listdir(pth):\n",
    "    if not os.path.isdir(pth + '/' + d):\n",
    "        continue\n",
    "    for img in os.listdir(pth + '/' +d):\n",
    "        path = './dataset/png/'+d\n",
    "        if d not in imgpaths:\n",
    "            imgpaths[d] = []\n",
    "        imgpaths[d].append(path + '/' + img)"
   ]
  },
  {
   "cell_type": "code",
   "execution_count": 9,
   "id": "2d641904",
   "metadata": {},
   "outputs": [
    {
     "data": {
      "text/plain": [
       "dict_keys(['airplane', 'alarm clock', 'angel', 'ant', 'apple', 'arm', 'armchair', 'ashtray', 'axe', 'backpack', 'banana', 'barn', 'baseball bat', 'basket', 'bathtub', 'bear (animal)', 'bed', 'bee', 'beer-mug', 'bell', 'bench', 'bicycle', 'binoculars', 'blimp', 'book', 'bookshelf', 'boomerang', 'bottle opener', 'bowl', 'brain', 'bread', 'bridge', 'bulldozer', 'bus', 'bush', 'butterfly', 'cabinet', 'cactus', 'cake', 'calculator', 'camel', 'camera', 'candle', 'cannon', 'canoe', 'car (sedan)', 'carrot', 'castle', 'cat', 'cell phone', 'chair', 'chandelier', 'church', 'cigarette', 'cloud', 'comb', 'computer monitor', 'computer-mouse', 'couch', 'cow', 'crab', 'crane (machine)', 'crocodile', 'crown', 'cup', 'diamond', 'dog', 'dolphin', 'donut', 'door', 'door handle', 'dragon', 'duck', 'ear', 'elephant', 'envelope', 'eye', 'eyeglasses', 'face', 'fan', 'feather', 'fire hydrant', 'fish', 'flashlight', 'floor lamp', 'flower with stem', 'flying bird', 'flying saucer', 'foot', 'fork', 'frog', 'frying-pan', 'giraffe', 'grapes', 'grenade', 'guitar', 'hamburger', 'hammer', 'hand', 'harp', 'hat', 'head', 'head-phones', 'hedgehog', 'helicopter', 'helmet', 'horse', 'hot air balloon', 'hot-dog', 'hourglass', 'house', 'human-skeleton', 'ice-cream-cone', 'ipod', 'kangaroo', 'key', 'keyboard', 'knife', 'ladder', 'laptop', 'leaf', 'lightbulb', 'lighter', 'lion', 'lobster', 'loudspeaker', 'mailbox', 'megaphone', 'mermaid', 'microphone', 'microscope', 'monkey', 'moon', 'mosquito', 'motorbike', 'mouse (animal)', 'mouth', 'mug', 'mushroom', 'nose', 'octopus', 'owl', 'palm tree', 'panda', 'paper clip', 'parachute', 'parking meter', 'parrot', 'pear', 'pen', 'penguin', 'person sitting', 'person walking', 'piano', 'pickup truck', 'pig', 'pigeon', 'pineapple', 'pipe (for smoking)', 'pizza', 'potted plant', 'power outlet', 'present', 'pretzel', 'pumpkin', 'purse', 'rabbit', 'race car', 'radio', 'rainbow', 'revolver', 'rifle', 'rollerblades', 'rooster', 'sailboat', 'santa claus', 'satellite', 'satellite dish', 'saxophone', 'scissors', 'scorpion', 'screwdriver', 'sea turtle', 'seagull', 'shark', 'sheep', 'ship', 'shoe', 'shovel', 'skateboard', 'skull', 'skyscraper', 'snail', 'snake', 'snowboard', 'snowman', 'socks', 'space shuttle', 'speed-boat', 'spider', 'sponge bob', 'spoon', 'squirrel', 'standing bird', 'stapler', 'strawberry', 'streetlight', 'submarine', 'suitcase', 'sun', 'suv', 'swan', 'sword', 'syringe', 't-shirt', 'table', 'tablelamp', 'teacup', 'teapot', 'teddy-bear', 'telephone', 'tennis-racket', 'tent', 'tiger', 'tire', 'toilet', 'tomato', 'tooth', 'toothbrush', 'tractor', 'traffic light', 'train', 'tree', 'trombone', 'trousers', 'truck', 'trumpet', 'tv', 'umbrella', 'van', 'vase', 'violin', 'walkie talkie', 'wheel', 'wheelbarrow', 'windmill', 'wine-bottle', 'wineglass', 'wrist-watch', 'zebra'])"
      ]
     },
     "execution_count": 9,
     "metadata": {},
     "output_type": "execute_result"
    }
   ],
   "source": [
    "imgpaths.keys()"
   ]
  },
  {
   "cell_type": "code",
   "execution_count": 10,
   "id": "773bf713",
   "metadata": {},
   "outputs": [
    {
     "data": {
      "text/plain": [
       "['./dataset/png/airplane/1.png',\n",
       " './dataset/png/airplane/10.png',\n",
       " './dataset/png/airplane/11.png',\n",
       " './dataset/png/airplane/12.png',\n",
       " './dataset/png/airplane/13.png',\n",
       " './dataset/png/airplane/14.png',\n",
       " './dataset/png/airplane/15.png',\n",
       " './dataset/png/airplane/16.png',\n",
       " './dataset/png/airplane/17.png',\n",
       " './dataset/png/airplane/18.png']"
      ]
     },
     "execution_count": 10,
     "metadata": {},
     "output_type": "execute_result"
    }
   ],
   "source": [
    "imgpaths['airplane'][:10]"
   ]
  },
  {
   "cell_type": "code",
   "execution_count": 11,
   "id": "1dbf6005",
   "metadata": {},
   "outputs": [
    {
     "data": {
      "text/plain": [
       "['airplane',\n",
       " 'alarm clock',\n",
       " 'angel',\n",
       " 'ant',\n",
       " 'apple',\n",
       " 'arm',\n",
       " 'armchair',\n",
       " 'ashtray',\n",
       " 'axe',\n",
       " 'backpack',\n",
       " 'banana',\n",
       " 'barn',\n",
       " 'baseball bat',\n",
       " 'basket',\n",
       " 'bathtub',\n",
       " 'bear (animal)',\n",
       " 'bed',\n",
       " 'bee',\n",
       " 'beer-mug',\n",
       " 'bell',\n",
       " 'bench',\n",
       " 'bicycle',\n",
       " 'binoculars',\n",
       " 'blimp',\n",
       " 'book',\n",
       " 'bookshelf',\n",
       " 'boomerang',\n",
       " 'bottle opener',\n",
       " 'bowl',\n",
       " 'brain',\n",
       " 'bread',\n",
       " 'bridge',\n",
       " 'bulldozer',\n",
       " 'bus',\n",
       " 'bush',\n",
       " 'butterfly',\n",
       " 'cabinet',\n",
       " 'cactus',\n",
       " 'cake',\n",
       " 'calculator',\n",
       " 'camel',\n",
       " 'camera',\n",
       " 'candle',\n",
       " 'cannon',\n",
       " 'canoe',\n",
       " 'car (sedan)',\n",
       " 'carrot',\n",
       " 'castle',\n",
       " 'cat',\n",
       " 'cell phone',\n",
       " 'chair',\n",
       " 'chandelier',\n",
       " 'church',\n",
       " 'cigarette',\n",
       " 'cloud',\n",
       " 'comb',\n",
       " 'computer monitor',\n",
       " 'computer-mouse',\n",
       " 'couch',\n",
       " 'cow',\n",
       " 'crab',\n",
       " 'crane (machine)',\n",
       " 'crocodile',\n",
       " 'crown',\n",
       " 'cup',\n",
       " 'diamond',\n",
       " 'dog',\n",
       " 'dolphin',\n",
       " 'donut',\n",
       " 'door',\n",
       " 'door handle',\n",
       " 'dragon',\n",
       " 'duck',\n",
       " 'ear',\n",
       " 'elephant',\n",
       " 'envelope',\n",
       " 'eye',\n",
       " 'eyeglasses',\n",
       " 'face',\n",
       " 'fan',\n",
       " 'feather',\n",
       " 'filelist.txt',\n",
       " 'fire hydrant',\n",
       " 'fish',\n",
       " 'flashlight',\n",
       " 'floor lamp',\n",
       " 'flower with stem',\n",
       " 'flying bird',\n",
       " 'flying saucer',\n",
       " 'foot',\n",
       " 'fork',\n",
       " 'frog',\n",
       " 'frying-pan',\n",
       " 'giraffe',\n",
       " 'grapes',\n",
       " 'grenade',\n",
       " 'guitar',\n",
       " 'hamburger',\n",
       " 'hammer',\n",
       " 'hand',\n",
       " 'harp',\n",
       " 'hat',\n",
       " 'head',\n",
       " 'head-phones',\n",
       " 'hedgehog',\n",
       " 'helicopter',\n",
       " 'helmet',\n",
       " 'horse',\n",
       " 'hot air balloon',\n",
       " 'hot-dog',\n",
       " 'hourglass',\n",
       " 'house',\n",
       " 'human-skeleton',\n",
       " 'ice-cream-cone',\n",
       " 'ipod',\n",
       " 'kangaroo',\n",
       " 'key',\n",
       " 'keyboard',\n",
       " 'knife',\n",
       " 'ladder',\n",
       " 'laptop',\n",
       " 'leaf',\n",
       " 'lightbulb',\n",
       " 'lighter',\n",
       " 'lion',\n",
       " 'lobster',\n",
       " 'loudspeaker',\n",
       " 'mailbox',\n",
       " 'megaphone',\n",
       " 'mermaid',\n",
       " 'microphone',\n",
       " 'microscope',\n",
       " 'monkey',\n",
       " 'moon',\n",
       " 'mosquito',\n",
       " 'motorbike',\n",
       " 'mouse (animal)',\n",
       " 'mouth',\n",
       " 'mug',\n",
       " 'mushroom',\n",
       " 'nose',\n",
       " 'octopus',\n",
       " 'owl',\n",
       " 'palm tree',\n",
       " 'panda',\n",
       " 'paper clip',\n",
       " 'parachute',\n",
       " 'parking meter',\n",
       " 'parrot',\n",
       " 'pear',\n",
       " 'pen',\n",
       " 'penguin',\n",
       " 'person sitting',\n",
       " 'person walking',\n",
       " 'piano',\n",
       " 'pickup truck',\n",
       " 'pig',\n",
       " 'pigeon',\n",
       " 'pineapple',\n",
       " 'pipe (for smoking)',\n",
       " 'pizza',\n",
       " 'potted plant',\n",
       " 'power outlet',\n",
       " 'present',\n",
       " 'pretzel',\n",
       " 'pumpkin',\n",
       " 'purse',\n",
       " 'rabbit',\n",
       " 'race car',\n",
       " 'radio',\n",
       " 'rainbow',\n",
       " 'revolver',\n",
       " 'rifle',\n",
       " 'rollerblades',\n",
       " 'rooster',\n",
       " 'sailboat',\n",
       " 'santa claus',\n",
       " 'satellite',\n",
       " 'satellite dish',\n",
       " 'saxophone',\n",
       " 'scissors',\n",
       " 'scorpion',\n",
       " 'screwdriver',\n",
       " 'sea turtle',\n",
       " 'seagull',\n",
       " 'shark',\n",
       " 'sheep',\n",
       " 'ship',\n",
       " 'shoe',\n",
       " 'shovel',\n",
       " 'skateboard',\n",
       " 'skull',\n",
       " 'skyscraper',\n",
       " 'snail',\n",
       " 'snake',\n",
       " 'snowboard',\n",
       " 'snowman',\n",
       " 'socks',\n",
       " 'space shuttle',\n",
       " 'speed-boat',\n",
       " 'spider',\n",
       " 'sponge bob',\n",
       " 'spoon',\n",
       " 'squirrel',\n",
       " 'standing bird',\n",
       " 'stapler',\n",
       " 'strawberry',\n",
       " 'streetlight',\n",
       " 'submarine',\n",
       " 'suitcase',\n",
       " 'sun',\n",
       " 'suv',\n",
       " 'swan',\n",
       " 'sword',\n",
       " 'syringe',\n",
       " 't-shirt',\n",
       " 'table',\n",
       " 'tablelamp',\n",
       " 'teacup',\n",
       " 'teapot',\n",
       " 'teddy-bear',\n",
       " 'telephone',\n",
       " 'tennis-racket',\n",
       " 'tent',\n",
       " 'tiger',\n",
       " 'tire',\n",
       " 'toilet',\n",
       " 'tomato',\n",
       " 'tooth',\n",
       " 'toothbrush',\n",
       " 'tractor',\n",
       " 'traffic light',\n",
       " 'train',\n",
       " 'tree',\n",
       " 'trombone',\n",
       " 'trousers',\n",
       " 'truck',\n",
       " 'trumpet',\n",
       " 'tv',\n",
       " 'umbrella',\n",
       " 'van',\n",
       " 'vase',\n",
       " 'violin',\n",
       " 'walkie talkie',\n",
       " 'wheel',\n",
       " 'wheelbarrow',\n",
       " 'windmill',\n",
       " 'wine-bottle',\n",
       " 'wineglass',\n",
       " 'wrist-watch',\n",
       " 'zebra']"
      ]
     },
     "execution_count": 11,
     "metadata": {},
     "output_type": "execute_result"
    }
   ],
   "source": [
    "os.listdir('./dataset/png')"
   ]
  },
  {
   "cell_type": "code",
   "execution_count": 100,
   "id": "fc9a9681",
   "metadata": {},
   "outputs": [],
   "source": [
    "class DataGenerator(tf.keras.utils.Sequence):\n",
    "    def __init__(self, db_dir, batch_size, input_shape, num_classes=None, \n",
    "                 shuffle=True, dir_classes=False):\n",
    "        \n",
    "        # todo: fix num classes\n",
    "        \n",
    "        self.current_counter = 0\n",
    "        self.label_dict = {}\n",
    "\n",
    "        self.input_shape = input_shape\n",
    "        self.batch_size = batch_size\n",
    "        self.num_classes = num_classes\n",
    "        self.shuffle = shuffle\n",
    "        \n",
    "        # load the data from the root directory\n",
    "        self.data, self.labels = self.get_data(db_dir)\n",
    "        self.indices = np.arange(len(self.data))\n",
    "        self.on_epoch_end()\n",
    "\n",
    "\n",
    "    def get_data(self, root_dir):\n",
    "        \"\"\"\"\n",
    "        Loads the paths to the images and their corresponding labels from the database directory\n",
    "        \"\"\"\n",
    "        self.data = []\n",
    "        self.labels = []\n",
    "\n",
    "        path = root_dir\n",
    "        pth = path\n",
    "        \n",
    "        #pth = './dataset/png'\n",
    "        for d in os.listdir(pth):\n",
    "            if not os.path.isdir(pth + '/' + d):\n",
    "                continue\n",
    "            for img in os.listdir(pth + '/' + d):\n",
    "                path = './dataset/png/'+ d\n",
    "                if d not in imgpaths:\n",
    "                    imgpaths[d] = []\n",
    "                imgpaths[d].append(path + '/' + img)\n",
    "                \n",
    "        for i in imgpaths.keys():\n",
    "            for j in imgpaths[i]:\n",
    "                self.data.append(j)\n",
    "                self.labels.append(i)\n",
    "\n",
    "        return self.data, self.labels\n",
    "\n",
    "    def __len__(self):\n",
    "        \"\"\"\n",
    "        Returns the number of batches per epoch: the total size of the dataset divided by the batch size\n",
    "        \"\"\"\n",
    "        return int(np.floor(len(self.data) / self.batch_size))\n",
    "        # TODO your code  here (size of dataset divided by the batch size)\n",
    "        return 0\n",
    "    \n",
    "    def vec_to_tensor(self, v):\n",
    "      return constant(v)\n",
    "    \n",
    "    \"\"\"\n",
    "        Preprocesses before outputting to .fit()\n",
    "        This can mean: reshape, channel count check, mean subtraction and std. dev division.\n",
    "    \"\"\"\n",
    "    def batch_to_train(self, batch_x, batch_y):\n",
    "        x_train = [self.vec_to_tensor(x) for x in batch_x]\n",
    "        y_train = [self.vec_to_tensor(x) for x in batch_y]\n",
    "\n",
    "        #print(self.input_shape)\n",
    "        x_train = [cv2.resize(np.array(i), (self.input_shape[0], self.input_shape[1])) for i in x_train]\n",
    "        x_train2 = []\n",
    "        y_train2 = []\n",
    "\n",
    "        for i in range(len(x_train)):\n",
    "          if (x_train[i].shape[0] == self.input_shape[0] and x_train[i].shape[1] == self.input_shape[1]):\n",
    "            x_train2.append(x_train[i])\n",
    "            y_train2.append([y_train[i].numpy(), 0 if y_train[i].numpy() == 1 else 1])\n",
    "\n",
    "        y_test = y_train2[:floor(1/5 * self.batch_size)]\n",
    "        x_test = x_train2[:floor(1/5 * self.batch_size)]\n",
    "\n",
    "        x_train = x_train2[ceil(1/5 * self.batch_size + 1):]\n",
    "        y_train = y_train2[ceil(1/5 * self.batch_size + 1):]\n",
    "\n",
    "        \n",
    "        \n",
    "        x_train = np.array(x_train)\n",
    "        y_train = np.array(y_train)\n",
    "        \n",
    "#         mean = x_train.mean(axis=(0, 1, 2))\n",
    "#         x_train[..., 0] = x_train[..., 0] - mean[0]\n",
    "#         x_train[..., 1] = x_train[..., 1] - mean[1]\n",
    "#         x_train[..., 2] = x_train[..., 2] - mean[2]\n",
    "        \n",
    "        x_test = np.array(x_test)\n",
    "        y_test = np.array(y_test)\n",
    "        \n",
    "        print(x_train.shape)\n",
    "        \n",
    "        return x_train, y_train\n",
    "\n",
    "    def __getitem__(self, index):\n",
    "        \"\"\"\"\n",
    "        Generates a batch of data\n",
    "        Note: computation intensivity\n",
    "        \"\"\"\n",
    "\n",
    "        batch_indices = self.indices[index*self.batch_size : (index+1)*self.batch_size]\n",
    "        \n",
    "        batch_x = [] # TODO load the image(s) from batch_indices\n",
    "        batch_y = [] # TODO load the corresponding labels of the images you loaded\n",
    "\n",
    "        for i in batch_indices:\n",
    "          ci = self.data[i]\n",
    "          cl = self.labels[i]\n",
    "            \n",
    "          cd = Image.open(ci) #.convert('L')\n",
    "          cd = np.array(cd)\n",
    "\n",
    "#           if (len(cd.shape) != 3):\n",
    "#             continue\n",
    "          # reshape?\n",
    "\n",
    "          batch_x.append(cd)\n",
    "          batch_y.append(cl)\n",
    "        \n",
    "         \n",
    "\n",
    "        # optionally you can use: batch_y = tf.keras.utils.to_categorical(batch_y, num_classes=self.num_classes)\n",
    "        return self.batch_to_train(batch_x, batch_y)\n",
    "\n",
    "    def on_epoch_end(self):\n",
    "        \"\"\"\"\n",
    "        Called at the end of each epoch\n",
    "        \"\"\"\n",
    "        # if required, shuffle your data after each epoch\n",
    "        self.indices = np.arange(len(self.data))\n",
    "        if self.shuffle:\n",
    "            # TODO shuffle data\n",
    "            # you might find np.random.shuffle useful here\n",
    "            np.random.shuffle(self.indices)"
   ]
  },
  {
   "cell_type": "code",
   "execution_count": 101,
   "id": "1bafc739",
   "metadata": {},
   "outputs": [],
   "source": [
    "class DataVisualizer:\n",
    "    @staticmethod\n",
    "    def plot_batch(vec):\n",
    "        fig, axes = plt.subplots(nrows=1, ncols=4, figsize=[16, 16], dpi=(200))\n",
    "        for i in range(len(axes)):\n",
    "            axes[i].imshow(vec[i], cmap=plt.get_cmap('gray'), vmin=0, vmax=255., interpolation=\"none\")\n",
    "        plt.show()"
   ]
  },
  {
   "cell_type": "code",
   "execution_count": 102,
   "id": "c2493216",
   "metadata": {},
   "outputs": [],
   "source": [
    "d = DataGenerator(\n",
    "    db_dir='./dataset/png',\n",
    "    batch_size=12,\n",
    "    input_shape=(440, 440),\n",
    "    dir_classes=True\n",
    ")"
   ]
  },
  {
   "cell_type": "code",
   "execution_count": 103,
   "id": "9865ec11",
   "metadata": {},
   "outputs": [
    {
     "data": {
      "text/plain": [
       "['./dataset/png/airplane/1.png',\n",
       " './dataset/png/airplane/10.png',\n",
       " './dataset/png/airplane/11.png',\n",
       " './dataset/png/airplane/12.png',\n",
       " './dataset/png/airplane/13.png',\n",
       " './dataset/png/airplane/14.png',\n",
       " './dataset/png/airplane/15.png',\n",
       " './dataset/png/airplane/16.png',\n",
       " './dataset/png/airplane/17.png',\n",
       " './dataset/png/airplane/18.png']"
      ]
     },
     "execution_count": 103,
     "metadata": {},
     "output_type": "execute_result"
    }
   ],
   "source": [
    "d.data[:10]"
   ]
  },
  {
   "cell_type": "code",
   "execution_count": 105,
   "id": "5463165a",
   "metadata": {
    "scrolled": true
   },
   "outputs": [
    {
     "name": "stdout",
     "output_type": "stream",
     "text": [
      "(8, 440, 440)\n"
     ]
    }
   ],
   "source": [
    "batch = d[0]"
   ]
  },
  {
   "cell_type": "code",
   "execution_count": 111,
   "id": "97b438df",
   "metadata": {},
   "outputs": [
    {
     "data": {
      "text/plain": [
       "(array([[[255, 255, 255, ..., 255, 255, 255],\n",
       "         [255, 255, 255, ..., 255, 255, 255],\n",
       "         [255, 255, 255, ..., 255, 255, 255],\n",
       "         ...,\n",
       "         [255, 255, 255, ..., 255, 255, 255],\n",
       "         [255, 255, 255, ..., 255, 255, 255],\n",
       "         [255, 255, 255, ..., 255, 255, 255]],\n",
       " \n",
       "        [[255, 255, 255, ..., 255, 255, 255],\n",
       "         [255, 255, 255, ..., 255, 255, 255],\n",
       "         [255, 255, 255, ..., 255, 255, 255],\n",
       "         ...,\n",
       "         [255, 255, 255, ..., 255, 255, 255],\n",
       "         [255, 255, 255, ..., 255, 255, 255],\n",
       "         [255, 255, 255, ..., 255, 255, 255]],\n",
       " \n",
       "        [[255, 255, 255, ..., 255, 255, 255],\n",
       "         [255, 255, 255, ..., 255, 255, 255],\n",
       "         [255, 255, 255, ..., 255, 255, 255],\n",
       "         ...,\n",
       "         [255, 255, 255, ..., 255, 255, 255],\n",
       "         [255, 255, 255, ..., 255, 255, 255],\n",
       "         [255, 255, 255, ..., 255, 255, 255]],\n",
       " \n",
       "        ...,\n",
       " \n",
       "        [[255, 255, 255, ..., 255, 255, 255],\n",
       "         [255, 255, 255, ..., 255, 255, 255],\n",
       "         [255, 255, 255, ..., 255, 255, 255],\n",
       "         ...,\n",
       "         [255, 255, 255, ..., 255, 255, 255],\n",
       "         [255, 255, 255, ..., 255, 255, 255],\n",
       "         [255, 255, 255, ..., 255, 255, 255]],\n",
       " \n",
       "        [[255, 255, 255, ..., 255, 255, 255],\n",
       "         [255, 255, 255, ..., 255, 255, 255],\n",
       "         [255, 255, 255, ..., 255, 255, 255],\n",
       "         ...,\n",
       "         [255, 255, 255, ..., 255, 255, 255],\n",
       "         [255, 255, 255, ..., 255, 255, 255],\n",
       "         [255, 255, 255, ..., 255, 255, 255]],\n",
       " \n",
       "        [[255, 255, 255, ..., 255, 255, 255],\n",
       "         [255, 255, 255, ..., 255, 255, 255],\n",
       "         [255, 255, 255, ..., 255, 255, 255],\n",
       "         ...,\n",
       "         [255, 255, 255, ..., 255, 255, 255],\n",
       "         [255, 255, 255, ..., 255, 255, 255],\n",
       "         [255, 255, 255, ..., 255, 255, 255]]], dtype=uint8),\n",
       " array([[b'standing bird', b'1'],\n",
       "        [b'calculator', b'1'],\n",
       "        [b'walkie talkie', b'1'],\n",
       "        [b'umbrella', b'1'],\n",
       "        [b'pear', b'1'],\n",
       "        [b'train', b'1'],\n",
       "        [b'pineapple', b'1'],\n",
       "        [b'cabinet', b'1']], dtype='|S13'))"
      ]
     },
     "execution_count": 111,
     "metadata": {},
     "output_type": "execute_result"
    }
   ],
   "source": [
    "batch"
   ]
  },
  {
   "cell_type": "code",
   "execution_count": 110,
   "id": "1bb6904f",
   "metadata": {},
   "outputs": [
    {
     "data": {
      "text/plain": [
       "(8, 440, 440)"
      ]
     },
     "execution_count": 110,
     "metadata": {},
     "output_type": "execute_result"
    }
   ],
   "source": [
    "batch[0].shape"
   ]
  },
  {
   "cell_type": "code",
   "execution_count": 112,
   "id": "96e7a163",
   "metadata": {
    "scrolled": false
   },
   "outputs": [
    {
     "data": {
      "image/png": "[encoded data removed]",
      "text/plain": [
       "<Figure size 3200x3200 with 4 Axes>"
      ]
     },
     "metadata": {
      "needs_background": "light"
     },
     "output_type": "display_data"
    }
   ],
   "source": [
    "DataVisualizer.plot_batch(batch[0])"
   ]
  },
  {
   "cell_type": "code",
   "execution_count": 52,
   "id": "0431eb40",
   "metadata": {},
   "outputs": [],
   "source": [
    "from tensorflow.keras import utils"
   ]
  },
  {
   "cell_type": "code",
   "execution_count": 114,
   "id": "25e3d510",
   "metadata": {},
   "outputs": [],
   "source": [
    "inputs = tf.keras.Input(shape=(440, 440, 1))"
   ]
  },
  {
   "cell_type": "code",
   "execution_count": 115,
   "id": "5708a903",
   "metadata": {},
   "outputs": [],
   "source": [
    "x = tf.keras.layers.Conv2D(filters=256, kernel_size=(2, 2), strides=(1, 1), kernel_initializer='glorot_uniform')(inputs)"
   ]
  },
  {
   "cell_type": "code",
   "execution_count": 116,
   "id": "e2e6f74a",
   "metadata": {},
   "outputs": [],
   "source": [
    "# x = tf.keras.layers.Conv2D(filters=256, kernel_size=(2, 2), strides=(1, 1), kernel_initializer='glorot_uniform')(x)"
   ]
  },
  {
   "cell_type": "code",
   "execution_count": 117,
   "id": "c632a50d",
   "metadata": {},
   "outputs": [],
   "source": [
    "# x = tf.keras.layers.Conv2D(filters=256, kernel_size=(2, 2), strides=(1, 1), kernel_initializer='glorot_uniform')(x)"
   ]
  },
  {
   "cell_type": "code",
   "execution_count": 118,
   "id": "493e71e2",
   "metadata": {},
   "outputs": [],
   "source": [
    "x = tf.keras.layers.Dense(units=1024, activation=tf.keras.layers.Activation('relu'))(x)"
   ]
  },
  {
   "cell_type": "code",
   "execution_count": 119,
   "id": "9c1b3b24",
   "metadata": {},
   "outputs": [],
   "source": [
    "x = tf.keras.layers.Dense(len(d.labels), activation=tf.keras.layers.Activation('softmax'))(x)"
   ]
  },
  {
   "cell_type": "code",
   "execution_count": 120,
   "id": "d2c94cb8",
   "metadata": {},
   "outputs": [],
   "source": [
    "model = tf.keras.Model(inputs=inputs, outputs=x)"
   ]
  },
  {
   "cell_type": "code",
   "execution_count": 121,
   "id": "34c3f281",
   "metadata": {},
   "outputs": [
    {
     "name": "stdout",
     "output_type": "stream",
     "text": [
      "Model: \"model_2\"\n",
      "_________________________________________________________________\n",
      " Layer (type)                Output Shape              Param #   \n",
      "=================================================================\n",
      " input_8 (InputLayer)        [(None, 440, 440, 1)]     0         \n",
      "                                                                 \n",
      " conv2d_18 (Conv2D)          (None, 439, 439, 256)     1280      \n",
      "                                                                 \n",
      " dense_9 (Dense)             (None, 439, 439, 1024)    263168    \n",
      "                                                                 \n",
      " dense_10 (Dense)            (None, 439, 439, 180000)  184500000 \n",
      "                                                                 \n",
      "=================================================================\n",
      "Total params: 184,764,448\n",
      "Trainable params: 184,764,448\n",
      "Non-trainable params: 0\n",
      "_________________________________________________________________\n"
     ]
    }
   ],
   "source": [
    "model.summary()"
   ]
  },
  {
   "cell_type": "code",
   "execution_count": 128,
   "id": "bd10bea0",
   "metadata": {},
   "outputs": [],
   "source": [
    "d = DataGenerator(\n",
    "    db_dir='./dataset/png',\n",
    "    batch_size=1500,\n",
    "    input_shape=(440, 440),\n",
    "    dir_classes=True\n",
    ")"
   ]
  },
  {
   "cell_type": "code",
   "execution_count": 127,
   "id": "237ae808",
   "metadata": {},
   "outputs": [],
   "source": [
    "model.compile(\n",
    "    loss=tf.keras.losses.CategoricalCrossentropy(),\n",
    "    optimizer=tf.keras.optimizers.Adam(),\n",
    "    metrics=['accuracy']\n",
    ")"
   ]
  },
  {
   "cell_type": "code",
   "execution_count": 129,
   "id": "648b1d06",
   "metadata": {
    "scrolled": true
   },
   "outputs": [
    {
     "name": "stdout",
     "output_type": "stream",
     "text": [
      "(1199, 440, 440)\n"
     ]
    }
   ],
   "source": [
    "vx, vt = d[0]"
   ]
  },
  {
   "cell_type": "code",
   "execution_count": 136,
   "id": "e39e48c4",
   "metadata": {
    "scrolled": true
   },
   "outputs": [
    {
     "data": {
      "text/plain": [
       "(440, 440)"
      ]
     },
     "execution_count": 136,
     "metadata": {},
     "output_type": "execute_result"
    }
   ],
   "source": [
    "vx[0].shape"
   ]
  },
  {
   "cell_type": "code",
   "execution_count": 137,
   "id": "b5134026",
   "metadata": {},
   "outputs": [
    {
     "data": {
      "text/plain": [
       "(2,)"
      ]
     },
     "execution_count": 137,
     "metadata": {},
     "output_type": "execute_result"
    }
   ],
   "source": [
    "vt[0].shape"
   ]
  },
  {
   "cell_type": "code",
   "execution_count": 138,
   "id": "d937b3ed",
   "metadata": {},
   "outputs": [
    {
     "data": {
      "text/plain": [
       "array([b'envelope', b'1'], dtype='|S18')"
      ]
     },
     "execution_count": 138,
     "metadata": {},
     "output_type": "execute_result"
    }
   ],
   "source": [
    "vt[0]"
   ]
  },
  {
   "cell_type": "code",
   "execution_count": 130,
   "id": "8b8822d4",
   "metadata": {},
   "outputs": [
    {
     "ename": "ValueError",
     "evalue": "in user code:\n\n    File \"c:\\users\\septimiu\\appdata\\local\\programs\\python\\python39\\lib\\site-packages\\keras\\engine\\training.py\", line 878, in train_function  *\n        return step_function(self, iterator)\n    File \"c:\\users\\septimiu\\appdata\\local\\programs\\python\\python39\\lib\\site-packages\\keras\\engine\\training.py\", line 867, in step_function  **\n        outputs = model.distribute_strategy.run(run_step, args=(data,))\n    File \"c:\\users\\septimiu\\appdata\\local\\programs\\python\\python39\\lib\\site-packages\\keras\\engine\\training.py\", line 860, in run_step  **\n        outputs = model.train_step(data)\n    File \"c:\\users\\septimiu\\appdata\\local\\programs\\python\\python39\\lib\\site-packages\\keras\\engine\\training.py\", line 809, in train_step\n        loss = self.compiled_loss(\n    File \"c:\\users\\septimiu\\appdata\\local\\programs\\python\\python39\\lib\\site-packages\\keras\\engine\\compile_utils.py\", line 201, in __call__\n        loss_value = loss_obj(y_t, y_p, sample_weight=sw)\n    File \"c:\\users\\septimiu\\appdata\\local\\programs\\python\\python39\\lib\\site-packages\\keras\\losses.py\", line 141, in __call__\n        losses = call_fn(y_true, y_pred)\n    File \"c:\\users\\septimiu\\appdata\\local\\programs\\python\\python39\\lib\\site-packages\\keras\\losses.py\", line 245, in call  **\n        return ag_fn(y_true, y_pred, **self._fn_kwargs)\n    File \"c:\\users\\septimiu\\appdata\\local\\programs\\python\\python39\\lib\\site-packages\\keras\\losses.py\", line 1664, in categorical_crossentropy\n        return backend.categorical_crossentropy(\n    File \"c:\\users\\septimiu\\appdata\\local\\programs\\python\\python39\\lib\\site-packages\\keras\\backend.py\", line 4994, in categorical_crossentropy\n        target.shape.assert_is_compatible_with(output.shape)\n\n    ValueError: Shapes (None, 2) and (None, 439, 439, 180000) are incompatible\n",
     "output_type": "error",
     "traceback": [
      "\u001b[1;31m---------------------------------------------------------------------------\u001b[0m",
      "\u001b[1;31mValueError\u001b[0m                                Traceback (most recent call last)",
      "\u001b[1;32m~\\AppData\\Local\\Temp/ipykernel_5228/122707910.py\u001b[0m in \u001b[0;36m<module>\u001b[1;34m\u001b[0m\n\u001b[1;32m----> 1\u001b[1;33m history = model.fit(\n\u001b[0m\u001b[0;32m      2\u001b[0m     \u001b[0mvx\u001b[0m\u001b[1;33m,\u001b[0m\u001b[1;33m\u001b[0m\u001b[1;33m\u001b[0m\u001b[0m\n\u001b[0;32m      3\u001b[0m     \u001b[0mvt\u001b[0m\u001b[1;33m,\u001b[0m\u001b[1;33m\u001b[0m\u001b[1;33m\u001b[0m\u001b[0m\n\u001b[0;32m      4\u001b[0m     \u001b[0mbatch_size\u001b[0m\u001b[1;33m=\u001b[0m\u001b[1;36m12\u001b[0m\u001b[1;33m,\u001b[0m\u001b[1;33m\u001b[0m\u001b[1;33m\u001b[0m\u001b[0m\n\u001b[0;32m      5\u001b[0m     \u001b[0mepochs\u001b[0m\u001b[1;33m=\u001b[0m\u001b[1;36m1\u001b[0m\u001b[1;33m,\u001b[0m\u001b[1;33m\u001b[0m\u001b[1;33m\u001b[0m\u001b[0m\n",
      "\u001b[1;32mc:\\users\\septimiu\\appdata\\local\\programs\\python\\python39\\lib\\site-packages\\keras\\utils\\traceback_utils.py\u001b[0m in \u001b[0;36merror_handler\u001b[1;34m(*args, **kwargs)\u001b[0m\n\u001b[0;32m     65\u001b[0m     \u001b[1;32mexcept\u001b[0m \u001b[0mException\u001b[0m \u001b[1;32mas\u001b[0m \u001b[0me\u001b[0m\u001b[1;33m:\u001b[0m  \u001b[1;31m# pylint: disable=broad-except\u001b[0m\u001b[1;33m\u001b[0m\u001b[1;33m\u001b[0m\u001b[0m\n\u001b[0;32m     66\u001b[0m       \u001b[0mfiltered_tb\u001b[0m \u001b[1;33m=\u001b[0m \u001b[0m_process_traceback_frames\u001b[0m\u001b[1;33m(\u001b[0m\u001b[0me\u001b[0m\u001b[1;33m.\u001b[0m\u001b[0m__traceback__\u001b[0m\u001b[1;33m)\u001b[0m\u001b[1;33m\u001b[0m\u001b[1;33m\u001b[0m\u001b[0m\n\u001b[1;32m---> 67\u001b[1;33m       \u001b[1;32mraise\u001b[0m \u001b[0me\u001b[0m\u001b[1;33m.\u001b[0m\u001b[0mwith_traceback\u001b[0m\u001b[1;33m(\u001b[0m\u001b[0mfiltered_tb\u001b[0m\u001b[1;33m)\u001b[0m \u001b[1;32mfrom\u001b[0m \u001b[1;32mNone\u001b[0m\u001b[1;33m\u001b[0m\u001b[1;33m\u001b[0m\u001b[0m\n\u001b[0m\u001b[0;32m     68\u001b[0m     \u001b[1;32mfinally\u001b[0m\u001b[1;33m:\u001b[0m\u001b[1;33m\u001b[0m\u001b[1;33m\u001b[0m\u001b[0m\n\u001b[0;32m     69\u001b[0m       \u001b[1;32mdel\u001b[0m \u001b[0mfiltered_tb\u001b[0m\u001b[1;33m\u001b[0m\u001b[1;33m\u001b[0m\u001b[0m\n",
      "\u001b[1;32mc:\\users\\septimiu\\appdata\\local\\programs\\python\\python39\\lib\\site-packages\\tensorflow\\python\\framework\\func_graph.py\u001b[0m in \u001b[0;36mautograph_handler\u001b[1;34m(*args, **kwargs)\u001b[0m\n\u001b[0;32m   1127\u001b[0m           \u001b[1;32mexcept\u001b[0m \u001b[0mException\u001b[0m \u001b[1;32mas\u001b[0m \u001b[0me\u001b[0m\u001b[1;33m:\u001b[0m  \u001b[1;31m# pylint:disable=broad-except\u001b[0m\u001b[1;33m\u001b[0m\u001b[1;33m\u001b[0m\u001b[0m\n\u001b[0;32m   1128\u001b[0m             \u001b[1;32mif\u001b[0m \u001b[0mhasattr\u001b[0m\u001b[1;33m(\u001b[0m\u001b[0me\u001b[0m\u001b[1;33m,\u001b[0m \u001b[1;34m\"ag_error_metadata\"\u001b[0m\u001b[1;33m)\u001b[0m\u001b[1;33m:\u001b[0m\u001b[1;33m\u001b[0m\u001b[1;33m\u001b[0m\u001b[0m\n\u001b[1;32m-> 1129\u001b[1;33m               \u001b[1;32mraise\u001b[0m \u001b[0me\u001b[0m\u001b[1;33m.\u001b[0m\u001b[0mag_error_metadata\u001b[0m\u001b[1;33m.\u001b[0m\u001b[0mto_exception\u001b[0m\u001b[1;33m(\u001b[0m\u001b[0me\u001b[0m\u001b[1;33m)\u001b[0m\u001b[1;33m\u001b[0m\u001b[1;33m\u001b[0m\u001b[0m\n\u001b[0m\u001b[0;32m   1130\u001b[0m             \u001b[1;32melse\u001b[0m\u001b[1;33m:\u001b[0m\u001b[1;33m\u001b[0m\u001b[1;33m\u001b[0m\u001b[0m\n\u001b[0;32m   1131\u001b[0m               \u001b[1;32mraise\u001b[0m\u001b[1;33m\u001b[0m\u001b[1;33m\u001b[0m\u001b[0m\n",
      "\u001b[1;31mValueError\u001b[0m: in user code:\n\n    File \"c:\\users\\septimiu\\appdata\\local\\programs\\python\\python39\\lib\\site-packages\\keras\\engine\\training.py\", line 878, in train_function  *\n        return step_function(self, iterator)\n    File \"c:\\users\\septimiu\\appdata\\local\\programs\\python\\python39\\lib\\site-packages\\keras\\engine\\training.py\", line 867, in step_function  **\n        outputs = model.distribute_strategy.run(run_step, args=(data,))\n    File \"c:\\users\\septimiu\\appdata\\local\\programs\\python\\python39\\lib\\site-packages\\keras\\engine\\training.py\", line 860, in run_step  **\n        outputs = model.train_step(data)\n    File \"c:\\users\\septimiu\\appdata\\local\\programs\\python\\python39\\lib\\site-packages\\keras\\engine\\training.py\", line 809, in train_step\n        loss = self.compiled_loss(\n    File \"c:\\users\\septimiu\\appdata\\local\\programs\\python\\python39\\lib\\site-packages\\keras\\engine\\compile_utils.py\", line 201, in __call__\n        loss_value = loss_obj(y_t, y_p, sample_weight=sw)\n    File \"c:\\users\\septimiu\\appdata\\local\\programs\\python\\python39\\lib\\site-packages\\keras\\losses.py\", line 141, in __call__\n        losses = call_fn(y_true, y_pred)\n    File \"c:\\users\\septimiu\\appdata\\local\\programs\\python\\python39\\lib\\site-packages\\keras\\losses.py\", line 245, in call  **\n        return ag_fn(y_true, y_pred, **self._fn_kwargs)\n    File \"c:\\users\\septimiu\\appdata\\local\\programs\\python\\python39\\lib\\site-packages\\keras\\losses.py\", line 1664, in categorical_crossentropy\n        return backend.categorical_crossentropy(\n    File \"c:\\users\\septimiu\\appdata\\local\\programs\\python\\python39\\lib\\site-packages\\keras\\backend.py\", line 4994, in categorical_crossentropy\n        target.shape.assert_is_compatible_with(output.shape)\n\n    ValueError: Shapes (None, 2) and (None, 439, 439, 180000) are incompatible\n"
     ]
    }
   ],
   "source": [
    "history = model.fit(\n",
    "    vx,\n",
    "    vt,\n",
    "    batch_size=12,\n",
    "    epochs=1,\n",
    ")"
   ]
  },
  {
   "cell_type": "code",
   "execution_count": null,
   "id": "11328a11",
   "metadata": {},
   "outputs": [],
   "source": []
  }
 ],
 "metadata": {
  "kernelspec": {
   "display_name": "Python 3 (ipykernel)",
   "language": "python",
   "name": "python3"
  },
  "language_info": {
   "codemirror_mode": {
    "name": "ipython",
    "version": 3
   },
   "file_extension": ".py",
   "mimetype": "text/x-python",
   "name": "python",
   "nbconvert_exporter": "python",
   "pygments_lexer": "ipython3",
   "version": "3.9.6"
  }
 },
 "nbformat": 4,
 "nbformat_minor": 5
}
