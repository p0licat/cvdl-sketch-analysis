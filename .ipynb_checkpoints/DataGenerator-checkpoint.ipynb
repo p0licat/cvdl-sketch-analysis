{
 "cells": [
  {
   "cell_type": "code",
   "execution_count": 1,
   "id": "562be2a5",
   "metadata": {},
   "outputs": [],
   "source": [
    "import numpy as np\n",
    "import tensorflow as tf\n",
    "import matplotlib.pyplot as plt"
   ]
  },
  {
   "cell_type": "code",
   "execution_count": 2,
   "id": "e263ef59",
   "metadata": {},
   "outputs": [],
   "source": [
    "from PIL import Image\n",
    "import cv2"
   ]
  },
  {
   "cell_type": "code",
   "execution_count": 3,
   "id": "cd232396",
   "metadata": {},
   "outputs": [],
   "source": [
    "import os\n",
    "import sys"
   ]
  },
  {
   "cell_type": "code",
   "execution_count": 4,
   "id": "18656214",
   "metadata": {},
   "outputs": [],
   "source": [
    "from math import floor, ceil"
   ]
  },
  {
   "cell_type": "code",
   "execution_count": 5,
   "id": "4798a5a6",
   "metadata": {},
   "outputs": [],
   "source": [
    "from tensorflow import convert_to_tensor, Tensor, constant"
   ]
  },
  {
   "cell_type": "code",
   "execution_count": 6,
   "id": "4ecfc460",
   "metadata": {},
   "outputs": [
    {
     "data": {
      "text/plain": [
       "True"
      ]
     },
     "execution_count": 6,
     "metadata": {},
     "output_type": "execute_result"
    }
   ],
   "source": [
    "os.path.isdir('./dataset')"
   ]
  },
  {
   "cell_type": "code",
   "execution_count": 7,
   "id": "9d720a35",
   "metadata": {},
   "outputs": [],
   "source": [
    "imgpaths = {}"
   ]
  },
  {
   "cell_type": "code",
   "execution_count": 8,
   "id": "b35c58d4",
   "metadata": {},
   "outputs": [],
   "source": [
    "pth = './dataset/png'\n",
    "for d in os.listdir(pth):\n",
    "    if not os.path.isdir(pth + '/' + d):\n",
    "        continue\n",
    "    for img in os.listdir(pth + '/' +d):\n",
    "        path = './dataset/png/'+d\n",
    "        if d not in imgpaths:\n",
    "            imgpaths[d] = []\n",
    "        imgpaths[d].append(path + '/' + img)"
   ]
  },
  {
   "cell_type": "code",
   "execution_count": 9,
   "id": "2d641904",
   "metadata": {},
   "outputs": [
    {
     "data": {
      "text/plain": [
       "dict_keys(['airplane', 'alarm clock', 'angel', 'ant', 'apple', 'arm', 'armchair', 'ashtray', 'axe', 'backpack', 'banana', 'barn', 'baseball bat', 'basket', 'bathtub', 'bear (animal)', 'bed', 'bee', 'beer-mug', 'bell', 'bench', 'bicycle', 'binoculars', 'blimp', 'book', 'bookshelf', 'boomerang', 'bottle opener', 'bowl', 'brain', 'bread', 'bridge', 'bulldozer', 'bus', 'bush', 'butterfly', 'cabinet', 'cactus', 'cake', 'calculator', 'camel', 'camera', 'candle', 'cannon', 'canoe', 'car (sedan)', 'carrot', 'castle', 'cat', 'cell phone', 'chair', 'chandelier', 'church', 'cigarette', 'cloud', 'comb', 'computer monitor', 'computer-mouse', 'couch', 'cow', 'crab', 'crane (machine)', 'crocodile', 'crown', 'cup', 'diamond', 'dog', 'dolphin', 'donut', 'door', 'door handle', 'dragon', 'duck', 'ear', 'elephant', 'envelope', 'eye', 'eyeglasses', 'face', 'fan', 'feather', 'fire hydrant', 'fish', 'flashlight', 'floor lamp', 'flower with stem', 'flying bird', 'flying saucer', 'foot', 'fork', 'frog', 'frying-pan', 'giraffe', 'grapes', 'grenade', 'guitar', 'hamburger', 'hammer', 'hand', 'harp', 'hat', 'head', 'head-phones', 'hedgehog', 'helicopter', 'helmet', 'horse', 'hot air balloon', 'hot-dog', 'hourglass', 'house', 'human-skeleton', 'ice-cream-cone', 'ipod', 'kangaroo', 'key', 'keyboard', 'knife', 'ladder', 'laptop', 'leaf', 'lightbulb', 'lighter', 'lion', 'lobster', 'loudspeaker', 'mailbox', 'megaphone', 'mermaid', 'microphone', 'microscope', 'monkey', 'moon', 'mosquito', 'motorbike', 'mouse (animal)', 'mouth', 'mug', 'mushroom', 'nose', 'octopus', 'owl', 'palm tree', 'panda', 'paper clip', 'parachute', 'parking meter', 'parrot', 'pear', 'pen', 'penguin', 'person sitting', 'person walking', 'piano', 'pickup truck', 'pig', 'pigeon', 'pineapple', 'pipe (for smoking)', 'pizza', 'potted plant', 'power outlet', 'present', 'pretzel', 'pumpkin', 'purse', 'rabbit', 'race car', 'radio', 'rainbow', 'revolver', 'rifle', 'rollerblades', 'rooster', 'sailboat', 'santa claus', 'satellite', 'satellite dish', 'saxophone', 'scissors', 'scorpion', 'screwdriver', 'sea turtle', 'seagull', 'shark', 'sheep', 'ship', 'shoe', 'shovel', 'skateboard', 'skull', 'skyscraper', 'snail', 'snake', 'snowboard', 'snowman', 'socks', 'space shuttle', 'speed-boat', 'spider', 'sponge bob', 'spoon', 'squirrel', 'standing bird', 'stapler', 'strawberry', 'streetlight', 'submarine', 'suitcase', 'sun', 'suv', 'swan', 'sword', 'syringe', 't-shirt', 'table', 'tablelamp', 'teacup', 'teapot', 'teddy-bear', 'telephone', 'tennis-racket', 'tent', 'tiger', 'tire', 'toilet', 'tomato', 'tooth', 'toothbrush', 'tractor', 'traffic light', 'train', 'tree', 'trombone', 'trousers', 'truck', 'trumpet', 'tv', 'umbrella', 'van', 'vase', 'violin', 'walkie talkie', 'wheel', 'wheelbarrow', 'windmill', 'wine-bottle', 'wineglass', 'wrist-watch', 'zebra'])"
      ]
     },
     "execution_count": 9,
     "metadata": {},
     "output_type": "execute_result"
    }
   ],
   "source": [
    "imgpaths.keys()"
   ]
  },
  {
   "cell_type": "code",
   "execution_count": 10,
   "id": "773bf713",
   "metadata": {},
   "outputs": [
    {
     "data": {
      "text/plain": [
       "['./dataset/png/airplane/1.png',\n",
       " './dataset/png/airplane/10.png',\n",
       " './dataset/png/airplane/11.png',\n",
       " './dataset/png/airplane/12.png',\n",
       " './dataset/png/airplane/13.png',\n",
       " './dataset/png/airplane/14.png',\n",
       " './dataset/png/airplane/15.png',\n",
       " './dataset/png/airplane/16.png',\n",
       " './dataset/png/airplane/17.png',\n",
       " './dataset/png/airplane/18.png']"
      ]
     },
     "execution_count": 10,
     "metadata": {},
     "output_type": "execute_result"
    }
   ],
   "source": [
    "imgpaths['airplane'][:10]"
   ]
  },
  {
   "cell_type": "code",
   "execution_count": 11,
   "id": "1dbf6005",
   "metadata": {},
   "outputs": [
    {
     "data": {
      "text/plain": [
       "['airplane',\n",
       " 'alarm clock',\n",
       " 'angel',\n",
       " 'ant',\n",
       " 'apple',\n",
       " 'arm',\n",
       " 'armchair',\n",
       " 'ashtray',\n",
       " 'axe',\n",
       " 'backpack',\n",
       " 'banana',\n",
       " 'barn',\n",
       " 'baseball bat',\n",
       " 'basket',\n",
       " 'bathtub',\n",
       " 'bear (animal)',\n",
       " 'bed',\n",
       " 'bee',\n",
       " 'beer-mug',\n",
       " 'bell',\n",
       " 'bench',\n",
       " 'bicycle',\n",
       " 'binoculars',\n",
       " 'blimp',\n",
       " 'book',\n",
       " 'bookshelf',\n",
       " 'boomerang',\n",
       " 'bottle opener',\n",
       " 'bowl',\n",
       " 'brain',\n",
       " 'bread',\n",
       " 'bridge',\n",
       " 'bulldozer',\n",
       " 'bus',\n",
       " 'bush',\n",
       " 'butterfly',\n",
       " 'cabinet',\n",
       " 'cactus',\n",
       " 'cake',\n",
       " 'calculator',\n",
       " 'camel',\n",
       " 'camera',\n",
       " 'candle',\n",
       " 'cannon',\n",
       " 'canoe',\n",
       " 'car (sedan)',\n",
       " 'carrot',\n",
       " 'castle',\n",
       " 'cat',\n",
       " 'cell phone',\n",
       " 'chair',\n",
       " 'chandelier',\n",
       " 'church',\n",
       " 'cigarette',\n",
       " 'cloud',\n",
       " 'comb',\n",
       " 'computer monitor',\n",
       " 'computer-mouse',\n",
       " 'couch',\n",
       " 'cow',\n",
       " 'crab',\n",
       " 'crane (machine)',\n",
       " 'crocodile',\n",
       " 'crown',\n",
       " 'cup',\n",
       " 'diamond',\n",
       " 'dog',\n",
       " 'dolphin',\n",
       " 'donut',\n",
       " 'door',\n",
       " 'door handle',\n",
       " 'dragon',\n",
       " 'duck',\n",
       " 'ear',\n",
       " 'elephant',\n",
       " 'envelope',\n",
       " 'eye',\n",
       " 'eyeglasses',\n",
       " 'face',\n",
       " 'fan',\n",
       " 'feather',\n",
       " 'filelist.txt',\n",
       " 'fire hydrant',\n",
       " 'fish',\n",
       " 'flashlight',\n",
       " 'floor lamp',\n",
       " 'flower with stem',\n",
       " 'flying bird',\n",
       " 'flying saucer',\n",
       " 'foot',\n",
       " 'fork',\n",
       " 'frog',\n",
       " 'frying-pan',\n",
       " 'giraffe',\n",
       " 'grapes',\n",
       " 'grenade',\n",
       " 'guitar',\n",
       " 'hamburger',\n",
       " 'hammer',\n",
       " 'hand',\n",
       " 'harp',\n",
       " 'hat',\n",
       " 'head',\n",
       " 'head-phones',\n",
       " 'hedgehog',\n",
       " 'helicopter',\n",
       " 'helmet',\n",
       " 'horse',\n",
       " 'hot air balloon',\n",
       " 'hot-dog',\n",
       " 'hourglass',\n",
       " 'house',\n",
       " 'human-skeleton',\n",
       " 'ice-cream-cone',\n",
       " 'ipod',\n",
       " 'kangaroo',\n",
       " 'key',\n",
       " 'keyboard',\n",
       " 'knife',\n",
       " 'ladder',\n",
       " 'laptop',\n",
       " 'leaf',\n",
       " 'lightbulb',\n",
       " 'lighter',\n",
       " 'lion',\n",
       " 'lobster',\n",
       " 'loudspeaker',\n",
       " 'mailbox',\n",
       " 'megaphone',\n",
       " 'mermaid',\n",
       " 'microphone',\n",
       " 'microscope',\n",
       " 'monkey',\n",
       " 'moon',\n",
       " 'mosquito',\n",
       " 'motorbike',\n",
       " 'mouse (animal)',\n",
       " 'mouth',\n",
       " 'mug',\n",
       " 'mushroom',\n",
       " 'nose',\n",
       " 'octopus',\n",
       " 'owl',\n",
       " 'palm tree',\n",
       " 'panda',\n",
       " 'paper clip',\n",
       " 'parachute',\n",
       " 'parking meter',\n",
       " 'parrot',\n",
       " 'pear',\n",
       " 'pen',\n",
       " 'penguin',\n",
       " 'person sitting',\n",
       " 'person walking',\n",
       " 'piano',\n",
       " 'pickup truck',\n",
       " 'pig',\n",
       " 'pigeon',\n",
       " 'pineapple',\n",
       " 'pipe (for smoking)',\n",
       " 'pizza',\n",
       " 'potted plant',\n",
       " 'power outlet',\n",
       " 'present',\n",
       " 'pretzel',\n",
       " 'pumpkin',\n",
       " 'purse',\n",
       " 'rabbit',\n",
       " 'race car',\n",
       " 'radio',\n",
       " 'rainbow',\n",
       " 'revolver',\n",
       " 'rifle',\n",
       " 'rollerblades',\n",
       " 'rooster',\n",
       " 'sailboat',\n",
       " 'santa claus',\n",
       " 'satellite',\n",
       " 'satellite dish',\n",
       " 'saxophone',\n",
       " 'scissors',\n",
       " 'scorpion',\n",
       " 'screwdriver',\n",
       " 'sea turtle',\n",
       " 'seagull',\n",
       " 'shark',\n",
       " 'sheep',\n",
       " 'ship',\n",
       " 'shoe',\n",
       " 'shovel',\n",
       " 'skateboard',\n",
       " 'skull',\n",
       " 'skyscraper',\n",
       " 'snail',\n",
       " 'snake',\n",
       " 'snowboard',\n",
       " 'snowman',\n",
       " 'socks',\n",
       " 'space shuttle',\n",
       " 'speed-boat',\n",
       " 'spider',\n",
       " 'sponge bob',\n",
       " 'spoon',\n",
       " 'squirrel',\n",
       " 'standing bird',\n",
       " 'stapler',\n",
       " 'strawberry',\n",
       " 'streetlight',\n",
       " 'submarine',\n",
       " 'suitcase',\n",
       " 'sun',\n",
       " 'suv',\n",
       " 'swan',\n",
       " 'sword',\n",
       " 'syringe',\n",
       " 't-shirt',\n",
       " 'table',\n",
       " 'tablelamp',\n",
       " 'teacup',\n",
       " 'teapot',\n",
       " 'teddy-bear',\n",
       " 'telephone',\n",
       " 'tennis-racket',\n",
       " 'tent',\n",
       " 'tiger',\n",
       " 'tire',\n",
       " 'toilet',\n",
       " 'tomato',\n",
       " 'tooth',\n",
       " 'toothbrush',\n",
       " 'tractor',\n",
       " 'traffic light',\n",
       " 'train',\n",
       " 'tree',\n",
       " 'trombone',\n",
       " 'trousers',\n",
       " 'truck',\n",
       " 'trumpet',\n",
       " 'tv',\n",
       " 'umbrella',\n",
       " 'van',\n",
       " 'vase',\n",
       " 'violin',\n",
       " 'walkie talkie',\n",
       " 'wheel',\n",
       " 'wheelbarrow',\n",
       " 'windmill',\n",
       " 'wine-bottle',\n",
       " 'wineglass',\n",
       " 'wrist-watch',\n",
       " 'zebra']"
      ]
     },
     "execution_count": 11,
     "metadata": {},
     "output_type": "execute_result"
    }
   ],
   "source": [
    "os.listdir('./dataset/png')"
   ]
  },
  {
   "cell_type": "code",
   "execution_count": 12,
   "id": "ec37fc0f",
   "metadata": {},
   "outputs": [],
   "source": [
    "num_classes = len(os.listdir('./dataset/png')[:9])"
   ]
  },
  {
   "cell_type": "code",
   "execution_count": 13,
   "id": "ccb419d4",
   "metadata": {},
   "outputs": [],
   "source": [
    "import tensorflow as tf"
   ]
  },
  {
   "cell_type": "code",
   "execution_count": 14,
   "id": "fc9a9681",
   "metadata": {},
   "outputs": [],
   "source": [
    "class DataGenerator(tf.keras.utils.Sequence):\n",
    "    def __init__(self, db_dir, batch_size, input_shape, num_classes=None, \n",
    "                 shuffle=True, dir_classes=False):\n",
    "        \n",
    "        # todo: fix num classes\n",
    "        \n",
    "        self.current_counter = 0\n",
    "        self.label_dict = {}\n",
    "\n",
    "        self.input_shape = input_shape\n",
    "        self.batch_size = batch_size\n",
    "        self.num_classes = num_classes\n",
    "        self.shuffle = shuffle\n",
    "        \n",
    "        # load the data from the root directory\n",
    "        self.data, self.labels = self.get_data(db_dir)\n",
    "        self.indices = np.arange(len(self.data))\n",
    "        self.on_epoch_end()\n",
    "\n",
    "\n",
    "    def get_data(self, root_dir):\n",
    "        \"\"\"\"\n",
    "        Loads the paths to the images and their corresponding labels from the database directory\n",
    "        \"\"\"\n",
    "        self.data = []\n",
    "        self.labels = []\n",
    "\n",
    "        labels_list = dict() # used to initialize label ids, for one-hot repr.\n",
    "        \n",
    "        imgpaths = {}\n",
    "        path = root_dir\n",
    "        pth = path\n",
    "        \n",
    "        #pth = './dataset/png'\n",
    "        labels_list_id = 0\n",
    "        for d in os.listdir(pth)[:9]: # remove this\n",
    "            \n",
    "            # initialize ids for one-hot vector\n",
    "            labels_list[d] = labels_list_id\n",
    "            labels_list_id += 1\n",
    "            #\n",
    "            \n",
    "            if not os.path.isdir(pth + '/' + d):\n",
    "                continue\n",
    "            for img in os.listdir(pth + '/' + d):\n",
    "                path = './dataset/png/'+ d\n",
    "                if d not in imgpaths:\n",
    "                    imgpaths[d] = []\n",
    "                imgpaths[d].append(path + '/' + img)\n",
    "                \n",
    "        for i in imgpaths.keys():\n",
    "            for j in imgpaths[i]:\n",
    "                self.data.append(j)\n",
    "                self.labels.append(tf.one_hot(labels_list[i], depth=len(os.listdir(pth)[:9])))\n",
    "\n",
    "        return self.data, self.labels\n",
    "\n",
    "    def __len__(self):\n",
    "        \"\"\"\n",
    "        Returns the number of batches per epoch: the total size of the dataset divided by the batch size\n",
    "        \"\"\"\n",
    "        return int(np.floor(len(self.data) / self.batch_size))\n",
    "        # TODO your code  here (size of dataset divided by the batch size)\n",
    "        return 0\n",
    "    \n",
    "    def vec_to_tensor(self, v):\n",
    "      return constant(v)\n",
    "    \n",
    "    \"\"\"\n",
    "        Preprocesses before outputting to .fit()\n",
    "        This can mean: reshape, channel count check, mean subtraction and std. dev division.\n",
    "    \"\"\"\n",
    "    def batch_to_train(self, batch_x, batch_y):\n",
    "        x_train = [self.vec_to_tensor(x) for x in batch_x]\n",
    "        y_train = [self.vec_to_tensor(x) for x in batch_y]\n",
    "\n",
    "        #print(self.input_shape)\n",
    "        x_train = [cv2.resize(np.array(i), (self.input_shape[0], self.input_shape[1])) for i in x_train]\n",
    "        x_train2 = []\n",
    "        y_train2 = []\n",
    "\n",
    "        for i in range(len(x_train)):\n",
    "          if (x_train[i].shape[0] == self.input_shape[0] and x_train[i].shape[1] == self.input_shape[1]):\n",
    "            x_train2.append(x_train[i])\n",
    "            y_train2.append([y_train[i].numpy(), 0 if y_train[i].numpy() == 1 else 1])\n",
    "\n",
    "        y_test = y_train2[:floor(1/5 * self.batch_size)]\n",
    "        x_test = x_train2[:floor(1/5 * self.batch_size)]\n",
    "\n",
    "        x_train = x_train2[ceil(1/5 * self.batch_size + 1):]\n",
    "        y_train = y_train2[ceil(1/5 * self.batch_size + 1):]\n",
    "\n",
    "        \n",
    "        \n",
    "        x_train = np.array(x_train)\n",
    "        y_train = np.array(y_train)\n",
    "        \n",
    "#         mean = x_train.mean(axis=(0, 1, 2))\n",
    "#         x_train[..., 0] = x_train[..., 0] - mean[0]\n",
    "#         x_train[..., 1] = x_train[..., 1] - mean[1]\n",
    "#         x_train[..., 2] = x_train[..., 2] - mean[2]\n",
    "        \n",
    "        x_test = np.array(x_test)\n",
    "        y_test = np.array(y_test)\n",
    "        \n",
    "        print(x_train.shape)\n",
    "        \n",
    "        return x_train, y_train\n",
    "\n",
    "    def __getitem__(self, index):\n",
    "        \"\"\"\"\n",
    "        Generates a batch of data\n",
    "        Note: computation intensivity\n",
    "        \"\"\"\n",
    "\n",
    "        batch_indices = self.indices[index*self.batch_size : (index+1)*self.batch_size]\n",
    "        \n",
    "        batch_x = [] # TODO load the image(s) from batch_indices\n",
    "        batch_y = [] # TODO load the corresponding labels of the images you loaded\n",
    "\n",
    "        for i in batch_indices:\n",
    "          ci = self.data[i]\n",
    "          cl = self.labels[i]\n",
    "            \n",
    "          cd = Image.open(ci) #.convert('L')\n",
    "          cd = np.array(cd)\n",
    "          cd = cv2.resize(cd, (self.input_shape[0], self.input_shape[1]))\n",
    "\n",
    "#           if (len(cd.shape) != 3):\n",
    "#             continue\n",
    "          # reshape?\n",
    "\n",
    "          batch_x.append(cd)\n",
    "          batch_y.append(cl)\n",
    "        \n",
    "        \n",
    "        return np.array(batch_x), batch_y\n",
    "\n",
    "    def on_epoch_end(self):\n",
    "        \"\"\"\"\n",
    "        Called at the end of each epoch\n",
    "        \"\"\"\n",
    "        # if required, shuffle your data after each epoch\n",
    "        self.indices = np.arange(len(self.data))\n",
    "        if self.shuffle:\n",
    "            # TODO shuffle data\n",
    "            # you might find np.random.shuffle useful here\n",
    "            np.random.shuffle(self.indices)"
   ]
  },
  {
   "cell_type": "code",
   "execution_count": 15,
   "id": "1bafc739",
   "metadata": {},
   "outputs": [],
   "source": [
    "class DataVisualizer:\n",
    "    @staticmethod\n",
    "    def plot_batch(vec):\n",
    "        fig, axes = plt.subplots(nrows=1, ncols=4, figsize=[16, 16], dpi=(200))\n",
    "        for i in range(len(axes)):\n",
    "            axes[i].imshow(vec[i], cmap=plt.get_cmap('gray'), vmin=0, vmax=255., interpolation=\"none\")\n",
    "        plt.show()"
   ]
  },
  {
   "cell_type": "code",
   "execution_count": 16,
   "id": "c2493216",
   "metadata": {},
   "outputs": [],
   "source": [
    "d = DataGenerator(\n",
    "    db_dir='./dataset/png',\n",
    "    batch_size=12,\n",
    "    input_shape=(440, 440),\n",
    "    dir_classes=True\n",
    ")"
   ]
  },
  {
   "cell_type": "code",
   "execution_count": 17,
   "id": "9865ec11",
   "metadata": {},
   "outputs": [
    {
     "data": {
      "text/plain": [
       "['./dataset/png/airplane/1.png',\n",
       " './dataset/png/airplane/10.png',\n",
       " './dataset/png/airplane/11.png',\n",
       " './dataset/png/airplane/12.png',\n",
       " './dataset/png/airplane/13.png',\n",
       " './dataset/png/airplane/14.png',\n",
       " './dataset/png/airplane/15.png',\n",
       " './dataset/png/airplane/16.png',\n",
       " './dataset/png/airplane/17.png',\n",
       " './dataset/png/airplane/18.png']"
      ]
     },
     "execution_count": 17,
     "metadata": {},
     "output_type": "execute_result"
    }
   ],
   "source": [
    "d.data[:10]"
   ]
  },
  {
   "cell_type": "code",
   "execution_count": 18,
   "id": "5463165a",
   "metadata": {
    "scrolled": true
   },
   "outputs": [],
   "source": [
    "batch = d[0]"
   ]
  },
  {
   "cell_type": "code",
   "execution_count": 19,
   "id": "1bb6904f",
   "metadata": {},
   "outputs": [
    {
     "data": {
      "text/plain": [
       "(12, 440, 440)"
      ]
     },
     "execution_count": 19,
     "metadata": {},
     "output_type": "execute_result"
    }
   ],
   "source": [
    "batch[0].shape"
   ]
  },
  {
   "cell_type": "code",
   "execution_count": 20,
   "id": "df977aa3",
   "metadata": {},
   "outputs": [
    {
     "data": {
      "text/plain": [
       "'airplane'"
      ]
     },
     "execution_count": 20,
     "metadata": {},
     "output_type": "execute_result"
    }
   ],
   "source": [
    "os.listdir('./dataset/png')[np.argmax(batch[1][0])]"
   ]
  },
  {
   "cell_type": "code",
   "execution_count": 21,
   "id": "96e7a163",
   "metadata": {
    "scrolled": false
   },
   "outputs": [
    {
     "data": {
      "image/png": "[encoded data removed]",
      "text/plain": [
       "<Figure size 3200x3200 with 4 Axes>"
      ]
     },
     "metadata": {
      "needs_background": "light"
     },
     "output_type": "display_data"
    }
   ],
   "source": [
    "DataVisualizer.plot_batch(batch[0])"
   ]
  },
  {
   "cell_type": "code",
   "execution_count": 22,
   "id": "0431eb40",
   "metadata": {},
   "outputs": [],
   "source": [
    "from tensorflow.keras import utils"
   ]
  },
  {
   "cell_type": "code",
   "execution_count": 138,
   "id": "25e3d510",
   "metadata": {},
   "outputs": [],
   "source": [
    "inputs = tf.keras.Input(shape=(440, 440, 1))"
   ]
  },
  {
   "cell_type": "code",
   "execution_count": 139,
   "id": "5708a903",
   "metadata": {},
   "outputs": [],
   "source": [
    "x = tf.keras.layers.Conv2D(filters=512, kernel_size=(12, 12), strides=(12, 12), kernel_initializer='glorot_uniform')(inputs)\n",
    "x = tf.keras.layers.BatchNormalization()(x)\n",
    "x = tf.keras.layers.Conv2D(filters=512, kernel_size=(7, 7), strides=(7, 7), kernel_initializer='glorot_uniform')(inputs)\n",
    "x = tf.keras.layers.BatchNormalization()(x)\n",
    "# x = tf.keras.layers.Conv2D(filters=512, kernel_size=(5, 5), strides=(2, 2), kernel_initializer='glorot_uniform')(x)\n",
    "# x = tf.keras.layers.BatchNormalization()(x)\n",
    "\n",
    "x = tf.keras.layers.Conv2DTranspose(\n",
    "    256, kernel_size=(5, 5), strides=(2, 2), padding='valid',\n",
    "    output_padding=None, data_format=None, dilation_rate=(1, 1), activation=None,\n",
    "    use_bias=True, kernel_initializer='glorot_uniform',\n",
    "    bias_initializer='zeros', kernel_regularizer=None,\n",
    "    bias_regularizer=None, activity_regularizer=None, kernel_constraint=None,\n",
    "    bias_constraint=None\n",
    ")(x)\n",
    "\n",
    "x = tf.keras.layers.Conv2D(filters=256, kernel_size=(5, 5), strides=(2, 2), kernel_initializer='glorot_uniform')(x)\n",
    "x = tf.keras.layers.BatchNormalization()(x)\n",
    "# x = tf.keras.layers.Conv2D(filters=256, kernel_size=(3, 3), strides=(3, 3), kernel_initializer='glorot_uniform')(x)\n",
    "# x = tf.keras.layers.BatchNormalization()(x)\n",
    "\n",
    "x = tf.keras.layers.Conv2DTranspose(\n",
    "    256, kernel_size=(5, 5), strides=(2, 2), padding='valid',\n",
    "    output_padding=None, data_format=None, dilation_rate=(1, 1), activation=None,\n",
    "    use_bias=True, kernel_initializer='glorot_uniform',\n",
    "    bias_initializer='zeros', kernel_regularizer=None,\n",
    "    bias_regularizer=None, activity_regularizer=None, kernel_constraint=None,\n",
    "    bias_constraint=None\n",
    ")(x)\n",
    "\n",
    "x = tf.keras.layers.Conv2D(filters=256, kernel_size=(5, 5), strides=(2, 2), kernel_initializer='glorot_uniform')(x)\n",
    "x = tf.keras.layers.BatchNormalization()(x)\n",
    "\n",
    "# x = tf.keras.layers.Conv2DTranspose(\n",
    "#     256, kernel_size=(5, 5), strides=(2, 2), padding='valid',\n",
    "#     output_padding=None, data_format=None, dilation_rate=(1, 1), activation=None,\n",
    "#     use_bias=True, kernel_initializer='glorot_uniform',\n",
    "#     bias_initializer='zeros', kernel_regularizer=None,\n",
    "#     bias_regularizer=None, activity_regularizer=None, kernel_constraint=None,\n",
    "#     bias_constraint=None\n",
    "# )(x)\n",
    "\n",
    "x = tf.keras.layers.Conv2D(filters=256, kernel_size=(2, 2), strides=(2, 2), kernel_initializer='glorot_uniform')(x)\n",
    "# x = tf.keras.layers.Conv2D(filters=64, kernel_size=(2, 2), strides=(2, 2), kernel_initializer='glorot_uniform')(x)\n",
    "x = tf.keras.layers.BatchNormalization()(x)"
   ]
  },
  {
   "cell_type": "code",
   "execution_count": 140,
   "id": "e2e6f74a",
   "metadata": {},
   "outputs": [],
   "source": [
    "# x = tf.keras.layers.Conv2D(filters=256, kernel_size=(2, 2), strides=(1, 1), kernel_initializer='glorot_uniform')(x)"
   ]
  },
  {
   "cell_type": "code",
   "execution_count": 141,
   "id": "c632a50d",
   "metadata": {},
   "outputs": [],
   "source": [
    "# x = tf.keras.layers.Conv2D(filters=256, kernel_size=(2, 2), strides=(1, 1), kernel_initializer='glorot_uniform')(x)"
   ]
  },
  {
   "cell_type": "code",
   "execution_count": 142,
   "id": "bc499413",
   "metadata": {},
   "outputs": [],
   "source": [
    "x = tf.keras.layers.GlobalAveragePooling2D()(x)"
   ]
  },
  {
   "cell_type": "code",
   "execution_count": 143,
   "id": "86d067cf",
   "metadata": {},
   "outputs": [],
   "source": [
    "# x = tf.keras.layers.Flatten()(x)"
   ]
  },
  {
   "cell_type": "code",
   "execution_count": 144,
   "id": "afcbc9aa",
   "metadata": {},
   "outputs": [],
   "source": [
    "x = tf.keras.layers.Dense(units=256, activation=tf.keras.layers.Activation('relu'), kernel_initializer=tf.keras.initializers.HeNormal())(x)"
   ]
  },
  {
   "cell_type": "code",
   "execution_count": 145,
   "id": "493e71e2",
   "metadata": {},
   "outputs": [],
   "source": [
    "x = tf.keras.layers.Dense(units=512, activation=tf.keras.layers.Activation('relu'), kernel_initializer=tf.keras.initializers.HeNormal())(x)\n",
    "# x = tf.keras.layers.Dense(units=512, activation=tf.keras.layers.Activation('relu'), kernel_initializer=tf.keras.initializers.HeNormal())(x)"
   ]
  },
  {
   "cell_type": "code",
   "execution_count": 146,
   "id": "293ff66d",
   "metadata": {},
   "outputs": [
    {
     "data": {
      "text/plain": [
       "9"
      ]
     },
     "execution_count": 146,
     "metadata": {},
     "output_type": "execute_result"
    }
   ],
   "source": [
    "num_classes"
   ]
  },
  {
   "cell_type": "code",
   "execution_count": 147,
   "id": "9c1b3b24",
   "metadata": {},
   "outputs": [],
   "source": [
    "x = tf.keras.layers.Dense(num_classes, activation=tf.keras.layers.Activation('softmax'), kernel_initializer=tf.keras.initializers.HeNormal())(x)"
   ]
  },
  {
   "cell_type": "code",
   "execution_count": 148,
   "id": "d2c94cb8",
   "metadata": {},
   "outputs": [],
   "source": [
    "model = tf.keras.Model(inputs=inputs, outputs=x)"
   ]
  },
  {
   "cell_type": "code",
   "execution_count": 149,
   "id": "34c3f281",
   "metadata": {},
   "outputs": [
    {
     "name": "stdout",
     "output_type": "stream",
     "text": [
      "Model: \"model_8\"\n",
      "_________________________________________________________________\n",
      " Layer (type)                Output Shape              Param #   \n",
      "=================================================================\n",
      " input_9 (InputLayer)        [(None, 440, 440, 1)]     0         \n",
      "                                                                 \n",
      " conv2d_43 (Conv2D)          (None, 62, 62, 512)       25600     \n",
      "                                                                 \n",
      " batch_normalization_43 (Bat  (None, 62, 62, 512)      2048      \n",
      " chNormalization)                                                \n",
      "                                                                 \n",
      " conv2d_transpose_16 (Conv2D  (None, 127, 127, 256)    3277056   \n",
      " Transpose)                                                      \n",
      "                                                                 \n",
      " conv2d_44 (Conv2D)          (None, 62, 62, 256)       1638656   \n",
      "                                                                 \n",
      " batch_normalization_44 (Bat  (None, 62, 62, 256)      1024      \n",
      " chNormalization)                                                \n",
      "                                                                 \n",
      " conv2d_transpose_17 (Conv2D  (None, 127, 127, 256)    1638656   \n",
      " Transpose)                                                      \n",
      "                                                                 \n",
      " conv2d_45 (Conv2D)          (None, 62, 62, 256)       1638656   \n",
      "                                                                 \n",
      " batch_normalization_45 (Bat  (None, 62, 62, 256)      1024      \n",
      " chNormalization)                                                \n",
      "                                                                 \n",
      " conv2d_46 (Conv2D)          (None, 31, 31, 256)       262400    \n",
      "                                                                 \n",
      " batch_normalization_46 (Bat  (None, 31, 31, 256)      1024      \n",
      " chNormalization)                                                \n",
      "                                                                 \n",
      " global_average_pooling2d_8   (None, 256)              0         \n",
      " (GlobalAveragePooling2D)                                        \n",
      "                                                                 \n",
      " dense_22 (Dense)            (None, 256)               65792     \n",
      "                                                                 \n",
      " dense_23 (Dense)            (None, 512)               131584    \n",
      "                                                                 \n",
      " dense_24 (Dense)            (None, 9)                 4617      \n",
      "                                                                 \n",
      "=================================================================\n",
      "Total params: 8,688,137\n",
      "Trainable params: 8,685,577\n",
      "Non-trainable params: 2,560\n",
      "_________________________________________________________________\n"
     ]
    }
   ],
   "source": [
    "model.summary()"
   ]
  },
  {
   "cell_type": "code",
   "execution_count": 150,
   "id": "237ae808",
   "metadata": {},
   "outputs": [],
   "source": [
    "model.compile(\n",
    "    loss=tf.keras.losses.CategoricalCrossentropy(),\n",
    "    optimizer=tf.keras.optimizers.Adam(),\n",
    "    metrics=['accuracy']\n",
    ")"
   ]
  },
  {
   "cell_type": "code",
   "execution_count": null,
   "id": "8b8822d4",
   "metadata": {},
   "outputs": [
    {
     "name": "stdout",
     "output_type": "stream",
     "text": [
      "  9/100 [=>............................] - ETA: 13:22 - loss: 2.0980 - accuracy: 0.2407"
     ]
    }
   ],
   "source": [
    "history = model.fit(\n",
    "    X_train,\n",
    "    y_train,\n",
    "    batch_size=6,\n",
    "    epochs=1,\n",
    ")"
   ]
  },
  {
   "cell_type": "code",
   "execution_count": null,
   "id": "9951a7b7",
   "metadata": {},
   "outputs": [],
   "source": [
    "model.evaluate"
   ]
  },
  {
   "cell_type": "code",
   "execution_count": 36,
   "id": "bd10bea0",
   "metadata": {},
   "outputs": [],
   "source": [
    "d = DataGenerator(\n",
    "    db_dir='./dataset/png',\n",
    "    batch_size=1500,\n",
    "    input_shape=(440, 440),\n",
    "    dir_classes=True\n",
    ")"
   ]
  },
  {
   "cell_type": "code",
   "execution_count": 37,
   "id": "648b1d06",
   "metadata": {
    "scrolled": true
   },
   "outputs": [],
   "source": [
    "vx = d[0]"
   ]
  },
  {
   "cell_type": "code",
   "execution_count": 38,
   "id": "e39e48c4",
   "metadata": {
    "scrolled": false
   },
   "outputs": [
    {
     "data": {
      "text/plain": [
       "(720, 440, 440)"
      ]
     },
     "execution_count": 38,
     "metadata": {},
     "output_type": "execute_result"
    }
   ],
   "source": [
    "vx[0].shape"
   ]
  },
  {
   "cell_type": "code",
   "execution_count": 39,
   "id": "b9dc12ae",
   "metadata": {},
   "outputs": [
    {
     "data": {
      "text/plain": [
       "720"
      ]
     },
     "execution_count": 39,
     "metadata": {},
     "output_type": "execute_result"
    }
   ],
   "source": [
    "len(vx[1])"
   ]
  },
  {
   "cell_type": "code",
   "execution_count": 40,
   "id": "e179e1ec",
   "metadata": {},
   "outputs": [],
   "source": [
    "X_train = vx[0]\n",
    "y_train = np.array(vx[1])"
   ]
  },
  {
   "cell_type": "code",
   "execution_count": 41,
   "id": "1238bf82",
   "metadata": {},
   "outputs": [
    {
     "data": {
      "text/plain": [
       "(720, 9)"
      ]
     },
     "execution_count": 41,
     "metadata": {},
     "output_type": "execute_result"
    }
   ],
   "source": [
    "y_train.shape"
   ]
  },
  {
   "cell_type": "code",
   "execution_count": 42,
   "id": "11328a11",
   "metadata": {},
   "outputs": [],
   "source": [
    "X_test = X_train[601:]\n",
    "y_test = y_train[601:]\n",
    "X_train = X_train[:600]\n",
    "y_train = y_train[:600]"
   ]
  },
  {
   "cell_type": "code",
   "execution_count": null,
   "id": "e630c362",
   "metadata": {},
   "outputs": [],
   "source": []
  },
  {
   "cell_type": "code",
   "execution_count": null,
   "id": "66e37393",
   "metadata": {},
   "outputs": [],
   "source": []
  },
  {
   "cell_type": "code",
   "execution_count": null,
   "id": "36d1585f",
   "metadata": {},
   "outputs": [],
   "source": []
  }
 ],
 "metadata": {
  "kernelspec": {
   "display_name": "Python 3 (ipykernel)",
   "language": "python",
   "name": "python3"
  },
  "language_info": {
   "codemirror_mode": {
    "name": "ipython",
    "version": 3
   },
   "file_extension": ".py",
   "mimetype": "text/x-python",
   "name": "python",
   "nbconvert_exporter": "python",
   "pygments_lexer": "ipython3",
   "version": "3.9.6"
  }
 },
 "nbformat": 4,
 "nbformat_minor": 5
}
