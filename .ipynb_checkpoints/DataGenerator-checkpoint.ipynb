{
 "cells": [
  {
   "cell_type": "code",
   "execution_count": 1,
   "id": "562be2a5",
   "metadata": {},
   "outputs": [],
   "source": [
    "import numpy as np\n",
    "import tensorflow as tf\n",
    "import matplotlib.pyplot as plt"
   ]
  },
  {
   "cell_type": "code",
   "execution_count": 2,
   "id": "e263ef59",
   "metadata": {},
   "outputs": [],
   "source": [
    "from PIL import Image\n",
    "import cv2"
   ]
  },
  {
   "cell_type": "code",
   "execution_count": 3,
   "id": "cd232396",
   "metadata": {},
   "outputs": [],
   "source": [
    "import os\n",
    "import sys"
   ]
  },
  {
   "cell_type": "code",
   "execution_count": 4,
   "id": "18656214",
   "metadata": {},
   "outputs": [],
   "source": [
    "from math import floor, ceil"
   ]
  },
  {
   "cell_type": "code",
   "execution_count": 5,
   "id": "4798a5a6",
   "metadata": {},
   "outputs": [],
   "source": [
    "from tensorflow import convert_to_tensor, Tensor, constant"
   ]
  },
  {
   "cell_type": "code",
   "execution_count": 6,
   "id": "4ecfc460",
   "metadata": {},
   "outputs": [
    {
     "data": {
      "text/plain": [
       "True"
      ]
     },
     "execution_count": 6,
     "metadata": {},
     "output_type": "execute_result"
    }
   ],
   "source": [
    "os.path.isdir('./dataset')"
   ]
  },
  {
   "cell_type": "code",
   "execution_count": 7,
   "id": "9d720a35",
   "metadata": {},
   "outputs": [],
   "source": [
    "imgpaths = {}"
   ]
  },
  {
   "cell_type": "code",
   "execution_count": 8,
   "id": "b35c58d4",
   "metadata": {},
   "outputs": [],
   "source": [
    "pth = './dataset/png'\n",
    "for d in os.listdir(pth):\n",
    "    if not os.path.isdir(pth + '/' + d):\n",
    "        continue\n",
    "    for img in os.listdir(pth + '/' +d):\n",
    "        path = './dataset/png/'+d\n",
    "        if d not in imgpaths:\n",
    "            imgpaths[d] = []\n",
    "        imgpaths[d].append(path + '/' + img)"
   ]
  },
  {
   "cell_type": "code",
   "execution_count": 9,
   "id": "2d641904",
   "metadata": {},
   "outputs": [
    {
     "data": {
      "text/plain": [
       "dict_keys(['airplane', 'alarm clock', 'angel', 'ant', 'apple', 'arm', 'armchair', 'ashtray', 'axe', 'backpack', 'banana', 'barn', 'baseball bat', 'basket', 'bathtub', 'bear (animal)', 'bed', 'bee', 'beer-mug', 'bell', 'bench', 'bicycle', 'binoculars', 'blimp', 'book', 'bookshelf', 'boomerang', 'bottle opener', 'bowl', 'brain', 'bread', 'bridge', 'bulldozer', 'bus', 'bush', 'butterfly', 'cabinet', 'cactus', 'cake', 'calculator', 'camel', 'camera', 'candle', 'cannon', 'canoe', 'car (sedan)', 'carrot', 'castle', 'cat', 'cell phone', 'chair', 'chandelier', 'church', 'cigarette', 'cloud', 'comb', 'computer monitor', 'computer-mouse', 'couch', 'cow', 'crab', 'crane (machine)', 'crocodile', 'crown', 'cup', 'diamond', 'dog', 'dolphin', 'donut', 'door', 'door handle', 'dragon', 'duck', 'ear', 'elephant', 'envelope', 'eye', 'eyeglasses', 'face', 'fan', 'feather', 'fire hydrant', 'fish', 'flashlight', 'floor lamp', 'flower with stem', 'flying bird', 'flying saucer', 'foot', 'fork', 'frog', 'frying-pan', 'giraffe', 'grapes', 'grenade', 'guitar', 'hamburger', 'hammer', 'hand', 'harp', 'hat', 'head', 'head-phones', 'hedgehog', 'helicopter', 'helmet', 'horse', 'hot air balloon', 'hot-dog', 'hourglass', 'house', 'human-skeleton', 'ice-cream-cone', 'ipod', 'kangaroo', 'key', 'keyboard', 'knife', 'ladder', 'laptop', 'leaf', 'lightbulb', 'lighter', 'lion', 'lobster', 'loudspeaker', 'mailbox', 'megaphone', 'mermaid', 'microphone', 'microscope', 'monkey', 'moon', 'mosquito', 'motorbike', 'mouse (animal)', 'mouth', 'mug', 'mushroom', 'nose', 'octopus', 'owl', 'palm tree', 'panda', 'paper clip', 'parachute', 'parking meter', 'parrot', 'pear', 'pen', 'penguin', 'person sitting', 'person walking', 'piano', 'pickup truck', 'pig', 'pigeon', 'pineapple', 'pipe (for smoking)', 'pizza', 'potted plant', 'power outlet', 'present', 'pretzel', 'pumpkin', 'purse', 'rabbit', 'race car', 'radio', 'rainbow', 'revolver', 'rifle', 'rollerblades', 'rooster', 'sailboat', 'santa claus', 'satellite', 'satellite dish', 'saxophone', 'scissors', 'scorpion', 'screwdriver', 'sea turtle', 'seagull', 'shark', 'sheep', 'ship', 'shoe', 'shovel', 'skateboard', 'skull', 'skyscraper', 'snail', 'snake', 'snowboard', 'snowman', 'socks', 'space shuttle', 'speed-boat', 'spider', 'sponge bob', 'spoon', 'squirrel', 'standing bird', 'stapler', 'strawberry', 'streetlight', 'submarine', 'suitcase', 'sun', 'suv', 'swan', 'sword', 'syringe', 't-shirt', 'table', 'tablelamp', 'teacup', 'teapot', 'teddy-bear', 'telephone', 'tennis-racket', 'tent', 'tiger', 'tire', 'toilet', 'tomato', 'tooth', 'toothbrush', 'tractor', 'traffic light', 'train', 'tree', 'trombone', 'trousers', 'truck', 'trumpet', 'tv', 'umbrella', 'van', 'vase', 'violin', 'walkie talkie', 'wheel', 'wheelbarrow', 'windmill', 'wine-bottle', 'wineglass', 'wrist-watch', 'zebra'])"
      ]
     },
     "execution_count": 9,
     "metadata": {},
     "output_type": "execute_result"
    }
   ],
   "source": [
    "imgpaths.keys()"
   ]
  },
  {
   "cell_type": "code",
   "execution_count": 10,
   "id": "773bf713",
   "metadata": {},
   "outputs": [
    {
     "data": {
      "text/plain": [
       "['./dataset/png/airplane/1.png',\n",
       " './dataset/png/airplane/10.png',\n",
       " './dataset/png/airplane/11.png',\n",
       " './dataset/png/airplane/12.png',\n",
       " './dataset/png/airplane/13.png',\n",
       " './dataset/png/airplane/14.png',\n",
       " './dataset/png/airplane/15.png',\n",
       " './dataset/png/airplane/16.png',\n",
       " './dataset/png/airplane/17.png',\n",
       " './dataset/png/airplane/18.png']"
      ]
     },
     "execution_count": 10,
     "metadata": {},
     "output_type": "execute_result"
    }
   ],
   "source": [
    "imgpaths['airplane'][:10]"
   ]
  },
  {
   "cell_type": "code",
   "execution_count": 11,
   "id": "1dbf6005",
   "metadata": {},
   "outputs": [
    {
     "data": {
      "text/plain": [
       "['airplane',\n",
       " 'alarm clock',\n",
       " 'angel',\n",
       " 'ant',\n",
       " 'apple',\n",
       " 'arm',\n",
       " 'armchair',\n",
       " 'ashtray',\n",
       " 'axe',\n",
       " 'backpack',\n",
       " 'banana',\n",
       " 'barn',\n",
       " 'baseball bat',\n",
       " 'basket',\n",
       " 'bathtub',\n",
       " 'bear (animal)',\n",
       " 'bed',\n",
       " 'bee',\n",
       " 'beer-mug',\n",
       " 'bell',\n",
       " 'bench',\n",
       " 'bicycle',\n",
       " 'binoculars',\n",
       " 'blimp',\n",
       " 'book',\n",
       " 'bookshelf',\n",
       " 'boomerang',\n",
       " 'bottle opener',\n",
       " 'bowl',\n",
       " 'brain',\n",
       " 'bread',\n",
       " 'bridge',\n",
       " 'bulldozer',\n",
       " 'bus',\n",
       " 'bush',\n",
       " 'butterfly',\n",
       " 'cabinet',\n",
       " 'cactus',\n",
       " 'cake',\n",
       " 'calculator',\n",
       " 'camel',\n",
       " 'camera',\n",
       " 'candle',\n",
       " 'cannon',\n",
       " 'canoe',\n",
       " 'car (sedan)',\n",
       " 'carrot',\n",
       " 'castle',\n",
       " 'cat',\n",
       " 'cell phone',\n",
       " 'chair',\n",
       " 'chandelier',\n",
       " 'church',\n",
       " 'cigarette',\n",
       " 'cloud',\n",
       " 'comb',\n",
       " 'computer monitor',\n",
       " 'computer-mouse',\n",
       " 'couch',\n",
       " 'cow',\n",
       " 'crab',\n",
       " 'crane (machine)',\n",
       " 'crocodile',\n",
       " 'crown',\n",
       " 'cup',\n",
       " 'diamond',\n",
       " 'dog',\n",
       " 'dolphin',\n",
       " 'donut',\n",
       " 'door',\n",
       " 'door handle',\n",
       " 'dragon',\n",
       " 'duck',\n",
       " 'ear',\n",
       " 'elephant',\n",
       " 'envelope',\n",
       " 'eye',\n",
       " 'eyeglasses',\n",
       " 'face',\n",
       " 'fan',\n",
       " 'feather',\n",
       " 'filelist.txt',\n",
       " 'fire hydrant',\n",
       " 'fish',\n",
       " 'flashlight',\n",
       " 'floor lamp',\n",
       " 'flower with stem',\n",
       " 'flying bird',\n",
       " 'flying saucer',\n",
       " 'foot',\n",
       " 'fork',\n",
       " 'frog',\n",
       " 'frying-pan',\n",
       " 'giraffe',\n",
       " 'grapes',\n",
       " 'grenade',\n",
       " 'guitar',\n",
       " 'hamburger',\n",
       " 'hammer',\n",
       " 'hand',\n",
       " 'harp',\n",
       " 'hat',\n",
       " 'head',\n",
       " 'head-phones',\n",
       " 'hedgehog',\n",
       " 'helicopter',\n",
       " 'helmet',\n",
       " 'horse',\n",
       " 'hot air balloon',\n",
       " 'hot-dog',\n",
       " 'hourglass',\n",
       " 'house',\n",
       " 'human-skeleton',\n",
       " 'ice-cream-cone',\n",
       " 'ipod',\n",
       " 'kangaroo',\n",
       " 'key',\n",
       " 'keyboard',\n",
       " 'knife',\n",
       " 'ladder',\n",
       " 'laptop',\n",
       " 'leaf',\n",
       " 'lightbulb',\n",
       " 'lighter',\n",
       " 'lion',\n",
       " 'lobster',\n",
       " 'loudspeaker',\n",
       " 'mailbox',\n",
       " 'megaphone',\n",
       " 'mermaid',\n",
       " 'microphone',\n",
       " 'microscope',\n",
       " 'monkey',\n",
       " 'moon',\n",
       " 'mosquito',\n",
       " 'motorbike',\n",
       " 'mouse (animal)',\n",
       " 'mouth',\n",
       " 'mug',\n",
       " 'mushroom',\n",
       " 'nose',\n",
       " 'octopus',\n",
       " 'owl',\n",
       " 'palm tree',\n",
       " 'panda',\n",
       " 'paper clip',\n",
       " 'parachute',\n",
       " 'parking meter',\n",
       " 'parrot',\n",
       " 'pear',\n",
       " 'pen',\n",
       " 'penguin',\n",
       " 'person sitting',\n",
       " 'person walking',\n",
       " 'piano',\n",
       " 'pickup truck',\n",
       " 'pig',\n",
       " 'pigeon',\n",
       " 'pineapple',\n",
       " 'pipe (for smoking)',\n",
       " 'pizza',\n",
       " 'potted plant',\n",
       " 'power outlet',\n",
       " 'present',\n",
       " 'pretzel',\n",
       " 'pumpkin',\n",
       " 'purse',\n",
       " 'rabbit',\n",
       " 'race car',\n",
       " 'radio',\n",
       " 'rainbow',\n",
       " 'revolver',\n",
       " 'rifle',\n",
       " 'rollerblades',\n",
       " 'rooster',\n",
       " 'sailboat',\n",
       " 'santa claus',\n",
       " 'satellite',\n",
       " 'satellite dish',\n",
       " 'saxophone',\n",
       " 'scissors',\n",
       " 'scorpion',\n",
       " 'screwdriver',\n",
       " 'sea turtle',\n",
       " 'seagull',\n",
       " 'shark',\n",
       " 'sheep',\n",
       " 'ship',\n",
       " 'shoe',\n",
       " 'shovel',\n",
       " 'skateboard',\n",
       " 'skull',\n",
       " 'skyscraper',\n",
       " 'snail',\n",
       " 'snake',\n",
       " 'snowboard',\n",
       " 'snowman',\n",
       " 'socks',\n",
       " 'space shuttle',\n",
       " 'speed-boat',\n",
       " 'spider',\n",
       " 'sponge bob',\n",
       " 'spoon',\n",
       " 'squirrel',\n",
       " 'standing bird',\n",
       " 'stapler',\n",
       " 'strawberry',\n",
       " 'streetlight',\n",
       " 'submarine',\n",
       " 'suitcase',\n",
       " 'sun',\n",
       " 'suv',\n",
       " 'swan',\n",
       " 'sword',\n",
       " 'syringe',\n",
       " 't-shirt',\n",
       " 'table',\n",
       " 'tablelamp',\n",
       " 'teacup',\n",
       " 'teapot',\n",
       " 'teddy-bear',\n",
       " 'telephone',\n",
       " 'tennis-racket',\n",
       " 'tent',\n",
       " 'tiger',\n",
       " 'tire',\n",
       " 'toilet',\n",
       " 'tomato',\n",
       " 'tooth',\n",
       " 'toothbrush',\n",
       " 'tractor',\n",
       " 'traffic light',\n",
       " 'train',\n",
       " 'tree',\n",
       " 'trombone',\n",
       " 'trousers',\n",
       " 'truck',\n",
       " 'trumpet',\n",
       " 'tv',\n",
       " 'umbrella',\n",
       " 'van',\n",
       " 'vase',\n",
       " 'violin',\n",
       " 'walkie talkie',\n",
       " 'wheel',\n",
       " 'wheelbarrow',\n",
       " 'windmill',\n",
       " 'wine-bottle',\n",
       " 'wineglass',\n",
       " 'wrist-watch',\n",
       " 'zebra']"
      ]
     },
     "execution_count": 11,
     "metadata": {},
     "output_type": "execute_result"
    }
   ],
   "source": [
    "os.listdir('./dataset/png')"
   ]
  },
  {
   "cell_type": "code",
   "execution_count": 12,
   "id": "f8cb9ed9",
   "metadata": {},
   "outputs": [],
   "source": [
    "num_classes = len(os.listdir('./dataset/png')[:9])"
   ]
  },
  {
   "cell_type": "code",
   "execution_count": 13,
   "id": "235dc314",
   "metadata": {},
   "outputs": [],
   "source": [
    "import tensorflow as tf"
   ]
  },
  {
   "cell_type": "code",
   "execution_count": 14,
   "id": "fc9a9681",
   "metadata": {},
   "outputs": [],
   "source": [
    "class DataGenerator(tf.keras.utils.Sequence):\n",
    "    def __init__(self, db_dir, batch_size, input_shape, num_classes=None, \n",
    "                 shuffle=True, dir_classes=False, grayscale=True):\n",
    "        \n",
    "        # todo: fix num classes\n",
    "        \n",
    "        self.current_counter = 0\n",
    "        self.label_dict = {}\n",
    "\n",
    "        self.input_shape = input_shape\n",
    "        self.batch_size = batch_size\n",
    "        self.num_classes = num_classes\n",
    "        self.shuffle = shuffle\n",
    "        \n",
    "        # load the data from the root directory\n",
    "        self.data, self.labels = self.get_data(db_dir)\n",
    "        self.indices = np.arange(len(self.data))\n",
    "        self.on_epoch_end()\n",
    "        self.grayscale = grayscale\n",
    "\n",
    "\n",
    "    def get_data(self, root_dir):\n",
    "        \"\"\"\"\n",
    "        Loads the paths to the images and their corresponding labels from the database directory\n",
    "        \"\"\"\n",
    "        self.data = []\n",
    "        self.labels = []\n",
    "\n",
    "        labels_list = dict() # used to initialize label ids, for one-hot repr.\n",
    "        \n",
    "        imgpaths = {}\n",
    "        path = root_dir\n",
    "        pth = path\n",
    "        \n",
    "        #pth = './dataset/png'\n",
    "        labels_list_id = 0\n",
    "        for d in os.listdir(pth)[:9]: # remove this\n",
    "            \n",
    "            # initialize ids for one-hot vector\n",
    "            labels_list[d] = labels_list_id\n",
    "            labels_list_id += 1\n",
    "            #\n",
    "            \n",
    "            if not os.path.isdir(pth + '/' + d):\n",
    "                continue\n",
    "            for img in os.listdir(pth + '/' + d):\n",
    "                path = './dataset/png/'+ d\n",
    "                if d not in imgpaths:\n",
    "                    imgpaths[d] = []\n",
    "                imgpaths[d].append(path + '/' + img)\n",
    "                \n",
    "        for i in imgpaths.keys():\n",
    "            for j in imgpaths[i]:\n",
    "                self.data.append(j)\n",
    "                self.labels.append(tf.one_hot(labels_list[i], depth=len(os.listdir(pth)[:9])))\n",
    "\n",
    "        return self.data, self.labels\n",
    "\n",
    "    def __len__(self):\n",
    "        \"\"\"\n",
    "        Returns the number of batches per epoch: the total size of the dataset divided by the batch size\n",
    "        \"\"\"\n",
    "        return int(np.floor(len(self.data) / self.batch_size))\n",
    "        # TODO your code  here (size of dataset divided by the batch size)\n",
    "        return 0\n",
    "    \n",
    "    def vec_to_tensor(self, v):\n",
    "      return constant(v)\n",
    "    \n",
    "    \"\"\"\n",
    "        Preprocesses before outputting to .fit()\n",
    "        This can mean: reshape, channel count check, mean subtraction and std. dev division.\n",
    "    \"\"\"\n",
    "    def batch_to_train(self, batch_x, batch_y):\n",
    "        x_train = [self.vec_to_tensor(x) for x in batch_x]\n",
    "        y_train = [self.vec_to_tensor(x) for x in batch_y]\n",
    "\n",
    "        #print(self.input_shape)\n",
    "        x_train = [cv2.resize(np.array(i), (self.input_shape[0], self.input_shape[1])) for i in x_train]\n",
    "        x_train2 = []\n",
    "        y_train2 = []\n",
    "\n",
    "        for i in range(len(x_train)):\n",
    "          if (x_train[i].shape[0] == self.input_shape[0] and x_train[i].shape[1] == self.input_shape[1]):\n",
    "            x_train2.append(x_train[i])\n",
    "            y_train2.append([y_train[i].numpy(), 0 if y_train[i].numpy() == 1 else 1])\n",
    "\n",
    "        y_test = y_train2[:floor(1/5 * self.batch_size)]\n",
    "        x_test = x_train2[:floor(1/5 * self.batch_size)]\n",
    "\n",
    "        x_train = x_train2[ceil(1/5 * self.batch_size + 1):]\n",
    "        y_train = y_train2[ceil(1/5 * self.batch_size + 1):]\n",
    "\n",
    "        \n",
    "        \n",
    "        x_train = np.array(x_train)\n",
    "        y_train = np.array(y_train)\n",
    "        \n",
    "#         mean = x_train.mean(axis=(0, 1, 2))\n",
    "#         x_train[..., 0] = x_train[..., 0] - mean[0]\n",
    "#         x_train[..., 1] = x_train[..., 1] - mean[1]\n",
    "#         x_train[..., 2] = x_train[..., 2] - mean[2]\n",
    "        \n",
    "        x_test = np.array(x_test)\n",
    "        y_test = np.array(y_test)\n",
    "        \n",
    "        print(x_train.shape)\n",
    "        \n",
    "        return x_train, y_train\n",
    "\n",
    "    def __getitem__(self, index):\n",
    "        \"\"\"\"\n",
    "        Generates a batch of data\n",
    "        Note: computation intensivity\n",
    "        \"\"\"\n",
    "\n",
    "        batch_indices = self.indices[index*self.batch_size : (index+1)*self.batch_size]\n",
    "        \n",
    "        batch_x = [] # TODO load the image(s) from batch_indices\n",
    "        batch_y = [] # TODO load the corresponding labels of the images you loaded\n",
    "\n",
    "        for i in batch_indices:\n",
    "          ci = self.data[i]\n",
    "          cl = self.labels[i]\n",
    "            \n",
    "          cd = Image.open(ci) #.convert('L')\n",
    "          cd = np.array(cd)\n",
    "\n",
    "          if self.grayscale:\n",
    "            cd = cv2.resize(cd, (self.input_shape[0], self.input_shape[1]))\n",
    "          else:\n",
    "            cd = cv2.resize(cd, (self.input_shape[0], self.input_shape[1]))\n",
    "            cdc = cd.copy()\n",
    "            cd = np.reshape(cd, (self.input_shape[0], self.input_shape[1], 1))\n",
    "            cd = np.append(cd, cd, axis=2)\n",
    "            cd = np.append(cd, np.reshape(cdc, (self.input_shape[0], self.input_shape[1], 1)), axis=2)\n",
    "            \n",
    "          \n",
    "\n",
    "#           if (len(cd.shape) != 3):\n",
    "#             continue\n",
    "          # reshape?\n",
    "\n",
    "          batch_x.append(cd)\n",
    "          batch_y.append(cl)\n",
    "        \n",
    "        \n",
    "        return np.array(batch_x), batch_y\n",
    "\n",
    "    def on_epoch_end(self):\n",
    "        \"\"\"\"\n",
    "        Called at the end of each epoch\n",
    "        \"\"\"\n",
    "        # if required, shuffle your data after each epoch\n",
    "        self.indices = np.arange(len(self.data))\n",
    "        if self.shuffle:\n",
    "            # TODO shuffle data\n",
    "            # you might find np.random.shuffle useful here\n",
    "            np.random.shuffle(self.indices)"
   ]
  },
  {
   "cell_type": "code",
   "execution_count": 15,
   "id": "1bafc739",
   "metadata": {},
   "outputs": [],
   "source": [
    "class DataVisualizer:\n",
    "    @staticmethod\n",
    "    def plot_batch(vec):\n",
    "        fig, axes = plt.subplots(nrows=1, ncols=4, figsize=[16, 16], dpi=(200))\n",
    "        for i in range(len(axes)):\n",
    "            axes[i].imshow(vec[i], cmap=plt.get_cmap('gray'), vmin=0, vmax=255., interpolation=\"none\")\n",
    "        plt.show()"
   ]
  },
  {
   "cell_type": "code",
   "execution_count": 16,
   "id": "c2493216",
   "metadata": {},
   "outputs": [],
   "source": [
    "d = DataGenerator(\n",
    "    db_dir='./dataset/png',\n",
    "    batch_size=12,\n",
    "    input_shape=(224, 224),\n",
    "    dir_classes=True,\n",
    "    grayscale=False\n",
    ")"
   ]
  },
  {
   "cell_type": "code",
   "execution_count": 17,
   "id": "9865ec11",
   "metadata": {},
   "outputs": [
    {
     "data": {
      "text/plain": [
       "['./dataset/png/airplane/1.png',\n",
       " './dataset/png/airplane/10.png',\n",
       " './dataset/png/airplane/11.png',\n",
       " './dataset/png/airplane/12.png',\n",
       " './dataset/png/airplane/13.png',\n",
       " './dataset/png/airplane/14.png',\n",
       " './dataset/png/airplane/15.png',\n",
       " './dataset/png/airplane/16.png',\n",
       " './dataset/png/airplane/17.png',\n",
       " './dataset/png/airplane/18.png']"
      ]
     },
     "execution_count": 17,
     "metadata": {},
     "output_type": "execute_result"
    }
   ],
   "source": [
    "d.data[:10]"
   ]
  },
  {
   "cell_type": "code",
   "execution_count": 18,
   "id": "5463165a",
   "metadata": {
    "scrolled": true
   },
   "outputs": [],
   "source": [
    "batch = d[0]"
   ]
  },
  {
   "cell_type": "code",
   "execution_count": 19,
   "id": "1bb6904f",
   "metadata": {},
   "outputs": [
    {
     "data": {
      "text/plain": [
       "(12, 224, 224, 3)"
      ]
     },
     "execution_count": 19,
     "metadata": {},
     "output_type": "execute_result"
    }
   ],
   "source": [
    "batch[0].shape"
   ]
  },
  {
   "cell_type": "code",
   "execution_count": 20,
   "id": "ae2e8824",
   "metadata": {},
   "outputs": [
    {
     "data": {
      "text/plain": [
       "'ant'"
      ]
     },
     "execution_count": 20,
     "metadata": {},
     "output_type": "execute_result"
    }
   ],
   "source": [
    "os.listdir('./dataset/png')[np.argmax(batch[1][0])]"
   ]
  },
  {
   "cell_type": "code",
   "execution_count": 21,
   "id": "96e7a163",
   "metadata": {
    "scrolled": false
   },
   "outputs": [
    {
     "data": {
      "image/png": "[encoded data removed]",
      "text/plain": [
       "<Figure size 3200x3200 with 4 Axes>"
      ]
     },
     "metadata": {
      "needs_background": "light"
     },
     "output_type": "display_data"
    }
   ],
   "source": [
    "DataVisualizer.plot_batch(batch[0])"
   ]
  },
  {
   "cell_type": "code",
   "execution_count": 22,
   "id": "0431eb40",
   "metadata": {},
   "outputs": [],
   "source": [
    "from tensorflow.keras import utils"
   ]
  },
  {
   "cell_type": "code",
   "execution_count": 23,
   "id": "25e3d510",
   "metadata": {},
   "outputs": [],
   "source": [
    "inputs = tf.keras.Input(shape=(440, 440, 1))"
   ]
  },
  {
   "cell_type": "code",
   "execution_count": 24,
   "id": "5708a903",
   "metadata": {},
   "outputs": [],
   "source": [
    "x = tf.keras.layers.Conv2D(filters=512, kernel_size=(12, 12), strides=(12, 12), kernel_initializer='glorot_uniform')(inputs)\n",
    "x = tf.keras.layers.BatchNormalization()(x)\n",
    "x = tf.keras.layers.Conv2D(filters=512, kernel_size=(7, 7), strides=(7, 7), kernel_initializer='glorot_uniform')(inputs)\n",
    "x = tf.keras.layers.BatchNormalization()(x)\n",
    "# x = tf.keras.layers.Conv2D(filters=512, kernel_size=(5, 5), strides=(2, 2), kernel_initializer='glorot_uniform')(x)\n",
    "# x = tf.keras.layers.BatchNormalization()(x)\n",
    "\n",
    "x = tf.keras.layers.Conv2DTranspose(\n",
    "    256, kernel_size=(5, 5), strides=(2, 2), padding='valid',\n",
    "    output_padding=None, data_format=None, dilation_rate=(1, 1), activation=None,\n",
    "    use_bias=True, kernel_initializer='glorot_uniform',\n",
    "    bias_initializer='zeros', kernel_regularizer=None,\n",
    "    bias_regularizer=None, activity_regularizer=None, kernel_constraint=None,\n",
    "    bias_constraint=None\n",
    ")(x)\n",
    "\n",
    "x = tf.keras.layers.Conv2D(filters=256, kernel_size=(5, 5), strides=(2, 2), kernel_initializer='glorot_uniform')(x)\n",
    "x = tf.keras.layers.BatchNormalization()(x)\n",
    "# x = tf.keras.layers.Conv2D(filters=256, kernel_size=(3, 3), strides=(3, 3), kernel_initializer='glorot_uniform')(x)\n",
    "# x = tf.keras.layers.BatchNormalization()(x)\n",
    "\n",
    "x = tf.keras.layers.Conv2DTranspose(\n",
    "    256, kernel_size=(5, 5), strides=(2, 2), padding='valid',\n",
    "    output_padding=None, data_format=None, dilation_rate=(1, 1), activation=None,\n",
    "    use_bias=True, kernel_initializer='glorot_uniform',\n",
    "    bias_initializer='zeros', kernel_regularizer=None,\n",
    "    bias_regularizer=None, activity_regularizer=None, kernel_constraint=None,\n",
    "    bias_constraint=None\n",
    ")(x)\n",
    "\n",
    "x = tf.keras.layers.Conv2D(filters=256, kernel_size=(5, 5), strides=(2, 2), kernel_initializer='glorot_uniform')(x)\n",
    "x = tf.keras.layers.BatchNormalization()(x)\n",
    "\n",
    "# x = tf.keras.layers.Conv2DTranspose(\n",
    "#     256, kernel_size=(5, 5), strides=(2, 2), padding='valid',\n",
    "#     output_padding=None, data_format=None, dilation_rate=(1, 1), activation=None,\n",
    "#     use_bias=True, kernel_initializer='glorot_uniform',\n",
    "#     bias_initializer='zeros', kernel_regularizer=None,\n",
    "#     bias_regularizer=None, activity_regularizer=None, kernel_constraint=None,\n",
    "#     bias_constraint=None\n",
    "# )(x)\n",
    "\n",
    "x = tf.keras.layers.Conv2D(filters=256, kernel_size=(2, 2), strides=(2, 2), kernel_initializer='glorot_uniform')(x)\n",
    "# x = tf.keras.layers.Conv2D(filters=64, kernel_size=(2, 2), strides=(2, 2), kernel_initializer='glorot_uniform')(x)\n",
    "x = tf.keras.layers.BatchNormalization()(x)"
   ]
  },
  {
   "cell_type": "code",
   "execution_count": 25,
   "id": "e2e6f74a",
   "metadata": {},
   "outputs": [],
   "source": [
    "# x = tf.keras.layers.Conv2D(filters=256, kernel_size=(2, 2), strides=(1, 1), kernel_initializer='glorot_uniform')(x)"
   ]
  },
  {
   "cell_type": "code",
   "execution_count": 26,
   "id": "c632a50d",
   "metadata": {},
   "outputs": [],
   "source": [
    "# x = tf.keras.layers.Conv2D(filters=256, kernel_size=(2, 2), strides=(1, 1), kernel_initializer='glorot_uniform')(x)"
   ]
  },
  {
   "cell_type": "code",
   "execution_count": 27,
   "id": "973e624e",
   "metadata": {},
   "outputs": [],
   "source": [
    "x = tf.keras.layers.GlobalAveragePooling2D()(x)"
   ]
  },
  {
   "cell_type": "code",
   "execution_count": 28,
   "id": "072c2cd6",
   "metadata": {},
   "outputs": [],
   "source": [
    "# x = tf.keras.layers.Flatten()(x)"
   ]
  },
  {
   "cell_type": "code",
   "execution_count": 29,
   "id": "001f1479",
   "metadata": {},
   "outputs": [],
   "source": [
    "x = tf.keras.layers.Dense(units=256, activation=tf.keras.layers.Activation('relu'), kernel_initializer=tf.keras.initializers.HeNormal())(x)"
   ]
  },
  {
   "cell_type": "code",
   "execution_count": 30,
   "id": "493e71e2",
   "metadata": {},
   "outputs": [],
   "source": [
    "x = tf.keras.layers.Dense(units=2048, activation=tf.keras.layers.Activation('relu'), kernel_initializer=tf.keras.initializers.HeNormal())(x)\n",
    "# x = tf.keras.layers.Dense(units=512, activation=tf.keras.layers.Activation('relu'), kernel_initializer=tf.keras.initializers.HeNormal())(x)"
   ]
  },
  {
   "cell_type": "code",
   "execution_count": 31,
   "id": "022326da",
   "metadata": {},
   "outputs": [
    {
     "data": {
      "text/plain": [
       "9"
      ]
     },
     "execution_count": 31,
     "metadata": {},
     "output_type": "execute_result"
    }
   ],
   "source": [
    "num_classes"
   ]
  },
  {
   "cell_type": "code",
   "execution_count": 32,
   "id": "9c1b3b24",
   "metadata": {},
   "outputs": [],
   "source": [
    "x = tf.keras.layers.Dense(num_classes, activation=tf.keras.layers.Activation('softmax'), kernel_initializer=tf.keras.initializers.HeNormal())(x)"
   ]
  },
  {
   "cell_type": "code",
   "execution_count": 33,
   "id": "d2c94cb8",
   "metadata": {},
   "outputs": [],
   "source": [
    "model = tf.keras.Model(inputs=inputs, outputs=x)"
   ]
  },
  {
   "cell_type": "code",
   "execution_count": 34,
   "id": "34c3f281",
   "metadata": {},
   "outputs": [
    {
     "name": "stdout",
     "output_type": "stream",
     "text": [
      "Model: \"model\"\n",
      "_________________________________________________________________\n",
      " Layer (type)                Output Shape              Param #   \n",
      "=================================================================\n",
      " input_1 (InputLayer)        [(None, 440, 440, 1)]     0         \n",
      "                                                                 \n",
      " conv2d_1 (Conv2D)           (None, 62, 62, 512)       25600     \n",
      "                                                                 \n",
      " batch_normalization_1 (Batc  (None, 62, 62, 512)      2048      \n",
      " hNormalization)                                                 \n",
      "                                                                 \n",
      " conv2d_transpose (Conv2DTra  (None, 127, 127, 256)    3277056   \n",
      " nspose)                                                         \n",
      "                                                                 \n",
      " conv2d_2 (Conv2D)           (None, 62, 62, 256)       1638656   \n",
      "                                                                 \n",
      " batch_normalization_2 (Batc  (None, 62, 62, 256)      1024      \n",
      " hNormalization)                                                 \n",
      "                                                                 \n",
      " conv2d_transpose_1 (Conv2DT  (None, 127, 127, 256)    1638656   \n",
      " ranspose)                                                       \n",
      "                                                                 \n",
      " conv2d_3 (Conv2D)           (None, 62, 62, 256)       1638656   \n",
      "                                                                 \n",
      " batch_normalization_3 (Batc  (None, 62, 62, 256)      1024      \n",
      " hNormalization)                                                 \n",
      "                                                                 \n",
      " conv2d_4 (Conv2D)           (None, 31, 31, 256)       262400    \n",
      "                                                                 \n",
      " batch_normalization_4 (Batc  (None, 31, 31, 256)      1024      \n",
      " hNormalization)                                                 \n",
      "                                                                 \n",
      " global_average_pooling2d (G  (None, 256)              0         \n",
      " lobalAveragePooling2D)                                          \n",
      "                                                                 \n",
      " dense (Dense)               (None, 256)               65792     \n",
      "                                                                 \n",
      " dense_1 (Dense)             (None, 2048)              526336    \n",
      "                                                                 \n",
      " dense_2 (Dense)             (None, 9)                 18441     \n",
      "                                                                 \n",
      "=================================================================\n",
      "Total params: 9,096,713\n",
      "Trainable params: 9,094,153\n",
      "Non-trainable params: 2,560\n",
      "_________________________________________________________________\n"
     ]
    }
   ],
   "source": [
    "model.summary()"
   ]
  },
  {
   "cell_type": "code",
   "execution_count": 35,
   "id": "237ae808",
   "metadata": {},
   "outputs": [],
   "source": [
    "model.compile(\n",
    "    loss=tf.keras.losses.CategoricalCrossentropy(),\n",
    "    optimizer=tf.keras.optimizers.Adam(),\n",
    "    metrics=['accuracy']\n",
    ")"
   ]
  },
  {
   "cell_type": "code",
   "execution_count": 36,
   "id": "8b8822d4",
   "metadata": {},
   "outputs": [
    {
     "ename": "NameError",
     "evalue": "name 'X_train' is not defined",
     "output_type": "error",
     "traceback": [
      "\u001b[1;31m---------------------------------------------------------------------------\u001b[0m",
      "\u001b[1;31mNameError\u001b[0m                                 Traceback (most recent call last)",
      "\u001b[1;32m~\\AppData\\Local\\Temp/ipykernel_17248/3201564814.py\u001b[0m in \u001b[0;36m<module>\u001b[1;34m\u001b[0m\n\u001b[0;32m      1\u001b[0m history = model.fit(\n\u001b[1;32m----> 2\u001b[1;33m     \u001b[0mX_train\u001b[0m\u001b[1;33m,\u001b[0m\u001b[1;33m\u001b[0m\u001b[1;33m\u001b[0m\u001b[0m\n\u001b[0m\u001b[0;32m      3\u001b[0m     \u001b[0my_train\u001b[0m\u001b[1;33m,\u001b[0m\u001b[1;33m\u001b[0m\u001b[1;33m\u001b[0m\u001b[0m\n\u001b[0;32m      4\u001b[0m     \u001b[0mbatch_size\u001b[0m\u001b[1;33m=\u001b[0m\u001b[1;36m6\u001b[0m\u001b[1;33m,\u001b[0m\u001b[1;33m\u001b[0m\u001b[1;33m\u001b[0m\u001b[0m\n\u001b[0;32m      5\u001b[0m     \u001b[0mepochs\u001b[0m\u001b[1;33m=\u001b[0m\u001b[1;36m1\u001b[0m\u001b[1;33m,\u001b[0m\u001b[1;33m\u001b[0m\u001b[1;33m\u001b[0m\u001b[0m\n",
      "\u001b[1;31mNameError\u001b[0m: name 'X_train' is not defined"
     ]
    }
   ],
   "source": [
    "history = model.fit(\n",
    "    X_train,\n",
    "    y_train,\n",
    "    batch_size=6,\n",
    "    epochs=1,\n",
    ")"
   ]
  },
  {
   "cell_type": "code",
   "execution_count": null,
   "id": "d0b35572",
   "metadata": {},
   "outputs": [],
   "source": [
    "model.evaluate"
   ]
  },
  {
   "cell_type": "code",
   "execution_count": 22,
   "id": "bd10bea0",
   "metadata": {},
   "outputs": [],
   "source": [
    "d = DataGenerator(\n",
    "    db_dir='./dataset/png',\n",
    "    batch_size=1500,\n",
    "    input_shape=(224, 224),\n",
    "    dir_classes=True,\n",
    "    grayscale=False\n",
    ")"
   ]
  },
  {
   "cell_type": "code",
   "execution_count": 23,
   "id": "648b1d06",
   "metadata": {
    "scrolled": true
   },
   "outputs": [],
   "source": [
    "vx = d[0]"
   ]
  },
  {
   "cell_type": "code",
   "execution_count": 24,
   "id": "e39e48c4",
   "metadata": {
    "scrolled": false
   },
   "outputs": [
    {
     "data": {
      "text/plain": [
       "(720, 224, 224, 3)"
      ]
     },
     "execution_count": 24,
     "metadata": {},
     "output_type": "execute_result"
    }
   ],
   "source": [
    "vx[0].shape"
   ]
  },
  {
   "cell_type": "code",
   "execution_count": 25,
   "id": "0a94f9f8",
   "metadata": {},
   "outputs": [
    {
     "data": {
      "text/plain": [
       "720"
      ]
     },
     "execution_count": 25,
     "metadata": {},
     "output_type": "execute_result"
    }
   ],
   "source": [
    "len(vx[1])"
   ]
  },
  {
   "cell_type": "code",
   "execution_count": 26,
   "id": "6865cb5a",
   "metadata": {},
   "outputs": [],
   "source": [
    "X_train = vx[0]\n",
    "y_train = np.array(vx[1])"
   ]
  },
  {
   "cell_type": "code",
   "execution_count": 27,
   "id": "6a85654d",
   "metadata": {},
   "outputs": [
    {
     "data": {
      "text/plain": [
       "(720, 9)"
      ]
     },
     "execution_count": 27,
     "metadata": {},
     "output_type": "execute_result"
    }
   ],
   "source": [
    "y_train.shape"
   ]
  },
  {
   "cell_type": "code",
   "execution_count": 28,
   "id": "11328a11",
   "metadata": {},
   "outputs": [],
   "source": [
    "X_test = X_train[601:]\n",
    "y_test = y_train[601:]\n",
    "X_train = X_train[:600]\n",
    "y_train = y_train[:600]"
   ]
  },
  {
   "cell_type": "code",
   "execution_count": null,
   "id": "c72c4327",
   "metadata": {},
   "outputs": [],
   "source": []
  },
  {
   "cell_type": "code",
   "execution_count": 29,
   "id": "4cd9559c",
   "metadata": {},
   "outputs": [],
   "source": [
    "vgg16 = tf.keras.applications.vgg16.VGG16(\n",
    "    include_top=True,\n",
    "    input_shape=(224, 224, 3),\n",
    "    classes=9,\n",
    "    weights=None\n",
    "    #pooling='avg',\n",
    "    #classifier_activation='softmax' disabled by default...\n",
    ")"
   ]
  },
  {
   "cell_type": "code",
   "execution_count": 30,
   "id": "e61fa1f5",
   "metadata": {},
   "outputs": [],
   "source": [
    "#vgg16.output = tf.keras.layers.Softmax()"
   ]
  },
  {
   "cell_type": "code",
   "execution_count": 31,
   "id": "48238e62",
   "metadata": {},
   "outputs": [
    {
     "name": "stdout",
     "output_type": "stream",
     "text": [
      "Model: \"vgg16\"\n",
      "_________________________________________________________________\n",
      " Layer (type)                Output Shape              Param #   \n",
      "=================================================================\n",
      " input_1 (InputLayer)        [(None, 224, 224, 3)]     0         \n",
      "                                                                 \n",
      " block1_conv1 (Conv2D)       (None, 224, 224, 64)      1792      \n",
      "                                                                 \n",
      " block1_conv2 (Conv2D)       (None, 224, 224, 64)      36928     \n",
      "                                                                 \n",
      " block1_pool (MaxPooling2D)  (None, 112, 112, 64)      0         \n",
      "                                                                 \n",
      " block2_conv1 (Conv2D)       (None, 112, 112, 128)     73856     \n",
      "                                                                 \n",
      " block2_conv2 (Conv2D)       (None, 112, 112, 128)     147584    \n",
      "                                                                 \n",
      " block2_pool (MaxPooling2D)  (None, 56, 56, 128)       0         \n",
      "                                                                 \n",
      " block3_conv1 (Conv2D)       (None, 56, 56, 256)       295168    \n",
      "                                                                 \n",
      " block3_conv2 (Conv2D)       (None, 56, 56, 256)       590080    \n",
      "                                                                 \n",
      " block3_conv3 (Conv2D)       (None, 56, 56, 256)       590080    \n",
      "                                                                 \n",
      " block3_pool (MaxPooling2D)  (None, 28, 28, 256)       0         \n",
      "                                                                 \n",
      " block4_conv1 (Conv2D)       (None, 28, 28, 512)       1180160   \n",
      "                                                                 \n",
      " block4_conv2 (Conv2D)       (None, 28, 28, 512)       2359808   \n",
      "                                                                 \n",
      " block4_conv3 (Conv2D)       (None, 28, 28, 512)       2359808   \n",
      "                                                                 \n",
      " block4_pool (MaxPooling2D)  (None, 14, 14, 512)       0         \n",
      "                                                                 \n",
      " block5_conv1 (Conv2D)       (None, 14, 14, 512)       2359808   \n",
      "                                                                 \n",
      " block5_conv2 (Conv2D)       (None, 14, 14, 512)       2359808   \n",
      "                                                                 \n",
      " block5_conv3 (Conv2D)       (None, 14, 14, 512)       2359808   \n",
      "                                                                 \n",
      " block5_pool (MaxPooling2D)  (None, 7, 7, 512)         0         \n",
      "                                                                 \n",
      " flatten (Flatten)           (None, 25088)             0         \n",
      "                                                                 \n",
      " fc1 (Dense)                 (None, 4096)              102764544 \n",
      "                                                                 \n",
      " fc2 (Dense)                 (None, 4096)              16781312  \n",
      "                                                                 \n",
      " predictions (Dense)         (None, 9)                 36873     \n",
      "                                                                 \n",
      "=================================================================\n",
      "Total params: 134,297,417\n",
      "Trainable params: 134,297,417\n",
      "Non-trainable params: 0\n",
      "_________________________________________________________________\n"
     ]
    }
   ],
   "source": [
    "vgg16.summary()"
   ]
  },
  {
   "cell_type": "code",
   "execution_count": 32,
   "id": "a8314745",
   "metadata": {},
   "outputs": [],
   "source": [
    "vgg16.compile(\n",
    "    loss=tf.keras.losses.CategoricalCrossentropy(),\n",
    "    optimizer=tf.keras.optimizers.Adam(learning_rate=0.00001),\n",
    "    metrics=['accuracy']\n",
    ")"
   ]
  },
  {
   "cell_type": "code",
   "execution_count": 33,
   "id": "946d0ede",
   "metadata": {},
   "outputs": [
    {
     "name": "stdout",
     "output_type": "stream",
     "text": [
      "Epoch 1/15\n",
      "75/75 [==============================] - 582s 8s/step - loss: 2.1942 - accuracy: 0.1867\n",
      "Epoch 2/15\n",
      "75/75 [==============================] - 750s 10s/step - loss: 1.4108 - accuracy: 0.5500\n",
      "Epoch 3/15\n",
      "75/75 [==============================] - 631s 8s/step - loss: 1.0182 - accuracy: 0.6700\n",
      "Epoch 4/15\n",
      "75/75 [==============================] - 642s 9s/step - loss: 0.7406 - accuracy: 0.7367\n",
      "Epoch 5/15\n",
      "75/75 [==============================] - 654s 9s/step - loss: 0.5757 - accuracy: 0.8183\n",
      "Epoch 6/15\n",
      "75/75 [==============================] - 555s 7s/step - loss: 0.4610 - accuracy: 0.8483\n",
      "Epoch 7/15\n",
      "75/75 [==============================] - 528s 7s/step - loss: 0.3041 - accuracy: 0.8917\n",
      "Epoch 8/15\n",
      "47/75 [=================>............] - ETA: 3:21 - loss: 0.2340 - accuracy: 0.9176"
     ]
    },
    {
     "ename": "KeyboardInterrupt",
     "evalue": "",
     "output_type": "error",
     "traceback": [
      "\u001b[1;31m---------------------------------------------------------------------------\u001b[0m",
      "\u001b[1;31mKeyboardInterrupt\u001b[0m                         Traceback (most recent call last)",
      "\u001b[1;32m~\\AppData\\Local\\Temp/ipykernel_10448/2633649870.py\u001b[0m in \u001b[0;36m<module>\u001b[1;34m\u001b[0m\n\u001b[1;32m----> 1\u001b[1;33m history = vgg16.fit(\n\u001b[0m\u001b[0;32m      2\u001b[0m     \u001b[0mX_train\u001b[0m\u001b[1;33m,\u001b[0m\u001b[1;33m\u001b[0m\u001b[1;33m\u001b[0m\u001b[0m\n\u001b[0;32m      3\u001b[0m     \u001b[0my_train\u001b[0m\u001b[1;33m,\u001b[0m\u001b[1;33m\u001b[0m\u001b[1;33m\u001b[0m\u001b[0m\n\u001b[0;32m      4\u001b[0m     \u001b[0mbatch_size\u001b[0m\u001b[1;33m=\u001b[0m\u001b[1;36m8\u001b[0m\u001b[1;33m,\u001b[0m\u001b[1;33m\u001b[0m\u001b[1;33m\u001b[0m\u001b[0m\n\u001b[0;32m      5\u001b[0m     \u001b[0mepochs\u001b[0m\u001b[1;33m=\u001b[0m\u001b[1;36m15\u001b[0m\u001b[1;33m,\u001b[0m\u001b[1;33m\u001b[0m\u001b[1;33m\u001b[0m\u001b[0m\n",
      "\u001b[1;32mc:\\users\\septimiu\\appdata\\local\\programs\\python\\python39\\lib\\site-packages\\keras\\utils\\traceback_utils.py\u001b[0m in \u001b[0;36merror_handler\u001b[1;34m(*args, **kwargs)\u001b[0m\n\u001b[0;32m     62\u001b[0m     \u001b[0mfiltered_tb\u001b[0m \u001b[1;33m=\u001b[0m \u001b[1;32mNone\u001b[0m\u001b[1;33m\u001b[0m\u001b[1;33m\u001b[0m\u001b[0m\n\u001b[0;32m     63\u001b[0m     \u001b[1;32mtry\u001b[0m\u001b[1;33m:\u001b[0m\u001b[1;33m\u001b[0m\u001b[1;33m\u001b[0m\u001b[0m\n\u001b[1;32m---> 64\u001b[1;33m       \u001b[1;32mreturn\u001b[0m \u001b[0mfn\u001b[0m\u001b[1;33m(\u001b[0m\u001b[1;33m*\u001b[0m\u001b[0margs\u001b[0m\u001b[1;33m,\u001b[0m \u001b[1;33m**\u001b[0m\u001b[0mkwargs\u001b[0m\u001b[1;33m)\u001b[0m\u001b[1;33m\u001b[0m\u001b[1;33m\u001b[0m\u001b[0m\n\u001b[0m\u001b[0;32m     65\u001b[0m     \u001b[1;32mexcept\u001b[0m \u001b[0mException\u001b[0m \u001b[1;32mas\u001b[0m \u001b[0me\u001b[0m\u001b[1;33m:\u001b[0m  \u001b[1;31m# pylint: disable=broad-except\u001b[0m\u001b[1;33m\u001b[0m\u001b[1;33m\u001b[0m\u001b[0m\n\u001b[0;32m     66\u001b[0m       \u001b[0mfiltered_tb\u001b[0m \u001b[1;33m=\u001b[0m \u001b[0m_process_traceback_frames\u001b[0m\u001b[1;33m(\u001b[0m\u001b[0me\u001b[0m\u001b[1;33m.\u001b[0m\u001b[0m__traceback__\u001b[0m\u001b[1;33m)\u001b[0m\u001b[1;33m\u001b[0m\u001b[1;33m\u001b[0m\u001b[0m\n",
      "\u001b[1;32mc:\\users\\septimiu\\appdata\\local\\programs\\python\\python39\\lib\\site-packages\\keras\\engine\\training.py\u001b[0m in \u001b[0;36mfit\u001b[1;34m(self, x, y, batch_size, epochs, verbose, callbacks, validation_split, validation_data, shuffle, class_weight, sample_weight, initial_epoch, steps_per_epoch, validation_steps, validation_batch_size, validation_freq, max_queue_size, workers, use_multiprocessing)\u001b[0m\n\u001b[0;32m   1214\u001b[0m                 _r=1):\n\u001b[0;32m   1215\u001b[0m               \u001b[0mcallbacks\u001b[0m\u001b[1;33m.\u001b[0m\u001b[0mon_train_batch_begin\u001b[0m\u001b[1;33m(\u001b[0m\u001b[0mstep\u001b[0m\u001b[1;33m)\u001b[0m\u001b[1;33m\u001b[0m\u001b[1;33m\u001b[0m\u001b[0m\n\u001b[1;32m-> 1216\u001b[1;33m               \u001b[0mtmp_logs\u001b[0m \u001b[1;33m=\u001b[0m \u001b[0mself\u001b[0m\u001b[1;33m.\u001b[0m\u001b[0mtrain_function\u001b[0m\u001b[1;33m(\u001b[0m\u001b[0miterator\u001b[0m\u001b[1;33m)\u001b[0m\u001b[1;33m\u001b[0m\u001b[1;33m\u001b[0m\u001b[0m\n\u001b[0m\u001b[0;32m   1217\u001b[0m               \u001b[1;32mif\u001b[0m \u001b[0mdata_handler\u001b[0m\u001b[1;33m.\u001b[0m\u001b[0mshould_sync\u001b[0m\u001b[1;33m:\u001b[0m\u001b[1;33m\u001b[0m\u001b[1;33m\u001b[0m\u001b[0m\n\u001b[0;32m   1218\u001b[0m                 \u001b[0mcontext\u001b[0m\u001b[1;33m.\u001b[0m\u001b[0masync_wait\u001b[0m\u001b[1;33m(\u001b[0m\u001b[1;33m)\u001b[0m\u001b[1;33m\u001b[0m\u001b[1;33m\u001b[0m\u001b[0m\n",
      "\u001b[1;32mc:\\users\\septimiu\\appdata\\local\\programs\\python\\python39\\lib\\site-packages\\tensorflow\\python\\util\\traceback_utils.py\u001b[0m in \u001b[0;36merror_handler\u001b[1;34m(*args, **kwargs)\u001b[0m\n\u001b[0;32m    148\u001b[0m     \u001b[0mfiltered_tb\u001b[0m \u001b[1;33m=\u001b[0m \u001b[1;32mNone\u001b[0m\u001b[1;33m\u001b[0m\u001b[1;33m\u001b[0m\u001b[0m\n\u001b[0;32m    149\u001b[0m     \u001b[1;32mtry\u001b[0m\u001b[1;33m:\u001b[0m\u001b[1;33m\u001b[0m\u001b[1;33m\u001b[0m\u001b[0m\n\u001b[1;32m--> 150\u001b[1;33m       \u001b[1;32mreturn\u001b[0m \u001b[0mfn\u001b[0m\u001b[1;33m(\u001b[0m\u001b[1;33m*\u001b[0m\u001b[0margs\u001b[0m\u001b[1;33m,\u001b[0m \u001b[1;33m**\u001b[0m\u001b[0mkwargs\u001b[0m\u001b[1;33m)\u001b[0m\u001b[1;33m\u001b[0m\u001b[1;33m\u001b[0m\u001b[0m\n\u001b[0m\u001b[0;32m    151\u001b[0m     \u001b[1;32mexcept\u001b[0m \u001b[0mException\u001b[0m \u001b[1;32mas\u001b[0m \u001b[0me\u001b[0m\u001b[1;33m:\u001b[0m\u001b[1;33m\u001b[0m\u001b[1;33m\u001b[0m\u001b[0m\n\u001b[0;32m    152\u001b[0m       \u001b[0mfiltered_tb\u001b[0m \u001b[1;33m=\u001b[0m \u001b[0m_process_traceback_frames\u001b[0m\u001b[1;33m(\u001b[0m\u001b[0me\u001b[0m\u001b[1;33m.\u001b[0m\u001b[0m__traceback__\u001b[0m\u001b[1;33m)\u001b[0m\u001b[1;33m\u001b[0m\u001b[1;33m\u001b[0m\u001b[0m\n",
      "\u001b[1;32mc:\\users\\septimiu\\appdata\\local\\programs\\python\\python39\\lib\\site-packages\\tensorflow\\python\\eager\\def_function.py\u001b[0m in \u001b[0;36m__call__\u001b[1;34m(self, *args, **kwds)\u001b[0m\n\u001b[0;32m    908\u001b[0m \u001b[1;33m\u001b[0m\u001b[0m\n\u001b[0;32m    909\u001b[0m       \u001b[1;32mwith\u001b[0m \u001b[0mOptionalXlaContext\u001b[0m\u001b[1;33m(\u001b[0m\u001b[0mself\u001b[0m\u001b[1;33m.\u001b[0m\u001b[0m_jit_compile\u001b[0m\u001b[1;33m)\u001b[0m\u001b[1;33m:\u001b[0m\u001b[1;33m\u001b[0m\u001b[1;33m\u001b[0m\u001b[0m\n\u001b[1;32m--> 910\u001b[1;33m         \u001b[0mresult\u001b[0m \u001b[1;33m=\u001b[0m \u001b[0mself\u001b[0m\u001b[1;33m.\u001b[0m\u001b[0m_call\u001b[0m\u001b[1;33m(\u001b[0m\u001b[1;33m*\u001b[0m\u001b[0margs\u001b[0m\u001b[1;33m,\u001b[0m \u001b[1;33m**\u001b[0m\u001b[0mkwds\u001b[0m\u001b[1;33m)\u001b[0m\u001b[1;33m\u001b[0m\u001b[1;33m\u001b[0m\u001b[0m\n\u001b[0m\u001b[0;32m    911\u001b[0m \u001b[1;33m\u001b[0m\u001b[0m\n\u001b[0;32m    912\u001b[0m       \u001b[0mnew_tracing_count\u001b[0m \u001b[1;33m=\u001b[0m \u001b[0mself\u001b[0m\u001b[1;33m.\u001b[0m\u001b[0mexperimental_get_tracing_count\u001b[0m\u001b[1;33m(\u001b[0m\u001b[1;33m)\u001b[0m\u001b[1;33m\u001b[0m\u001b[1;33m\u001b[0m\u001b[0m\n",
      "\u001b[1;32mc:\\users\\septimiu\\appdata\\local\\programs\\python\\python39\\lib\\site-packages\\tensorflow\\python\\eager\\def_function.py\u001b[0m in \u001b[0;36m_call\u001b[1;34m(self, *args, **kwds)\u001b[0m\n\u001b[0;32m    940\u001b[0m       \u001b[1;31m# In this case we have created variables on the first call, so we run the\u001b[0m\u001b[1;33m\u001b[0m\u001b[1;33m\u001b[0m\u001b[1;33m\u001b[0m\u001b[0m\n\u001b[0;32m    941\u001b[0m       \u001b[1;31m# defunned version which is guaranteed to never create variables.\u001b[0m\u001b[1;33m\u001b[0m\u001b[1;33m\u001b[0m\u001b[1;33m\u001b[0m\u001b[0m\n\u001b[1;32m--> 942\u001b[1;33m       \u001b[1;32mreturn\u001b[0m \u001b[0mself\u001b[0m\u001b[1;33m.\u001b[0m\u001b[0m_stateless_fn\u001b[0m\u001b[1;33m(\u001b[0m\u001b[1;33m*\u001b[0m\u001b[0margs\u001b[0m\u001b[1;33m,\u001b[0m \u001b[1;33m**\u001b[0m\u001b[0mkwds\u001b[0m\u001b[1;33m)\u001b[0m  \u001b[1;31m# pylint: disable=not-callable\u001b[0m\u001b[1;33m\u001b[0m\u001b[1;33m\u001b[0m\u001b[0m\n\u001b[0m\u001b[0;32m    943\u001b[0m     \u001b[1;32melif\u001b[0m \u001b[0mself\u001b[0m\u001b[1;33m.\u001b[0m\u001b[0m_stateful_fn\u001b[0m \u001b[1;32mis\u001b[0m \u001b[1;32mnot\u001b[0m \u001b[1;32mNone\u001b[0m\u001b[1;33m:\u001b[0m\u001b[1;33m\u001b[0m\u001b[1;33m\u001b[0m\u001b[0m\n\u001b[0;32m    944\u001b[0m       \u001b[1;31m# Release the lock early so that multiple threads can perform the call\u001b[0m\u001b[1;33m\u001b[0m\u001b[1;33m\u001b[0m\u001b[1;33m\u001b[0m\u001b[0m\n",
      "\u001b[1;32mc:\\users\\septimiu\\appdata\\local\\programs\\python\\python39\\lib\\site-packages\\tensorflow\\python\\eager\\function.py\u001b[0m in \u001b[0;36m__call__\u001b[1;34m(self, *args, **kwargs)\u001b[0m\n\u001b[0;32m   3128\u001b[0m       (graph_function,\n\u001b[0;32m   3129\u001b[0m        filtered_flat_args) = self._maybe_define_function(args, kwargs)\n\u001b[1;32m-> 3130\u001b[1;33m     return graph_function._call_flat(\n\u001b[0m\u001b[0;32m   3131\u001b[0m         filtered_flat_args, captured_inputs=graph_function.captured_inputs)  # pylint: disable=protected-access\n\u001b[0;32m   3132\u001b[0m \u001b[1;33m\u001b[0m\u001b[0m\n",
      "\u001b[1;32mc:\\users\\septimiu\\appdata\\local\\programs\\python\\python39\\lib\\site-packages\\tensorflow\\python\\eager\\function.py\u001b[0m in \u001b[0;36m_call_flat\u001b[1;34m(self, args, captured_inputs, cancellation_manager)\u001b[0m\n\u001b[0;32m   1957\u001b[0m         and executing_eagerly):\n\u001b[0;32m   1958\u001b[0m       \u001b[1;31m# No tape is watching; skip to running the function.\u001b[0m\u001b[1;33m\u001b[0m\u001b[1;33m\u001b[0m\u001b[1;33m\u001b[0m\u001b[0m\n\u001b[1;32m-> 1959\u001b[1;33m       return self._build_call_outputs(self._inference_function.call(\n\u001b[0m\u001b[0;32m   1960\u001b[0m           ctx, args, cancellation_manager=cancellation_manager))\n\u001b[0;32m   1961\u001b[0m     forward_backward = self._select_forward_and_backward_functions(\n",
      "\u001b[1;32mc:\\users\\septimiu\\appdata\\local\\programs\\python\\python39\\lib\\site-packages\\tensorflow\\python\\eager\\function.py\u001b[0m in \u001b[0;36mcall\u001b[1;34m(self, ctx, args, cancellation_manager)\u001b[0m\n\u001b[0;32m    596\u001b[0m       \u001b[1;32mwith\u001b[0m \u001b[0m_InterpolateFunctionError\u001b[0m\u001b[1;33m(\u001b[0m\u001b[0mself\u001b[0m\u001b[1;33m)\u001b[0m\u001b[1;33m:\u001b[0m\u001b[1;33m\u001b[0m\u001b[1;33m\u001b[0m\u001b[0m\n\u001b[0;32m    597\u001b[0m         \u001b[1;32mif\u001b[0m \u001b[0mcancellation_manager\u001b[0m \u001b[1;32mis\u001b[0m \u001b[1;32mNone\u001b[0m\u001b[1;33m:\u001b[0m\u001b[1;33m\u001b[0m\u001b[1;33m\u001b[0m\u001b[0m\n\u001b[1;32m--> 598\u001b[1;33m           outputs = execute.execute(\n\u001b[0m\u001b[0;32m    599\u001b[0m               \u001b[0mstr\u001b[0m\u001b[1;33m(\u001b[0m\u001b[0mself\u001b[0m\u001b[1;33m.\u001b[0m\u001b[0msignature\u001b[0m\u001b[1;33m.\u001b[0m\u001b[0mname\u001b[0m\u001b[1;33m)\u001b[0m\u001b[1;33m,\u001b[0m\u001b[1;33m\u001b[0m\u001b[1;33m\u001b[0m\u001b[0m\n\u001b[0;32m    600\u001b[0m               \u001b[0mnum_outputs\u001b[0m\u001b[1;33m=\u001b[0m\u001b[0mself\u001b[0m\u001b[1;33m.\u001b[0m\u001b[0m_num_outputs\u001b[0m\u001b[1;33m,\u001b[0m\u001b[1;33m\u001b[0m\u001b[1;33m\u001b[0m\u001b[0m\n",
      "\u001b[1;32mc:\\users\\septimiu\\appdata\\local\\programs\\python\\python39\\lib\\site-packages\\tensorflow\\python\\eager\\execute.py\u001b[0m in \u001b[0;36mquick_execute\u001b[1;34m(op_name, num_outputs, inputs, attrs, ctx, name)\u001b[0m\n\u001b[0;32m     56\u001b[0m   \u001b[1;32mtry\u001b[0m\u001b[1;33m:\u001b[0m\u001b[1;33m\u001b[0m\u001b[1;33m\u001b[0m\u001b[0m\n\u001b[0;32m     57\u001b[0m     \u001b[0mctx\u001b[0m\u001b[1;33m.\u001b[0m\u001b[0mensure_initialized\u001b[0m\u001b[1;33m(\u001b[0m\u001b[1;33m)\u001b[0m\u001b[1;33m\u001b[0m\u001b[1;33m\u001b[0m\u001b[0m\n\u001b[1;32m---> 58\u001b[1;33m     tensors = pywrap_tfe.TFE_Py_Execute(ctx._handle, device_name, op_name,\n\u001b[0m\u001b[0;32m     59\u001b[0m                                         inputs, attrs, num_outputs)\n\u001b[0;32m     60\u001b[0m   \u001b[1;32mexcept\u001b[0m \u001b[0mcore\u001b[0m\u001b[1;33m.\u001b[0m\u001b[0m_NotOkStatusException\u001b[0m \u001b[1;32mas\u001b[0m \u001b[0me\u001b[0m\u001b[1;33m:\u001b[0m\u001b[1;33m\u001b[0m\u001b[1;33m\u001b[0m\u001b[0m\n",
      "\u001b[1;31mKeyboardInterrupt\u001b[0m: "
     ]
    }
   ],
   "source": [
    "history = vgg16.fit(\n",
    "    X_train,\n",
    "    y_train,\n",
    "    batch_size=8,\n",
    "    epochs=15,\n",
    ")"
   ]
  },
  {
   "cell_type": "code",
   "execution_count": null,
   "id": "a05b1306",
   "metadata": {},
   "outputs": [],
   "source": []
  },
  {
   "cell_type": "code",
   "execution_count": null,
   "id": "748e3d2a",
   "metadata": {},
   "outputs": [],
   "source": []
  }
 ],
 "metadata": {
  "kernelspec": {
   "display_name": "Python 3 (ipykernel)",
   "language": "python",
   "name": "python3"
  },
  "language_info": {
   "codemirror_mode": {
    "name": "ipython",
    "version": 3
   },
   "file_extension": ".py",
   "mimetype": "text/x-python",
   "name": "python",
   "nbconvert_exporter": "python",
   "pygments_lexer": "ipython3",
   "version": "3.9.6"
  }
 },
 "nbformat": 4,
 "nbformat_minor": 5
}
