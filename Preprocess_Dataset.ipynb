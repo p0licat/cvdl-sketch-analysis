{
 "cells": [
  {
   "cell_type": "code",
   "execution_count": 2,
   "id": "ef7da507",
   "metadata": {},
   "outputs": [],
   "source": [
    "from tensorflow import convert_to_tensor, Tensor, constant"
   ]
  },
  {
   "cell_type": "code",
   "execution_count": 3,
   "id": "4dc0c297",
   "metadata": {},
   "outputs": [],
   "source": [
    "import os\n",
    "import sys"
   ]
  },
  {
   "cell_type": "code",
   "execution_count": 7,
   "id": "8ca25a36",
   "metadata": {},
   "outputs": [],
   "source": [
    "imgpaths = {}\n",
    "pth = './preprocessed_dataset/png'\n",
    "for d in os.listdir(pth):\n",
    "    if not os.path.isdir(pth + '/' + d):\n",
    "        continue\n",
    "    for img in os.listdir(pth + '/' + d):\n",
    "        path = './dataset/png/'+ d\n",
    "        if d not in imgpaths:\n",
    "            imgpaths[d] = []\n",
    "        imgpaths[d].append(path + '/' + img)"
   ]
  },
  {
   "cell_type": "code",
   "execution_count": 8,
   "id": "1ea287ed",
   "metadata": {},
   "outputs": [
    {
     "data": {
      "text/plain": [
       "dict_keys(['airplane', 'alarm clock'])"
      ]
     },
     "execution_count": 8,
     "metadata": {},
     "output_type": "execute_result"
    }
   ],
   "source": [
    "imgpaths.keys()"
   ]
  },
  {
   "cell_type": "code",
   "execution_count": 9,
   "id": "b5655fb1",
   "metadata": {},
   "outputs": [
    {
     "data": {
      "text/plain": [
       "['./dataset/png/airplane/1.png',\n",
       " './dataset/png/airplane/10.png',\n",
       " './dataset/png/airplane/11.png',\n",
       " './dataset/png/airplane/12.png',\n",
       " './dataset/png/airplane/13.png',\n",
       " './dataset/png/airplane/14.png',\n",
       " './dataset/png/airplane/15.png',\n",
       " './dataset/png/airplane/16.png',\n",
       " './dataset/png/airplane/17.png',\n",
       " './dataset/png/airplane/18.png',\n",
       " './dataset/png/airplane/19.png',\n",
       " './dataset/png/airplane/2.png',\n",
       " './dataset/png/airplane/20.png',\n",
       " './dataset/png/airplane/21.png',\n",
       " './dataset/png/airplane/22.png',\n",
       " './dataset/png/airplane/23.png',\n",
       " './dataset/png/airplane/24.png',\n",
       " './dataset/png/airplane/25.png',\n",
       " './dataset/png/airplane/26.png',\n",
       " './dataset/png/airplane/27.png',\n",
       " './dataset/png/airplane/28.png',\n",
       " './dataset/png/airplane/29.png',\n",
       " './dataset/png/airplane/3.png',\n",
       " './dataset/png/airplane/30.png',\n",
       " './dataset/png/airplane/31.png',\n",
       " './dataset/png/airplane/32.png',\n",
       " './dataset/png/airplane/33.png',\n",
       " './dataset/png/airplane/34.png',\n",
       " './dataset/png/airplane/35.png',\n",
       " './dataset/png/airplane/36.png',\n",
       " './dataset/png/airplane/37.png',\n",
       " './dataset/png/airplane/38.png',\n",
       " './dataset/png/airplane/39.png',\n",
       " './dataset/png/airplane/4.png',\n",
       " './dataset/png/airplane/40.png',\n",
       " './dataset/png/airplane/41.png',\n",
       " './dataset/png/airplane/42.png',\n",
       " './dataset/png/airplane/43.png',\n",
       " './dataset/png/airplane/44.png',\n",
       " './dataset/png/airplane/45.png',\n",
       " './dataset/png/airplane/46.png',\n",
       " './dataset/png/airplane/47.png',\n",
       " './dataset/png/airplane/48.png',\n",
       " './dataset/png/airplane/49.png',\n",
       " './dataset/png/airplane/5.png',\n",
       " './dataset/png/airplane/50.png',\n",
       " './dataset/png/airplane/51.png',\n",
       " './dataset/png/airplane/52.png',\n",
       " './dataset/png/airplane/53.png',\n",
       " './dataset/png/airplane/54.png',\n",
       " './dataset/png/airplane/55.png',\n",
       " './dataset/png/airplane/56.png',\n",
       " './dataset/png/airplane/57.png',\n",
       " './dataset/png/airplane/58.png',\n",
       " './dataset/png/airplane/59.png',\n",
       " './dataset/png/airplane/6.png',\n",
       " './dataset/png/airplane/60.png',\n",
       " './dataset/png/airplane/61.png',\n",
       " './dataset/png/airplane/62.png',\n",
       " './dataset/png/airplane/63.png',\n",
       " './dataset/png/airplane/64.png',\n",
       " './dataset/png/airplane/65.png',\n",
       " './dataset/png/airplane/66.png',\n",
       " './dataset/png/airplane/67.png',\n",
       " './dataset/png/airplane/68.png',\n",
       " './dataset/png/airplane/69.png',\n",
       " './dataset/png/airplane/7.png',\n",
       " './dataset/png/airplane/70.png',\n",
       " './dataset/png/airplane/71.png',\n",
       " './dataset/png/airplane/72.png',\n",
       " './dataset/png/airplane/73.png',\n",
       " './dataset/png/airplane/74.png',\n",
       " './dataset/png/airplane/75.png',\n",
       " './dataset/png/airplane/76.png',\n",
       " './dataset/png/airplane/77.png',\n",
       " './dataset/png/airplane/78.png',\n",
       " './dataset/png/airplane/79.png',\n",
       " './dataset/png/airplane/8.png',\n",
       " './dataset/png/airplane/80.png',\n",
       " './dataset/png/airplane/9.png']"
      ]
     },
     "execution_count": 9,
     "metadata": {},
     "output_type": "execute_result"
    }
   ],
   "source": [
    "imgpaths['airplane']"
   ]
  },
  {
   "cell_type": "code",
   "execution_count": 12,
   "id": "c9a6f659",
   "metadata": {},
   "outputs": [],
   "source": [
    "from PIL import Image\n",
    "import cv2"
   ]
  },
  {
   "cell_type": "code",
   "execution_count": 13,
   "id": "3da1617c",
   "metadata": {},
   "outputs": [],
   "source": [
    "def get_one(filepath):\n",
    "    v = Image.open(filepath)\n",
    "    return v"
   ]
  },
  {
   "cell_type": "code",
   "execution_count": 14,
   "id": "a0265f67",
   "metadata": {},
   "outputs": [],
   "source": [
    "v = get_one(imgpaths['airplane'][0])"
   ]
  },
  {
   "cell_type": "code",
   "execution_count": 15,
   "id": "0f0f858a",
   "metadata": {
    "collapsed": true
   },
   "outputs": [
    {
     "data": {
      "image/png": "[encoded data removed]",
      "text/plain": [
       "<PIL.PngImagePlugin.PngImageFile image mode=L size=1111x1111 at 0x202A6732B20>"
      ]
     },
     "execution_count": 15,
     "metadata": {},
     "output_type": "execute_result"
    }
   ],
   "source": [
    "v"
   ]
  },
  {
   "cell_type": "code",
   "execution_count": 17,
   "id": "e4910b93",
   "metadata": {},
   "outputs": [],
   "source": [
    "from tensorflow.keras.layers import Conv2D"
   ]
  },
  {
   "cell_type": "code",
   "execution_count": 53,
   "id": "8d45da50",
   "metadata": {},
   "outputs": [],
   "source": [
    "crops = []"
   ]
  },
  {
   "cell_type": "code",
   "execution_count": 54,
   "id": "b03728b9",
   "metadata": {},
   "outputs": [],
   "source": [
    "\n",
    "def preprocess_chunks(v, filter_size=(7, 7), stride=(7, 7)):\n",
    "    for i in range(len(v)):\n",
    "        for j in range(len(v[i])):\n",
    "            crop = v[i:i+filter_size[0], j:j+filter_size[1]]\n",
    "            crops.append(crop)\n",
    "            j += filter_size[1]\n",
    "            if j > len(v[i]):\n",
    "                break\n",
    "        i += filter_size[0]\n",
    "        if i > len(v):\n",
    "            break"
   ]
  },
  {
   "cell_type": "code",
   "execution_count": 64,
   "id": "7fbef451",
   "metadata": {},
   "outputs": [],
   "source": [
    "import matplotlib.pyplot as plt"
   ]
  },
  {
   "cell_type": "code",
   "execution_count": 55,
   "id": "c06b601b",
   "metadata": {},
   "outputs": [],
   "source": [
    "import numpy as np"
   ]
  },
  {
   "cell_type": "code",
   "execution_count": 56,
   "id": "b6b85947",
   "metadata": {},
   "outputs": [],
   "source": [
    "preprocess_chunks(np.array(v))"
   ]
  },
  {
   "cell_type": "code",
   "execution_count": 57,
   "id": "7975564a",
   "metadata": {},
   "outputs": [
    {
     "data": {
      "text/plain": [
       "1223236"
      ]
     },
     "execution_count": 57,
     "metadata": {},
     "output_type": "execute_result"
    }
   ],
   "source": [
    "len(crops)"
   ]
  },
  {
   "cell_type": "code",
   "execution_count": 66,
   "id": "5b1ca925",
   "metadata": {},
   "outputs": [],
   "source": [
    "class DataVisualizer:\n",
    "    @staticmethod\n",
    "    def plot(vec, count=1):\n",
    "        fig, axes = plt.subplots(nrows=1, ncols=4, figsize=[16, 16], dpi=(200))\n",
    "        for i in range(len(axes)):\n",
    "            axes[i].imshow(vec[i], cmap=plt.get_cmap('gray'), vmin=0, vmax=255., interpolation=\"none\")\n",
    "        plt.show()"
   ]
  },
  {
   "cell_type": "code",
   "execution_count": 58,
   "id": "3494e77d",
   "metadata": {
    "scrolled": true
   },
   "outputs": [
    {
     "data": {
      "text/plain": [
       "array([[255, 255, 255, 255, 255, 255, 255],\n",
       "       [255, 255, 255, 255, 255, 255, 255],\n",
       "       [255, 255, 255, 255, 255, 255, 255],\n",
       "       [255, 255, 255, 255, 255, 255, 255],\n",
       "       [255, 255, 255, 255, 255, 255, 255],\n",
       "       [255, 255, 255, 255, 255, 255, 255],\n",
       "       [255, 255, 255, 255, 255, 255, 255]], dtype=uint8)"
      ]
     },
     "execution_count": 58,
     "metadata": {},
     "output_type": "execute_result"
    }
   ],
   "source": [
    "crops[100000]"
   ]
  },
  {
   "cell_type": "code",
   "execution_count": 73,
   "id": "64c23218",
   "metadata": {},
   "outputs": [],
   "source": [
    "printable_crops = []"
   ]
  },
  {
   "cell_type": "code",
   "execution_count": null,
   "id": "9cc44f84",
   "metadata": {
    "scrolled": true
   },
   "outputs": [],
   "source": [
    "for i in crops:\n",
    "    printable = False\n",
    "    for j in i.flatten():\n",
    "        if j != 255:\n",
    "            printable = True\n",
    "            printable_crops.append(i)"
   ]
  },
  {
   "cell_type": "code",
   "execution_count": null,
   "id": "e1b807da",
   "metadata": {},
   "outputs": [],
   "source": [
    "DataVisualizer.plot([printable_crops[2], printable_crops[3], printable_crops[4], printable_crops[5]])"
   ]
  },
  {
   "cell_type": "code",
   "execution_count": null,
   "id": "cfeeebf3",
   "metadata": {},
   "outputs": [],
   "source": []
  }
 ],
 "metadata": {
  "kernelspec": {
   "display_name": "Python 3 (ipykernel)",
   "language": "python",
   "name": "python3"
  },
  "language_info": {
   "codemirror_mode": {
    "name": "ipython",
    "version": 3
   },
   "file_extension": ".py",
   "mimetype": "text/x-python",
   "name": "python",
   "nbconvert_exporter": "python",
   "pygments_lexer": "ipython3",
   "version": "3.9.6"
  }
 },
 "nbformat": 4,
 "nbformat_minor": 5
}
