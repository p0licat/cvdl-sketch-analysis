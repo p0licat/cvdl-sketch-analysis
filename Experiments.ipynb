{
 "cells": [
  {
   "cell_type": "code",
   "execution_count": 8,
   "id": "49d29e63",
   "metadata": {},
   "outputs": [],
   "source": [
    "import numpy as np"
   ]
  },
  {
   "cell_type": "code",
   "execution_count": 2,
   "id": "8f920749",
   "metadata": {},
   "outputs": [],
   "source": [
    "import tensorflow as tf"
   ]
  },
  {
   "cell_type": "code",
   "execution_count": 3,
   "id": "9fc8db07",
   "metadata": {},
   "outputs": [
    {
     "data": {
      "text/plain": [
       "<tf.Tensor: shape=(1, 6), dtype=float32, numpy=array([[0., 1., 0., 0., 0., 0.]], dtype=float32)>"
      ]
     },
     "execution_count": 3,
     "metadata": {},
     "output_type": "execute_result"
    }
   ],
   "source": [
    "tf.one_hot([1], depth=6)"
   ]
  },
  {
   "cell_type": "code",
   "execution_count": 18,
   "id": "b9d6a874",
   "metadata": {},
   "outputs": [],
   "source": [
    "l = ['a', 'b', 'c']"
   ]
  },
  {
   "cell_type": "code",
   "execution_count": 19,
   "id": "3365043c",
   "metadata": {},
   "outputs": [],
   "source": [
    "x = np.array(l)"
   ]
  },
  {
   "cell_type": "code",
   "execution_count": 29,
   "id": "58613ce2",
   "metadata": {},
   "outputs": [
    {
     "data": {
      "text/plain": [
       "<tf.Tensor: shape=(3,), dtype=float32, numpy=array([1., 0., 0.], dtype=float32)>"
      ]
     },
     "execution_count": 29,
     "metadata": {},
     "output_type": "execute_result"
    }
   ],
   "source": [
    "tf.constant([float(i) for i in x == 'a'])"
   ]
  },
  {
   "cell_type": "code",
   "execution_count": null,
   "id": "abe6995d",
   "metadata": {},
   "outputs": [],
   "source": [
    "label_dict = "
   ]
  },
  {
   "cell_type": "code",
   "execution_count": 1,
   "id": "23dafc04",
   "metadata": {},
   "outputs": [],
   "source": [
    "# reshaping to 3 channels"
   ]
  },
  {
   "cell_type": "code",
   "execution_count": 96,
   "id": "3ca56e8a",
   "metadata": {},
   "outputs": [],
   "source": [
    "import numpy as np"
   ]
  },
  {
   "cell_type": "code",
   "execution_count": 113,
   "id": "3bdac319",
   "metadata": {},
   "outputs": [],
   "source": [
    "img = [[1, 1, 1, 1], [1, 1, 1, 1], [1, 1, 1, 1],  [1, 1, 1, 1]]"
   ]
  },
  {
   "cell_type": "code",
   "execution_count": 114,
   "id": "9a679063",
   "metadata": {},
   "outputs": [],
   "source": [
    "v = np.array(img)"
   ]
  },
  {
   "cell_type": "code",
   "execution_count": 115,
   "id": "dc890085",
   "metadata": {},
   "outputs": [
    {
     "data": {
      "text/plain": [
       "(4, 4)"
      ]
     },
     "execution_count": 115,
     "metadata": {},
     "output_type": "execute_result"
    }
   ],
   "source": [
    "v.shape"
   ]
  },
  {
   "cell_type": "code",
   "execution_count": 116,
   "id": "170103ca",
   "metadata": {},
   "outputs": [],
   "source": [
    "v = np.reshape(v, (4, 4, 1))"
   ]
  },
  {
   "cell_type": "code",
   "execution_count": 117,
   "id": "2b589745",
   "metadata": {},
   "outputs": [],
   "source": [
    "v = np.append(v, v, axis=2)\n"
   ]
  },
  {
   "cell_type": "code",
   "execution_count": 118,
   "id": "74028755",
   "metadata": {},
   "outputs": [
    {
     "data": {
      "text/plain": [
       "(4, 4, 2)"
      ]
     },
     "execution_count": 118,
     "metadata": {},
     "output_type": "execute_result"
    }
   ],
   "source": [
    "v.shape"
   ]
  },
  {
   "cell_type": "code",
   "execution_count": 119,
   "id": "90d2bfb2",
   "metadata": {},
   "outputs": [],
   "source": [
    "v = np.append(v, np.reshape(np.array(img), (4, 4, 1)), axis=2)"
   ]
  },
  {
   "cell_type": "code",
   "execution_count": 120,
   "id": "14524618",
   "metadata": {},
   "outputs": [
    {
     "data": {
      "text/plain": [
       "array([[[1, 1, 1],\n",
       "        [1, 1, 1],\n",
       "        [1, 1, 1],\n",
       "        [1, 1, 1]],\n",
       "\n",
       "       [[1, 1, 1],\n",
       "        [1, 1, 1],\n",
       "        [1, 1, 1],\n",
       "        [1, 1, 1]],\n",
       "\n",
       "       [[1, 1, 1],\n",
       "        [1, 1, 1],\n",
       "        [1, 1, 1],\n",
       "        [1, 1, 1]],\n",
       "\n",
       "       [[1, 1, 1],\n",
       "        [1, 1, 1],\n",
       "        [1, 1, 1],\n",
       "        [1, 1, 1]]])"
      ]
     },
     "execution_count": 120,
     "metadata": {},
     "output_type": "execute_result"
    }
   ],
   "source": [
    "v"
   ]
  },
  {
   "cell_type": "code",
   "execution_count": 121,
   "id": "a42d41f1",
   "metadata": {},
   "outputs": [
    {
     "data": {
      "text/plain": [
       "(4, 4, 3)"
      ]
     },
     "execution_count": 121,
     "metadata": {},
     "output_type": "execute_result"
    }
   ],
   "source": [
    "\n",
    "v.shape"
   ]
  },
  {
   "cell_type": "code",
   "execution_count": null,
   "id": "c5e5b579",
   "metadata": {},
   "outputs": [],
   "source": []
  }
 ],
 "metadata": {
  "kernelspec": {
   "display_name": "Python 3 (ipykernel)",
   "language": "python",
   "name": "python3"
  },
  "language_info": {
   "codemirror_mode": {
    "name": "ipython",
    "version": 3
   },
   "file_extension": ".py",
   "mimetype": "text/x-python",
   "name": "python",
   "nbconvert_exporter": "python",
   "pygments_lexer": "ipython3",
   "version": "3.9.6"
  }
 },
 "nbformat": 4,
 "nbformat_minor": 5
}
