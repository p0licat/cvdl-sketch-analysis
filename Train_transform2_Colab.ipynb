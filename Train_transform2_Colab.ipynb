{
  "cells": [
    {
      "cell_type": "code",
      "execution_count": 1,
      "id": "013fdc7e",
      "metadata": {
        "id": "013fdc7e"
      },
      "outputs": [],
      "source": [
        "import numpy as np\n",
        "import tensorflow as tf\n",
        "import matplotlib.pyplot as plt\n",
        "from PIL import Image\n",
        "import cv2\n",
        "import os\n",
        "import sys\n",
        "from math import floor, ceil\n",
        "from tensorflow import convert_to_tensor, Tensor, constant\n",
        "import tensorflow as tf\n",
        "import PIL\n",
        "import PIL.ImageOps\n",
        "from matplotlib import cm\n",
        "from skimage.transform import hough_line, hough_line_peaks\n",
        "import numpy as np"
      ]
    },
    {
      "cell_type": "code",
      "source": [
        "from google.colab import drive\n",
        "drive.mount('/content/drive')"
      ],
      "metadata": {
        "colab": {
          "base_uri": "https://localhost:8080/"
        },
        "id": "HZHyloPRAcrG",
        "outputId": "a2d3815c-cccb-4916-93b2-8a8db8ba748c"
      },
      "id": "HZHyloPRAcrG",
      "execution_count": 2,
      "outputs": [
        {
          "output_type": "stream",
          "name": "stdout",
          "text": [
            "Mounted at /content/drive\n"
          ]
        }
      ]
    },
    {
      "cell_type": "code",
      "execution_count": 3,
      "id": "adb7290d",
      "metadata": {
        "colab": {
          "base_uri": "https://localhost:8080/"
        },
        "id": "adb7290d",
        "outputId": "c83b3a59-b47a-4edd-c3b9-5b7cf60f0243"
      },
      "outputs": [
        {
          "output_type": "execute_result",
          "data": {
            "text/plain": [
              "True"
            ]
          },
          "metadata": {},
          "execution_count": 3
        }
      ],
      "source": [
        "os.path.isdir('/content/drive/MyDrive/Dataset_sketch/dataset')"
      ]
    },
    {
      "cell_type": "code",
      "execution_count": 4,
      "id": "5509340d",
      "metadata": {
        "id": "5509340d"
      },
      "outputs": [],
      "source": [
        "imgpaths = {}\n",
        "pth = '/content/drive/MyDrive/Dataset_sketch/dataset/png'\n",
        "for d in os.listdir(pth):\n",
        "    if not os.path.isdir(pth + '/' + d):\n",
        "        continue\n",
        "    for img in os.listdir(pth + '/' +d):\n",
        "        path = '/content/drive/MyDrive/Dataset_sketch/dataset/png/'+d\n",
        "        if d not in imgpaths:\n",
        "            imgpaths[d] = []\n",
        "        imgpaths[d].append(path + '/' + img)"
      ]
    },
    {
      "cell_type": "code",
      "execution_count": 5,
      "id": "618990a7",
      "metadata": {
        "colab": {
          "base_uri": "https://localhost:8080/"
        },
        "id": "618990a7",
        "outputId": "af152a8b-118c-43d6-f159-caac3a7107e1"
      },
      "outputs": [
        {
          "output_type": "execute_result",
          "data": {
            "text/plain": [
              "['arm',\n",
              " 'backpack',\n",
              " 'airplane',\n",
              " 'angel',\n",
              " 'alarm clock',\n",
              " 'axe',\n",
              " 'ashtray',\n",
              " 'armchair',\n",
              " 'apple',\n",
              " 'ant']"
            ]
          },
          "metadata": {},
          "execution_count": 5
        }
      ],
      "source": [
        "list(imgpaths.keys())[:10]"
      ]
    },
    {
      "cell_type": "code",
      "execution_count": 6,
      "id": "15721da8",
      "metadata": {
        "colab": {
          "base_uri": "https://localhost:8080/"
        },
        "id": "15721da8",
        "outputId": "9aa43d24-3d6d-440e-f003-eaab992a6937"
      },
      "outputs": [
        {
          "output_type": "execute_result",
          "data": {
            "text/plain": [
              "['/content/drive/MyDrive/Dataset_sketch/dataset/png/airplane/4.png',\n",
              " '/content/drive/MyDrive/Dataset_sketch/dataset/png/airplane/16.png',\n",
              " '/content/drive/MyDrive/Dataset_sketch/dataset/png/airplane/21.png',\n",
              " '/content/drive/MyDrive/Dataset_sketch/dataset/png/airplane/22.png',\n",
              " '/content/drive/MyDrive/Dataset_sketch/dataset/png/airplane/46.png',\n",
              " '/content/drive/MyDrive/Dataset_sketch/dataset/png/airplane/27.png',\n",
              " '/content/drive/MyDrive/Dataset_sketch/dataset/png/airplane/37.png',\n",
              " '/content/drive/MyDrive/Dataset_sketch/dataset/png/airplane/44.png',\n",
              " '/content/drive/MyDrive/Dataset_sketch/dataset/png/airplane/43.png',\n",
              " '/content/drive/MyDrive/Dataset_sketch/dataset/png/airplane/40.png']"
            ]
          },
          "metadata": {},
          "execution_count": 6
        }
      ],
      "source": [
        "imgpaths['airplane'][:10]"
      ]
    },
    {
      "cell_type": "code",
      "execution_count": 7,
      "id": "1ec2ce37",
      "metadata": {
        "id": "1ec2ce37"
      },
      "outputs": [],
      "source": [
        "class DataGenerator(tf.keras.utils.Sequence):\n",
        "    def __init__(self, db_dir, batch_size, input_shape, num_classes=None, \n",
        "                 shuffle=True, dir_classes=False, grayscale=True):\n",
        "\n",
        "        self.current_counter = 0\n",
        "        self.label_dict = {}\n",
        "\n",
        "        self.input_shape = input_shape\n",
        "        self.batch_size = batch_size\n",
        "        self.num_classes = num_classes\n",
        "        self.shuffle = shuffle\n",
        "        \n",
        "        # load the data from the root directory\n",
        "        self.data, self.labels = self.get_data(db_dir)\n",
        "        self.indices = np.arange(len(self.data))\n",
        "        self.on_epoch_end()\n",
        "        self.grayscale = grayscale\n",
        "\n",
        "\n",
        "    def get_data(self, root_dir):\n",
        "        \"\"\"\"\n",
        "        Loads the paths to the images and their corresponding labels from the database directory\n",
        "        \"\"\"\n",
        "        self.data = []\n",
        "        self.labels = []\n",
        "\n",
        "        labels_list = dict() # used to initialize label ids, for one-hot repr.\n",
        "        \n",
        "        imgpaths = {}\n",
        "        path = root_dir\n",
        "        pth = path\n",
        "        \n",
        "        labels_list_id = 0\n",
        "        for d in os.listdir(pth)[:9]: # remove this\n",
        "            \n",
        "            # initialize ids for one-hot vector\n",
        "            labels_list[d] = labels_list_id\n",
        "            labels_list_id += 1\n",
        "            #\n",
        "            \n",
        "            if not os.path.isdir(pth + '/' + d):\n",
        "                continue\n",
        "            for img in os.listdir(pth + '/' + d):\n",
        "                path = '/content/drive/MyDrive/Dataset_sketch/dataset/png/'+ d\n",
        "                if d not in imgpaths:\n",
        "                    imgpaths[d] = []\n",
        "                imgpaths[d].append(path + '/' + img)\n",
        "                \n",
        "        for i in imgpaths.keys():\n",
        "            for j in imgpaths[i]:\n",
        "                self.data.append(j)\n",
        "                self.labels.append(tf.one_hot(labels_list[i], depth=len(os.listdir(pth)[:9])))\n",
        "\n",
        "        return self.data, self.labels\n",
        "\n",
        "    def __len__(self):\n",
        "        \"\"\"\n",
        "        Returns the number of batches per epoch: the total size of the dataset divided by the batch size\n",
        "        \"\"\"\n",
        "        return int(np.floor(len(self.data) / self.batch_size))\n",
        "        # TODO your code  here (size of dataset divided by the batch size)\n",
        "        return 0\n",
        "    \n",
        "    def vec_to_tensor(self, v):\n",
        "      return constant(v)\n",
        "    \n",
        "    \"\"\"\n",
        "        Preprocesses before outputting to .fit()\n",
        "        This can mean: reshape, channel count check, mean subtraction and std. dev division.\n",
        "    \"\"\"\n",
        "    def batch_to_train(self, batch_x, batch_y):\n",
        "        x_train = [self.vec_to_tensor(x) for x in batch_x]\n",
        "        y_train = [self.vec_to_tensor(x) for x in batch_y]\n",
        "\n",
        "        #print(self.input_shape)\n",
        "        x_train = [cv2.resize(np.array(i), (self.input_shape[0], self.input_shape[1])) for i in x_train]\n",
        "        x_train2 = []\n",
        "        y_train2 = []\n",
        "\n",
        "        for i in range(len(x_train)):\n",
        "          if (x_train[i].shape[0] == self.input_shape[0] and x_train[i].shape[1] == self.input_shape[1]):\n",
        "            x_train2.append(x_train[i])\n",
        "            y_train2.append([y_train[i].numpy(), 0 if y_train[i].numpy() == 1 else 1])\n",
        "\n",
        "        y_test = y_train2[:floor(1/5 * self.batch_size)]\n",
        "        x_test = x_train2[:floor(1/5 * self.batch_size)]\n",
        "\n",
        "        x_train = x_train2[ceil(1/5 * self.batch_size + 1):]\n",
        "        y_train = y_train2[ceil(1/5 * self.batch_size + 1):]\n",
        "\n",
        "        \n",
        "        \n",
        "        x_train = np.array(x_train)\n",
        "        y_train = np.array(y_train)\n",
        "\n",
        "        \n",
        "        x_test = np.array(x_test)\n",
        "        y_test = np.array(y_test)\n",
        "        \n",
        "        print(x_train.shape)\n",
        "        \n",
        "        return x_train, y_train\n",
        "\n",
        "    def __getitem__(self, index):\n",
        "        \"\"\"\"\n",
        "        Generates a batch of data\n",
        "        Note: computation intensivity\n",
        "        \"\"\"\n",
        "\n",
        "        batch_indices = self.indices[index*self.batch_size : (index+1)*self.batch_size]\n",
        "        \n",
        "        batch_x = [] # TODO load the image(s) from batch_indices\n",
        "        batch_y = [] # TODO load the corresponding labels of the images you loaded\n",
        "\n",
        "        for i in batch_indices:\n",
        "          ci = self.data[i]\n",
        "          cl = self.labels[i]\n",
        "            \n",
        "          cd = Image.open(ci) #.convert('L')\n",
        "          inverted_image = PIL.ImageOps.invert(cd)\n",
        "          cd = np.array(inverted_image)\n",
        "\n",
        "          if self.grayscale:\n",
        "            cd = cv2.resize(cd, (self.input_shape[0], self.input_shape[1]))\n",
        "          else:\n",
        "            cd = cv2.resize(cd, (self.input_shape[0], self.input_shape[1]))\n",
        "            cdc = cd.copy()\n",
        "            cd = np.reshape(cd, (self.input_shape[0], self.input_shape[1], 1))\n",
        "            cd = np.append(cd, cd, axis=2)\n",
        "            cd = np.append(cd, np.reshape(cdc, (self.input_shape[0], self.input_shape[1], 1)), axis=2)\n",
        "            \n",
        "          batch_x.append(cd)\n",
        "          batch_y.append(cl)\n",
        "        \n",
        "        \n",
        "        return np.array(batch_x), batch_y\n",
        "\n",
        "    def on_epoch_end(self):\n",
        "        \"\"\"\"\n",
        "        Called at the end of each epoch\n",
        "        \"\"\"\n",
        "        self.indices = np.arange(len(self.data))\n",
        "        if self.shuffle:\n",
        "            np.random.shuffle(self.indices)"
      ]
    },
    {
      "cell_type": "code",
      "execution_count": 8,
      "id": "a90f6b37",
      "metadata": {
        "id": "a90f6b37"
      },
      "outputs": [],
      "source": [
        "class DataVisualizer:\n",
        "    @staticmethod\n",
        "    def plot_batch(vec, count=1):\n",
        "        fig, axes = plt.subplots(nrows=1, ncols=4, figsize=[16, 16], dpi=(200))\n",
        "        for i in range(len(axes)):\n",
        "            axes[i].imshow(vec[i], cmap=plt.get_cmap('gray'), vmin=0, vmax=255., interpolation=\"none\")\n",
        "        plt.show()"
      ]
    },
    {
      "cell_type": "code",
      "execution_count": 9,
      "id": "c55a58c0",
      "metadata": {
        "id": "c55a58c0"
      },
      "outputs": [],
      "source": [
        "d = DataGenerator(\n",
        "    db_dir='/content/drive/MyDrive/Dataset_sketch/dataset/png',\n",
        "    batch_size=12,\n",
        "    input_shape=(160, 160),\n",
        "    dir_classes=True\n",
        ")"
      ]
    },
    {
      "cell_type": "code",
      "execution_count": 10,
      "id": "63d537be",
      "metadata": {
        "id": "63d537be"
      },
      "outputs": [],
      "source": [
        "batch = d[0]"
      ]
    },
    {
      "cell_type": "code",
      "execution_count": 11,
      "id": "68123a79",
      "metadata": {
        "id": "68123a79"
      },
      "outputs": [],
      "source": [
        "one_img = batch[0][0]"
      ]
    },
    {
      "cell_type": "code",
      "execution_count": 12,
      "id": "0a88bfef",
      "metadata": {
        "scrolled": true,
        "colab": {
          "base_uri": "https://localhost:8080/",
          "height": 403
        },
        "id": "0a88bfef",
        "outputId": "b2bd4859-d09b-46ac-98ef-125478941e2f"
      },
      "outputs": [
        {
          "output_type": "display_data",
          "data": {
            "image/png": "[encoded data removed]",
            "text/plain": [
              "<Figure size 3200x3200 with 4 Axes>"
            ]
          },
          "metadata": {
            "needs_background": "light"
          }
        }
      ],
      "source": [
        "DataVisualizer.plot_batch([one_img, one_img, one_img, one_img], count=1)"
      ]
    },
    {
      "cell_type": "code",
      "execution_count": 13,
      "id": "7ab08680",
      "metadata": {
        "id": "7ab08680"
      },
      "outputs": [],
      "source": [
        "d = DataGenerator(\n",
        "    db_dir='/content/drive/MyDrive/Dataset_sketch/dataset/png',\n",
        "    batch_size=1500,\n",
        "    input_shape=(160, 160),\n",
        "    dir_classes=True\n",
        ")"
      ]
    },
    {
      "cell_type": "code",
      "execution_count": 14,
      "id": "3d7b1ad0",
      "metadata": {
        "id": "3d7b1ad0"
      },
      "outputs": [],
      "source": [
        "vx = d[0]"
      ]
    },
    {
      "cell_type": "code",
      "execution_count": 15,
      "id": "19725670",
      "metadata": {
        "id": "19725670"
      },
      "outputs": [],
      "source": [
        "tested_angles = np.linspace(-np.pi / 2, np.pi / 2, 360, endpoint=False)\n",
        "def transform_img_vec(X):\n",
        "    newVec = []\n",
        "    for img in X:\n",
        "        h, theta, d = hough_line(img, theta=tested_angles)\n",
        "        newVec.append(h)\n",
        "    newVec = np.array(newVec)\n",
        "    return newVec"
      ]
    },
    {
      "cell_type": "code",
      "execution_count": 16,
      "id": "434dadb1",
      "metadata": {
        "id": "434dadb1"
      },
      "outputs": [],
      "source": [
        "X_train = vx[0]\n",
        "y_train = np.array(vx[1])\n",
        "X_test = X_train[601:]\n",
        "y_test = y_train[601:]\n",
        "X_train = X_train[:600]\n",
        "y_train = y_train[:600]"
      ]
    },
    {
      "cell_type": "code",
      "execution_count": 17,
      "id": "2b40c7cc",
      "metadata": {
        "id": "2b40c7cc"
      },
      "outputs": [],
      "source": [
        "X_train = transform_img_vec(X_train)"
      ]
    },
    {
      "cell_type": "code",
      "execution_count": 18,
      "id": "fcf493f4",
      "metadata": {
        "id": "fcf493f4"
      },
      "outputs": [],
      "source": [
        "X_test = transform_img_vec(X_test)"
      ]
    },
    {
      "cell_type": "code",
      "execution_count": 19,
      "id": "57ec0f23",
      "metadata": {
        "colab": {
          "base_uri": "https://localhost:8080/"
        },
        "id": "57ec0f23",
        "outputId": "7c4b4bac-044c-4ff5-92ea-2973089a7636"
      },
      "outputs": [
        {
          "output_type": "execute_result",
          "data": {
            "text/plain": [
              "(600, 454, 360)"
            ]
          },
          "metadata": {},
          "execution_count": 19
        }
      ],
      "source": [
        "X_train.shape"
      ]
    },
    {
      "cell_type": "code",
      "execution_count": 20,
      "id": "7b73320a",
      "metadata": {
        "colab": {
          "base_uri": "https://localhost:8080/"
        },
        "id": "7b73320a",
        "outputId": "45656d44-168e-47a5-d343-4c1fd90f5966"
      },
      "outputs": [
        {
          "output_type": "execute_result",
          "data": {
            "text/plain": [
              "(454, 360)"
            ]
          },
          "metadata": {},
          "execution_count": 20
        }
      ],
      "source": [
        "X_train[0].shape"
      ]
    },
    {
      "cell_type": "code",
      "execution_count": 21,
      "id": "0c10e44b",
      "metadata": {
        "colab": {
          "base_uri": "https://localhost:8080/"
        },
        "id": "0c10e44b",
        "outputId": "70ba1ff0-d802-4525-a578-2a8786d9af03"
      },
      "outputs": [
        {
          "output_type": "execute_result",
          "data": {
            "text/plain": [
              "(454, 360)"
            ]
          },
          "metadata": {},
          "execution_count": 21
        }
      ],
      "source": [
        "X_train[1].shape"
      ]
    },
    {
      "cell_type": "code",
      "execution_count": 22,
      "id": "f4f5fba4",
      "metadata": {
        "id": "f4f5fba4"
      },
      "outputs": [],
      "source": [
        "vgg16 = tf.keras.applications.vgg16.VGG16(\n",
        "    include_top=True,\n",
        "    input_shape=(454, 360, 1),\n",
        "    classes=9,\n",
        "    weights=None\n",
        ")"
      ]
    },
    {
      "cell_type": "code",
      "execution_count": 38,
      "id": "c77c953c",
      "metadata": {
        "id": "c77c953c"
      },
      "outputs": [],
      "source": [
        "vgg16.compile(\n",
        "    loss=tf.keras.losses.CategoricalCrossentropy(),\n",
        "    optimizer=tf.keras.optimizers.Adam(learning_rate=0.00001),\n",
        "    metrics=['accuracy', tf.keras.metrics.Precision(), tf.keras.metrics.Recall()]\n",
        ")"
      ]
    },
    {
      "cell_type": "code",
      "execution_count": 24,
      "id": "d678733e",
      "metadata": {
        "colab": {
          "base_uri": "https://localhost:8080/"
        },
        "id": "d678733e",
        "outputId": "4639fb76-a86c-4061-e537-b9bda6819dd4"
      },
      "outputs": [
        {
          "output_type": "stream",
          "name": "stdout",
          "text": [
            "Epoch 1/8\n",
            "300/300 [==============================] - 172s 526ms/step - loss: 1.6718 - accuracy: 0.3867\n",
            "Epoch 2/8\n",
            "300/300 [==============================] - 158s 527ms/step - loss: 0.9111 - accuracy: 0.6933\n",
            "Epoch 3/8\n",
            "300/300 [==============================] - 158s 526ms/step - loss: 0.6843 - accuracy: 0.7583\n",
            "Epoch 4/8\n",
            "300/300 [==============================] - 158s 526ms/step - loss: 0.4689 - accuracy: 0.8467\n",
            "Epoch 5/8\n",
            "300/300 [==============================] - 158s 526ms/step - loss: 0.3200 - accuracy: 0.8967\n",
            "Epoch 6/8\n",
            "300/300 [==============================] - 158s 526ms/step - loss: 0.2055 - accuracy: 0.9383\n",
            "Epoch 7/8\n",
            "300/300 [==============================] - 158s 525ms/step - loss: 0.2347 - accuracy: 0.9283\n",
            "Epoch 8/8\n",
            "300/300 [==============================] - 158s 525ms/step - loss: 0.1121 - accuracy: 0.9700\n"
          ]
        }
      ],
      "source": [
        "history = vgg16.fit(\n",
        "    X_train,\n",
        "    y_train,\n",
        "    batch_size=2,\n",
        "    epochs=8,\n",
        ")"
      ]
    },
    {
      "cell_type": "code",
      "source": [
        "plt.plot(history.history['accuracy'])\n",
        "plt.title('model accuracy')\n",
        "plt.ylabel('accuracy')\n",
        "plt.xlabel('epoch')\n",
        "plt.legend(['train', 'val'], loc='upper left')\n",
        "plt.show()"
      ],
      "metadata": {
        "colab": {
          "base_uri": "https://localhost:8080/",
          "height": 295
        },
        "id": "_IBeLp6gKxeH",
        "outputId": "329e1df2-a68e-4673-9ec6-bf53df4f7305"
      },
      "id": "_IBeLp6gKxeH",
      "execution_count": 27,
      "outputs": [
        {
          "output_type": "display_data",
          "data": {
            "image/png": "[encoded data removed]",
            "text/plain": [
              "<Figure size 432x288 with 1 Axes>"
            ]
          },
          "metadata": {
            "needs_background": "light"
          }
        }
      ]
    },
    {
      "cell_type": "code",
      "source": [
        "history"
      ],
      "metadata": {
        "colab": {
          "base_uri": "https://localhost:8080/"
        },
        "id": "9H5N7oobL-8G",
        "outputId": "71a57380-819d-4821-c055-0cfe8f951e6b"
      },
      "id": "9H5N7oobL-8G",
      "execution_count": 30,
      "outputs": [
        {
          "output_type": "execute_result",
          "data": {
            "text/plain": [
              "<keras.callbacks.History at 0x7fc288e31990>"
            ]
          },
          "metadata": {},
          "execution_count": 30
        }
      ]
    },
    {
      "cell_type": "code",
      "source": [
        "eval = vgg16.evaluate(X_test, y_test)"
      ],
      "metadata": {
        "colab": {
          "base_uri": "https://localhost:8080/"
        },
        "id": "utLasb9fLjom",
        "outputId": "84d558cd-b6e2-404b-a1d8-ec8b3c2c41b0"
      },
      "id": "utLasb9fLjom",
      "execution_count": 39,
      "outputs": [
        {
          "output_type": "stream",
          "name": "stdout",
          "text": [
            "2/2 [==============================] - 2s 410ms/step - loss: 0.8547 - accuracy: 0.7949 - precision_1: 0.7949 - recall: 0.7949\n"
          ]
        }
      ]
    },
    {
      "cell_type": "code",
      "source": [
        "eval"
      ],
      "metadata": {
        "colab": {
          "base_uri": "https://localhost:8080/"
        },
        "id": "59i_lPEcMAe1",
        "outputId": "be12a8bf-f2f0-4345-abf7-11ef53d69c6a"
      },
      "id": "59i_lPEcMAe1",
      "execution_count": 40,
      "outputs": [
        {
          "output_type": "execute_result",
          "data": {
            "text/plain": [
              "[0.8547302484512329,\n",
              " 0.7948718070983887,\n",
              " 0.7948718070983887,\n",
              " 0.7948718070983887]"
            ]
          },
          "metadata": {},
          "execution_count": 40
        }
      ]
    },
    {
      "cell_type": "code",
      "source": [
        "vgg16.save_weights('/content/drive/MyDrive/Dataset_sketch/weights')"
      ],
      "metadata": {
        "id": "gmG8SBFbDJG5"
      },
      "id": "gmG8SBFbDJG5",
      "execution_count": 25,
      "outputs": []
    }
  ],
  "metadata": {
    "kernelspec": {
      "display_name": "Python 3 (ipykernel)",
      "language": "python",
      "name": "python3"
    },
    "language_info": {
      "codemirror_mode": {
        "name": "ipython",
        "version": 3
      },
      "file_extension": ".py",
      "mimetype": "text/x-python",
      "name": "python",
      "nbconvert_exporter": "python",
      "pygments_lexer": "ipython3",
      "version": "3.9.6"
    },
    "colab": {
      "name": "Train_transform2.ipynb",
      "provenance": [],
      "collapsed_sections": []
    },
    "accelerator": "GPU"
  },
  "nbformat": 4,
  "nbformat_minor": 5
}