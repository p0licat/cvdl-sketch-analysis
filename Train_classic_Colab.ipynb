{
  "cells": [
    {
      "cell_type": "code",
      "execution_count": null,
      "id": "2a3be9cc",
      "metadata": {
        "id": "2a3be9cc"
      },
      "outputs": [],
      "source": [
        "import numpy as np\n",
        "import tensorflow as tf\n",
        "import matplotlib.pyplot as plt\n",
        "from PIL import Image\n",
        "import cv2\n",
        "import os\n",
        "import sys\n",
        "from math import floor, ceil\n",
        "from tensorflow import convert_to_tensor, Tensor, constant\n",
        "import tensorflow as tf\n",
        "import PIL\n",
        "import PIL.ImageOps\n",
        "from matplotlib import cm\n",
        "from skimage.transform import hough_line, hough_line_peaks\n",
        "import numpy as np"
      ]
    },
    {
      "cell_type": "code",
      "source": [
        "from google.colab import drive\n",
        "drive.mount('/content/drive')"
      ],
      "metadata": {
        "colab": {
          "base_uri": "https://localhost:8080/"
        },
        "id": "M13RBe19OfJk",
        "outputId": "aa7830a5-621c-4b9d-d5a6-d50eb724613d"
      },
      "id": "M13RBe19OfJk",
      "execution_count": null,
      "outputs": [
        {
          "output_type": "stream",
          "name": "stdout",
          "text": [
            "Drive already mounted at /content/drive; to attempt to forcibly remount, call drive.mount(\"/content/drive\", force_remount=True).\n"
          ]
        }
      ]
    },
    {
      "cell_type": "code",
      "execution_count": null,
      "id": "76be038b",
      "metadata": {
        "colab": {
          "base_uri": "https://localhost:8080/"
        },
        "id": "76be038b",
        "outputId": "305a3ec2-4c9d-4cdc-b993-9d68b2bdd088"
      },
      "outputs": [
        {
          "output_type": "execute_result",
          "data": {
            "text/plain": [
              "True"
            ]
          },
          "metadata": {},
          "execution_count": 3
        }
      ],
      "source": [
        "os.path.isdir('/content/drive/MyDrive/Dataset_sketch/dataset')"
      ]
    },
    {
      "cell_type": "code",
      "execution_count": null,
      "id": "ee8942b9",
      "metadata": {
        "id": "ee8942b9"
      },
      "outputs": [],
      "source": [
        "imgpaths = {}\n",
        "pth = '/content/drive/MyDrive/Dataset_sketch/dataset/png'\n",
        "for d in os.listdir(pth):\n",
        "    if not os.path.isdir(pth + '/' + d):\n",
        "        continue\n",
        "    for img in os.listdir(pth + '/' +d):\n",
        "        path = '/content/drive/MyDrive/Dataset_sketch/dataset/png/'+d\n",
        "        if d not in imgpaths:\n",
        "            imgpaths[d] = []\n",
        "        imgpaths[d].append(path + '/' + img)"
      ]
    },
    {
      "cell_type": "code",
      "execution_count": null,
      "id": "9b06a444",
      "metadata": {
        "colab": {
          "base_uri": "https://localhost:8080/"
        },
        "id": "9b06a444",
        "outputId": "bd676e7e-f040-4527-f9bd-6c942348f9b9"
      },
      "outputs": [
        {
          "output_type": "execute_result",
          "data": {
            "text/plain": [
              "['arm',\n",
              " 'backpack',\n",
              " 'airplane',\n",
              " 'angel',\n",
              " 'alarm clock',\n",
              " 'axe',\n",
              " 'ashtray',\n",
              " 'armchair',\n",
              " 'apple',\n",
              " 'ant']"
            ]
          },
          "metadata": {},
          "execution_count": 5
        }
      ],
      "source": [
        "list(imgpaths.keys())[:10]"
      ]
    },
    {
      "cell_type": "code",
      "execution_count": null,
      "id": "7bbb222d",
      "metadata": {
        "colab": {
          "base_uri": "https://localhost:8080/"
        },
        "id": "7bbb222d",
        "outputId": "5e207990-48d8-4149-a3b3-507e2ba3f98f"
      },
      "outputs": [
        {
          "output_type": "execute_result",
          "data": {
            "text/plain": [
              "['/content/drive/MyDrive/Dataset_sketch/dataset/png/airplane/4.png',\n",
              " '/content/drive/MyDrive/Dataset_sketch/dataset/png/airplane/16.png',\n",
              " '/content/drive/MyDrive/Dataset_sketch/dataset/png/airplane/21.png',\n",
              " '/content/drive/MyDrive/Dataset_sketch/dataset/png/airplane/22.png',\n",
              " '/content/drive/MyDrive/Dataset_sketch/dataset/png/airplane/46.png',\n",
              " '/content/drive/MyDrive/Dataset_sketch/dataset/png/airplane/27.png',\n",
              " '/content/drive/MyDrive/Dataset_sketch/dataset/png/airplane/37.png',\n",
              " '/content/drive/MyDrive/Dataset_sketch/dataset/png/airplane/44.png',\n",
              " '/content/drive/MyDrive/Dataset_sketch/dataset/png/airplane/43.png',\n",
              " '/content/drive/MyDrive/Dataset_sketch/dataset/png/airplane/40.png']"
            ]
          },
          "metadata": {},
          "execution_count": 6
        }
      ],
      "source": [
        "imgpaths['airplane'][:10]"
      ]
    },
    {
      "cell_type": "code",
      "execution_count": null,
      "id": "b92654f7",
      "metadata": {
        "id": "b92654f7"
      },
      "outputs": [],
      "source": [
        "class DataGenerator(tf.keras.utils.Sequence):\n",
        "    def __init__(self, db_dir, batch_size, input_shape, num_classes=None, \n",
        "                 shuffle=True, dir_classes=False, grayscale=True):\n",
        "\n",
        "        self.current_counter = 0\n",
        "        self.label_dict = {}\n",
        "\n",
        "        self.input_shape = input_shape\n",
        "        self.batch_size = batch_size\n",
        "        self.num_classes = num_classes\n",
        "        self.shuffle = shuffle\n",
        "        \n",
        "        # load the data from the root directory\n",
        "        self.data, self.labels = self.get_data(db_dir)\n",
        "        self.indices = np.arange(len(self.data))\n",
        "        self.on_epoch_end()\n",
        "        self.grayscale = grayscale\n",
        "\n",
        "\n",
        "    def get_data(self, root_dir):\n",
        "        \"\"\"\"\n",
        "        Loads the paths to the images and their corresponding labels from the database directory\n",
        "        \"\"\"\n",
        "        self.data = []\n",
        "        self.labels = []\n",
        "\n",
        "        labels_list = dict() # used to initialize label ids, for one-hot repr.\n",
        "        \n",
        "        imgpaths = {}\n",
        "        path = root_dir\n",
        "        pth = path\n",
        "        \n",
        "        labels_list_id = 0\n",
        "        for d in os.listdir(pth)[:9]: # remove this\n",
        "            \n",
        "            # initialize ids for one-hot vector\n",
        "            labels_list[d] = labels_list_id\n",
        "            labels_list_id += 1\n",
        "            #\n",
        "            \n",
        "            if not os.path.isdir(pth + '/' + d):\n",
        "                continue\n",
        "            for img in os.listdir(pth + '/' + d):\n",
        "                path = '/content/drive/MyDrive/Dataset_sketch/dataset/png/'+ d\n",
        "                if d not in imgpaths:\n",
        "                    imgpaths[d] = []\n",
        "                imgpaths[d].append(path + '/' + img)\n",
        "                \n",
        "        for i in imgpaths.keys():\n",
        "            for j in imgpaths[i]:\n",
        "                self.data.append(j)\n",
        "                self.labels.append(tf.one_hot(labels_list[i], depth=len(os.listdir(pth)[:9])))\n",
        "\n",
        "        return self.data, self.labels\n",
        "\n",
        "    def __len__(self):\n",
        "        \"\"\"\n",
        "        Returns the number of batches per epoch: the total size of the dataset divided by the batch size\n",
        "        \"\"\"\n",
        "        return int(np.floor(len(self.data) / self.batch_size))\n",
        "        # TODO your code  here (size of dataset divided by the batch size)\n",
        "        return 0\n",
        "    \n",
        "    def vec_to_tensor(self, v):\n",
        "      return constant(v)\n",
        "    \n",
        "    \"\"\"\n",
        "        Preprocesses before outputting to .fit()\n",
        "        This can mean: reshape, channel count check, mean subtraction and std. dev division.\n",
        "    \"\"\"\n",
        "    def batch_to_train(self, batch_x, batch_y):\n",
        "        x_train = [self.vec_to_tensor(x) for x in batch_x]\n",
        "        y_train = [self.vec_to_tensor(x) for x in batch_y]\n",
        "\n",
        "        #print(self.input_shape)\n",
        "        x_train = [cv2.resize(np.array(i), (self.input_shape[0], self.input_shape[1])) for i in x_train]\n",
        "        x_train2 = []\n",
        "        y_train2 = []\n",
        "\n",
        "        for i in range(len(x_train)):\n",
        "          if (x_train[i].shape[0] == self.input_shape[0] and x_train[i].shape[1] == self.input_shape[1]):\n",
        "            x_train2.append(x_train[i])\n",
        "            y_train2.append([y_train[i].numpy(), 0 if y_train[i].numpy() == 1 else 1])\n",
        "\n",
        "        y_test = y_train2[:floor(1/5 * self.batch_size)]\n",
        "        x_test = x_train2[:floor(1/5 * self.batch_size)]\n",
        "\n",
        "        x_train = x_train2[ceil(1/5 * self.batch_size + 1):]\n",
        "        y_train = y_train2[ceil(1/5 * self.batch_size + 1):]\n",
        "\n",
        "        \n",
        "        \n",
        "        x_train = np.array(x_train)\n",
        "        y_train = np.array(y_train)\n",
        "\n",
        "        \n",
        "        x_test = np.array(x_test)\n",
        "        y_test = np.array(y_test)\n",
        "        \n",
        "        print(x_train.shape)\n",
        "        \n",
        "        return x_train, y_train\n",
        "\n",
        "    def __getitem__(self, index):\n",
        "        \"\"\"\"\n",
        "        Generates a batch of data\n",
        "        Note: computation intensivity\n",
        "        \"\"\"\n",
        "\n",
        "        batch_indices = self.indices[index*self.batch_size : (index+1)*self.batch_size]\n",
        "        \n",
        "        batch_x = [] # TODO load the image(s) from batch_indices\n",
        "        batch_y = [] # TODO load the corresponding labels of the images you loaded\n",
        "\n",
        "        for i in batch_indices:\n",
        "          ci = self.data[i]\n",
        "          cl = self.labels[i]\n",
        "            \n",
        "          cd = Image.open(ci) #.convert('L')\n",
        "          inverted_image = PIL.ImageOps.invert(cd)\n",
        "          cd = np.array(inverted_image)\n",
        "\n",
        "          if self.grayscale:\n",
        "            cd = cv2.resize(cd, (self.input_shape[0], self.input_shape[1]))\n",
        "          else:\n",
        "            cd = cv2.resize(cd, (self.input_shape[0], self.input_shape[1]))\n",
        "            cdc = cd.copy()\n",
        "            cd = np.reshape(cd, (self.input_shape[0], self.input_shape[1], 1))\n",
        "            cd = np.append(cd, cd, axis=2)\n",
        "            cd = np.append(cd, np.reshape(cdc, (self.input_shape[0], self.input_shape[1], 1)), axis=2)\n",
        "            \n",
        "          batch_x.append(cd)\n",
        "          batch_y.append(cl)\n",
        "        \n",
        "        \n",
        "        return np.array(batch_x), batch_y\n",
        "\n",
        "    def on_epoch_end(self):\n",
        "        \"\"\"\"\n",
        "        Called at the end of each epoch\n",
        "        \"\"\"\n",
        "        self.indices = np.arange(len(self.data))\n",
        "        if self.shuffle:\n",
        "            np.random.shuffle(self.indices)"
      ]
    },
    {
      "cell_type": "code",
      "execution_count": null,
      "id": "c80cd578",
      "metadata": {
        "id": "c80cd578"
      },
      "outputs": [],
      "source": [
        "class DataVisualizer:\n",
        "    @staticmethod\n",
        "    def plot_batch(vec, count=1):\n",
        "        fig, axes = plt.subplots(nrows=1, ncols=4, figsize=[16, 16], dpi=(200))\n",
        "        for i in range(len(axes)):\n",
        "            axes[i].imshow(vec[i], cmap=plt.get_cmap('gray'), vmin=0, vmax=255., interpolation=\"none\")\n",
        "        plt.show()"
      ]
    },
    {
      "cell_type": "code",
      "execution_count": null,
      "id": "e100e02b",
      "metadata": {
        "id": "e100e02b"
      },
      "outputs": [],
      "source": [
        "d = DataGenerator(\n",
        "    db_dir='/content/drive/MyDrive/Dataset_sketch/dataset/png',\n",
        "    batch_size=12,\n",
        "    input_shape=(454, 360),\n",
        "    dir_classes=True\n",
        ")"
      ]
    },
    {
      "cell_type": "code",
      "execution_count": null,
      "id": "47b13c6c",
      "metadata": {
        "id": "47b13c6c"
      },
      "outputs": [],
      "source": [
        "batch = d[0]"
      ]
    },
    {
      "cell_type": "code",
      "execution_count": null,
      "id": "9e911d07",
      "metadata": {
        "id": "9e911d07"
      },
      "outputs": [],
      "source": [
        "one_img = batch[0][0]"
      ]
    },
    {
      "cell_type": "code",
      "execution_count": null,
      "id": "dee26359",
      "metadata": {
        "scrolled": true,
        "colab": {
          "base_uri": "https://localhost:8080/",
          "height": 173
        },
        "id": "dee26359",
        "outputId": "5a83453e-ee93-41c8-a183-1e6060b962a6"
      },
      "outputs": [
        {
          "output_type": "display_data",
          "data": {
            "image/png": "[encoded data removed]",
            "text/plain": [
              "<Figure size 3200x3200 with 4 Axes>"
            ]
          },
          "metadata": {
            "needs_background": "light"
          }
        }
      ],
      "source": [
        "DataVisualizer.plot_batch([one_img, one_img, one_img, one_img], count=1)"
      ]
    },
    {
      "cell_type": "code",
      "execution_count": null,
      "id": "883a3d35",
      "metadata": {
        "id": "883a3d35"
      },
      "outputs": [],
      "source": [
        "d = DataGenerator(\n",
        "    db_dir='/content/drive/MyDrive/Dataset_sketch/dataset/png',\n",
        "    batch_size=1500,\n",
        "    input_shape=(454, 360),\n",
        "    dir_classes=True\n",
        ")"
      ]
    },
    {
      "cell_type": "code",
      "execution_count": null,
      "id": "aec91f58",
      "metadata": {
        "id": "aec91f58"
      },
      "outputs": [],
      "source": [
        "vx = d[0]"
      ]
    },
    {
      "cell_type": "code",
      "execution_count": null,
      "id": "571fa1ce",
      "metadata": {
        "id": "571fa1ce"
      },
      "outputs": [],
      "source": [
        "X_train = vx[0]\n",
        "y_train = np.array(vx[1])\n",
        "X_test = X_train[601:]\n",
        "y_test = y_train[601:]\n",
        "X_train = X_train[:600]\n",
        "y_train = y_train[:600]"
      ]
    },
    {
      "cell_type": "code",
      "execution_count": null,
      "id": "8c168290",
      "metadata": {
        "id": "8c168290"
      },
      "outputs": [],
      "source": [
        "vgg16 = tf.keras.applications.vgg16.VGG16(\n",
        "    include_top=True,\n",
        "    input_shape=(360, 454, 1),\n",
        "    classes=9,\n",
        "    weights=None\n",
        ")"
      ]
    },
    {
      "cell_type": "code",
      "execution_count": null,
      "id": "087fc597",
      "metadata": {
        "id": "087fc597"
      },
      "outputs": [],
      "source": [
        "vgg16.compile(\n",
        "    loss=tf.keras.losses.CategoricalCrossentropy(),\n",
        "    optimizer=tf.keras.optimizers.Adam(learning_rate=0.00001),\n",
        "    metrics=['accuracy', tf.keras.metrics.Precision(), tf.keras.metrics.Recall()]\n",
        ")"
      ]
    },
    {
      "cell_type": "code",
      "execution_count": null,
      "id": "803e4e65",
      "metadata": {
        "colab": {
          "base_uri": "https://localhost:8080/"
        },
        "id": "803e4e65",
        "outputId": "1f487d1b-04ae-48ef-9771-f7c7faa808e0"
      },
      "outputs": [
        {
          "output_type": "stream",
          "name": "stdout",
          "text": [
            "Epoch 1/8\n",
            "75/75 [==============================] - 102s 1s/step - loss: 1.4997 - accuracy: 0.4517 - precision: 0.6950 - recall: 0.2317\n",
            "Epoch 2/8\n",
            "75/75 [==============================] - 87s 1s/step - loss: 0.8619 - accuracy: 0.7100 - precision: 0.7885 - recall: 0.6150\n",
            "Epoch 3/8\n",
            "75/75 [==============================] - 86s 1s/step - loss: 0.5821 - accuracy: 0.8133 - precision: 0.8590 - recall: 0.7617\n",
            "Epoch 4/8\n",
            "75/75 [==============================] - 87s 1s/step - loss: 0.2888 - accuracy: 0.9133 - precision: 0.9306 - recall: 0.8933\n",
            "Epoch 5/8\n",
            "75/75 [==============================] - 86s 1s/step - loss: 0.1285 - accuracy: 0.9583 - precision: 0.9630 - recall: 0.9550\n",
            "Epoch 6/8\n",
            "75/75 [==============================] - 86s 1s/step - loss: 0.0985 - accuracy: 0.9600 - precision: 0.9648 - recall: 0.9583\n",
            "Epoch 7/8\n",
            "75/75 [==============================] - 86s 1s/step - loss: 0.0883 - accuracy: 0.9700 - precision: 0.9732 - recall: 0.9667\n",
            "Epoch 8/8\n",
            "75/75 [==============================] - 86s 1s/step - loss: 0.0317 - accuracy: 0.9883 - precision: 0.9883 - recall: 0.9883\n"
          ]
        }
      ],
      "source": [
        "history = vgg16.fit(\n",
        "    X_train,\n",
        "    y_train,\n",
        "    batch_size=8,\n",
        "    epochs=8,\n",
        ")"
      ]
    },
    {
      "cell_type": "code",
      "source": [
        "vgg16.save_weights('/content/drive/MyDrive/Dataset_sketch/weights_normal/depth')"
      ],
      "metadata": {
        "id": "-wYSWhpZQVlT"
      },
      "id": "-wYSWhpZQVlT",
      "execution_count": null,
      "outputs": []
    },
    {
      "cell_type": "code",
      "source": [
        "plt.plot(history.history['accuracy'])\n",
        "plt.title('model accuracy')\n",
        "plt.ylabel('accuracy')\n",
        "plt.xlabel('epoch')\n",
        "plt.legend(['train', 'val'], loc='upper left')\n",
        "plt.show()"
      ],
      "metadata": {
        "colab": {
          "base_uri": "https://localhost:8080/",
          "height": 295
        },
        "id": "0qDfgh66QQkl",
        "outputId": "e2576f89-eee8-4900-a22e-d97db93973f5"
      },
      "id": "0qDfgh66QQkl",
      "execution_count": null,
      "outputs": [
        {
          "output_type": "display_data",
          "data": {
            "image/png": "[encoded data removed]",
            "text/plain": [
              "<Figure size 432x288 with 1 Axes>"
            ]
          },
          "metadata": {
            "needs_background": "light"
          }
        }
      ]
    },
    {
      "cell_type": "code",
      "source": [
        "eval = vgg16.evaluate(X_test, y_test)\n",
        "eval"
      ],
      "metadata": {
        "colab": {
          "base_uri": "https://localhost:8080/"
        },
        "id": "tmNjARiKQTHz",
        "outputId": "e233cc25-68f8-4553-a940-8695f282950b"
      },
      "id": "tmNjARiKQTHz",
      "execution_count": null,
      "outputs": [
        {
          "output_type": "stream",
          "name": "stdout",
          "text": [
            "2/2 [==============================] - 30s 8s/step - loss: 1.4515 - accuracy: 0.6923 - precision: 0.7105 - recall: 0.6923\n"
          ]
        },
        {
          "output_type": "execute_result",
          "data": {
            "text/plain": [
              "[1.4515132904052734, 0.692307710647583, 0.7105262875556946, 0.692307710647583]"
            ]
          },
          "metadata": {},
          "execution_count": 21
        }
      ]
    }
  ],
  "metadata": {
    "kernelspec": {
      "display_name": "Python 3 (ipykernel)",
      "language": "python",
      "name": "python3"
    },
    "language_info": {
      "codemirror_mode": {
        "name": "ipython",
        "version": 3
      },
      "file_extension": ".py",
      "mimetype": "text/x-python",
      "name": "python",
      "nbconvert_exporter": "python",
      "pygments_lexer": "ipython3",
      "version": "3.9.6"
    },
    "colab": {
      "name": "Train_classic.ipynb",
      "provenance": []
    },
    "accelerator": "GPU"
  },
  "nbformat": 4,
  "nbformat_minor": 5
}